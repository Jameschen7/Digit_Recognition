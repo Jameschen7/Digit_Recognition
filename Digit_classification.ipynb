{
  "nbformat": 4,
  "nbformat_minor": 0,
  "metadata": {
    "kernelspec": {
      "display_name": "Python 3",
      "language": "python",
      "name": "python3"
    },
    "language_info": {
      "codemirror_mode": {
        "name": "ipython",
        "version": 3
      },
      "file_extension": ".py",
      "mimetype": "text/x-python",
      "name": "python",
      "nbconvert_exporter": "python",
      "pygments_lexer": "ipython3",
      "version": "3.7.2"
    },
    "colab": {
      "name": "Digit classification.ipynb",
      "provenance": [],
      "collapsed_sections": [],
      "toc_visible": true,
      "include_colab_link": true
    },
    "accelerator": "GPU"
  },
  "cells": [
    {
      "cell_type": "markdown",
      "metadata": {
        "id": "view-in-github",
        "colab_type": "text"
      },
      "source": [
        "<a href=\"https://colab.research.google.com/github/Jameschen7/Digit_Recognition/blob/master/Digit_classification.ipynb\" target=\"_parent\"><img src=\"https://colab.research.google.com/assets/colab-badge.svg\" alt=\"Open In Colab\"/></a>"
      ]
    },
    {
      "cell_type": "markdown",
      "metadata": {
        "id": "KIMa-oOqNpDJ",
        "colab_type": "text"
      },
      "source": [
        "# Digit recognition competition"
      ]
    },
    {
      "cell_type": "markdown",
      "metadata": {
        "id": "SD3i4MU1x3DS",
        "colab_type": "text"
      },
      "source": [
        "## Dataset Overview"
      ]
    },
    {
      "cell_type": "code",
      "metadata": {
        "id": "dGfW1odhNw6m",
        "colab_type": "code",
        "outputId": "b176dddf-db0f-49d7-ffc5-e13f75b63c77",
        "colab": {
          "base_uri": "https://localhost:8080/",
          "height": 122
        }
      },
      "source": [
        "from google.colab import drive\n",
        "drive.mount('/content/drive')"
      ],
      "execution_count": 2,
      "outputs": [
        {
          "output_type": "stream",
          "text": [
            "Go to this URL in a browser: https://accounts.google.com/o/oauth2/auth?client_id=947318989803-6bn6qk8qdgf4n4g3pfee6491hc0brc4i.apps.googleusercontent.com&redirect_uri=urn%3aietf%3awg%3aoauth%3a2.0%3aoob&response_type=code&scope=email%20https%3a%2f%2fwww.googleapis.com%2fauth%2fdocs.test%20https%3a%2f%2fwww.googleapis.com%2fauth%2fdrive%20https%3a%2f%2fwww.googleapis.com%2fauth%2fdrive.photos.readonly%20https%3a%2f%2fwww.googleapis.com%2fauth%2fpeopleapi.readonly\n",
            "\n",
            "Enter your authorization code:\n",
            "··········\n",
            "Mounted at /content/drive\n"
          ],
          "name": "stdout"
        }
      ]
    },
    {
      "cell_type": "code",
      "metadata": {
        "id": "tRR17WJqNpDL",
        "colab_type": "code",
        "colab": {
          "base_uri": "https://localhost:8080/",
          "height": 88
        },
        "outputId": "ec9aacd4-e7fd-41ef-8ef3-866c48d435f3"
      },
      "source": [
        "import pandas as pd\n",
        "import numpy as np\n",
        "import os\n",
        "import matplotlib.pyplot as plt\n",
        "import seaborn as sns\n",
        "\n",
        "from sklearn.model_selection import train_test_split\n",
        "from sklearn.metrics import confusion_matrix\n",
        "from sklearn.utils import shuffle\n",
        "\n",
        "from keras.utils.np_utils import to_categorical\n",
        "from keras.models import Sequential\n",
        "from keras.layers import Dense, Flatten, Conv2D, Dropout, MaxPooling2D\n",
        "from keras.preprocessing.image import ImageDataGenerator\n",
        "from keras.callbacks import ReduceLROnPlateau"
      ],
      "execution_count": 3,
      "outputs": [
        {
          "output_type": "stream",
          "text": [
            "/usr/local/lib/python3.6/dist-packages/statsmodels/tools/_testing.py:19: FutureWarning: pandas.util.testing is deprecated. Use the functions in the public API at pandas.testing instead.\n",
            "  import pandas.util.testing as tm\n",
            "Using TensorFlow backend.\n"
          ],
          "name": "stderr"
        }
      ]
    },
    {
      "cell_type": "code",
      "metadata": {
        "id": "sR1MYDHuNpDk",
        "colab_type": "code",
        "colab": {}
      },
      "source": [
        "# data_dir = \"data\"?\n",
        "# train_fp = os.path.join(os.path.curdir, data_dir, \"train.csv\")\n",
        "# test_fp = os.path.join(data_dir, \"test.csv\")\n",
        "train_fp = \"/content/drive/My Drive/Colab Notebooks/Digit Recognition/data/train.csv\"\n",
        "test_fp = \"/content/drive/My Drive/Colab Notebooks/Digit Recognition/data/test.csv\" "
      ],
      "execution_count": 0,
      "outputs": []
    },
    {
      "cell_type": "code",
      "metadata": {
        "id": "WoMxqABaOEBM",
        "colab_type": "code",
        "outputId": "22211f5c-550e-4f8d-c33a-5d899ddd813f",
        "colab": {
          "base_uri": "https://localhost:8080/",
          "height": 34
        }
      },
      "source": [
        "train_fp"
      ],
      "execution_count": 5,
      "outputs": [
        {
          "output_type": "execute_result",
          "data": {
            "text/plain": [
              "'/content/drive/My Drive/Colab Notebooks/Digit Recognition/data/train.csv'"
            ]
          },
          "metadata": {
            "tags": []
          },
          "execution_count": 5
        }
      ]
    },
    {
      "cell_type": "code",
      "metadata": {
        "scrolled": true,
        "id": "feV7MfDhNpEC",
        "colab_type": "code",
        "outputId": "c5f64b5c-6256-4df8-cf40-ce91c987fa88",
        "colab": {
          "base_uri": "https://localhost:8080/",
          "height": 439
        }
      },
      "source": [
        "train_df = pd.read_csv(train_fp)\n",
        "train_df"
      ],
      "execution_count": 6,
      "outputs": [
        {
          "output_type": "execute_result",
          "data": {
            "text/html": [
              "<div>\n",
              "<style scoped>\n",
              "    .dataframe tbody tr th:only-of-type {\n",
              "        vertical-align: middle;\n",
              "    }\n",
              "\n",
              "    .dataframe tbody tr th {\n",
              "        vertical-align: top;\n",
              "    }\n",
              "\n",
              "    .dataframe thead th {\n",
              "        text-align: right;\n",
              "    }\n",
              "</style>\n",
              "<table border=\"1\" class=\"dataframe\">\n",
              "  <thead>\n",
              "    <tr style=\"text-align: right;\">\n",
              "      <th></th>\n",
              "      <th>label</th>\n",
              "      <th>pixel0</th>\n",
              "      <th>pixel1</th>\n",
              "      <th>pixel2</th>\n",
              "      <th>pixel3</th>\n",
              "      <th>pixel4</th>\n",
              "      <th>pixel5</th>\n",
              "      <th>pixel6</th>\n",
              "      <th>pixel7</th>\n",
              "      <th>pixel8</th>\n",
              "      <th>pixel9</th>\n",
              "      <th>pixel10</th>\n",
              "      <th>pixel11</th>\n",
              "      <th>pixel12</th>\n",
              "      <th>pixel13</th>\n",
              "      <th>pixel14</th>\n",
              "      <th>pixel15</th>\n",
              "      <th>pixel16</th>\n",
              "      <th>pixel17</th>\n",
              "      <th>pixel18</th>\n",
              "      <th>pixel19</th>\n",
              "      <th>pixel20</th>\n",
              "      <th>pixel21</th>\n",
              "      <th>pixel22</th>\n",
              "      <th>pixel23</th>\n",
              "      <th>pixel24</th>\n",
              "      <th>pixel25</th>\n",
              "      <th>pixel26</th>\n",
              "      <th>pixel27</th>\n",
              "      <th>pixel28</th>\n",
              "      <th>pixel29</th>\n",
              "      <th>pixel30</th>\n",
              "      <th>pixel31</th>\n",
              "      <th>pixel32</th>\n",
              "      <th>pixel33</th>\n",
              "      <th>pixel34</th>\n",
              "      <th>pixel35</th>\n",
              "      <th>pixel36</th>\n",
              "      <th>pixel37</th>\n",
              "      <th>pixel38</th>\n",
              "      <th>...</th>\n",
              "      <th>pixel744</th>\n",
              "      <th>pixel745</th>\n",
              "      <th>pixel746</th>\n",
              "      <th>pixel747</th>\n",
              "      <th>pixel748</th>\n",
              "      <th>pixel749</th>\n",
              "      <th>pixel750</th>\n",
              "      <th>pixel751</th>\n",
              "      <th>pixel752</th>\n",
              "      <th>pixel753</th>\n",
              "      <th>pixel754</th>\n",
              "      <th>pixel755</th>\n",
              "      <th>pixel756</th>\n",
              "      <th>pixel757</th>\n",
              "      <th>pixel758</th>\n",
              "      <th>pixel759</th>\n",
              "      <th>pixel760</th>\n",
              "      <th>pixel761</th>\n",
              "      <th>pixel762</th>\n",
              "      <th>pixel763</th>\n",
              "      <th>pixel764</th>\n",
              "      <th>pixel765</th>\n",
              "      <th>pixel766</th>\n",
              "      <th>pixel767</th>\n",
              "      <th>pixel768</th>\n",
              "      <th>pixel769</th>\n",
              "      <th>pixel770</th>\n",
              "      <th>pixel771</th>\n",
              "      <th>pixel772</th>\n",
              "      <th>pixel773</th>\n",
              "      <th>pixel774</th>\n",
              "      <th>pixel775</th>\n",
              "      <th>pixel776</th>\n",
              "      <th>pixel777</th>\n",
              "      <th>pixel778</th>\n",
              "      <th>pixel779</th>\n",
              "      <th>pixel780</th>\n",
              "      <th>pixel781</th>\n",
              "      <th>pixel782</th>\n",
              "      <th>pixel783</th>\n",
              "    </tr>\n",
              "  </thead>\n",
              "  <tbody>\n",
              "    <tr>\n",
              "      <th>0</th>\n",
              "      <td>1</td>\n",
              "      <td>0</td>\n",
              "      <td>0</td>\n",
              "      <td>0</td>\n",
              "      <td>0</td>\n",
              "      <td>0</td>\n",
              "      <td>0</td>\n",
              "      <td>0</td>\n",
              "      <td>0</td>\n",
              "      <td>0</td>\n",
              "      <td>0</td>\n",
              "      <td>0</td>\n",
              "      <td>0</td>\n",
              "      <td>0</td>\n",
              "      <td>0</td>\n",
              "      <td>0</td>\n",
              "      <td>0</td>\n",
              "      <td>0</td>\n",
              "      <td>0</td>\n",
              "      <td>0</td>\n",
              "      <td>0</td>\n",
              "      <td>0</td>\n",
              "      <td>0</td>\n",
              "      <td>0</td>\n",
              "      <td>0</td>\n",
              "      <td>0</td>\n",
              "      <td>0</td>\n",
              "      <td>0</td>\n",
              "      <td>0</td>\n",
              "      <td>0</td>\n",
              "      <td>0</td>\n",
              "      <td>0</td>\n",
              "      <td>0</td>\n",
              "      <td>0</td>\n",
              "      <td>0</td>\n",
              "      <td>0</td>\n",
              "      <td>0</td>\n",
              "      <td>0</td>\n",
              "      <td>0</td>\n",
              "      <td>0</td>\n",
              "      <td>...</td>\n",
              "      <td>0</td>\n",
              "      <td>0</td>\n",
              "      <td>0</td>\n",
              "      <td>0</td>\n",
              "      <td>0</td>\n",
              "      <td>0</td>\n",
              "      <td>0</td>\n",
              "      <td>0</td>\n",
              "      <td>0</td>\n",
              "      <td>0</td>\n",
              "      <td>0</td>\n",
              "      <td>0</td>\n",
              "      <td>0</td>\n",
              "      <td>0</td>\n",
              "      <td>0</td>\n",
              "      <td>0</td>\n",
              "      <td>0</td>\n",
              "      <td>0</td>\n",
              "      <td>0</td>\n",
              "      <td>0</td>\n",
              "      <td>0</td>\n",
              "      <td>0</td>\n",
              "      <td>0</td>\n",
              "      <td>0</td>\n",
              "      <td>0</td>\n",
              "      <td>0</td>\n",
              "      <td>0</td>\n",
              "      <td>0</td>\n",
              "      <td>0</td>\n",
              "      <td>0</td>\n",
              "      <td>0</td>\n",
              "      <td>0</td>\n",
              "      <td>0</td>\n",
              "      <td>0</td>\n",
              "      <td>0</td>\n",
              "      <td>0</td>\n",
              "      <td>0</td>\n",
              "      <td>0</td>\n",
              "      <td>0</td>\n",
              "      <td>0</td>\n",
              "    </tr>\n",
              "    <tr>\n",
              "      <th>1</th>\n",
              "      <td>0</td>\n",
              "      <td>0</td>\n",
              "      <td>0</td>\n",
              "      <td>0</td>\n",
              "      <td>0</td>\n",
              "      <td>0</td>\n",
              "      <td>0</td>\n",
              "      <td>0</td>\n",
              "      <td>0</td>\n",
              "      <td>0</td>\n",
              "      <td>0</td>\n",
              "      <td>0</td>\n",
              "      <td>0</td>\n",
              "      <td>0</td>\n",
              "      <td>0</td>\n",
              "      <td>0</td>\n",
              "      <td>0</td>\n",
              "      <td>0</td>\n",
              "      <td>0</td>\n",
              "      <td>0</td>\n",
              "      <td>0</td>\n",
              "      <td>0</td>\n",
              "      <td>0</td>\n",
              "      <td>0</td>\n",
              "      <td>0</td>\n",
              "      <td>0</td>\n",
              "      <td>0</td>\n",
              "      <td>0</td>\n",
              "      <td>0</td>\n",
              "      <td>0</td>\n",
              "      <td>0</td>\n",
              "      <td>0</td>\n",
              "      <td>0</td>\n",
              "      <td>0</td>\n",
              "      <td>0</td>\n",
              "      <td>0</td>\n",
              "      <td>0</td>\n",
              "      <td>0</td>\n",
              "      <td>0</td>\n",
              "      <td>0</td>\n",
              "      <td>...</td>\n",
              "      <td>0</td>\n",
              "      <td>0</td>\n",
              "      <td>0</td>\n",
              "      <td>0</td>\n",
              "      <td>0</td>\n",
              "      <td>0</td>\n",
              "      <td>0</td>\n",
              "      <td>0</td>\n",
              "      <td>0</td>\n",
              "      <td>0</td>\n",
              "      <td>0</td>\n",
              "      <td>0</td>\n",
              "      <td>0</td>\n",
              "      <td>0</td>\n",
              "      <td>0</td>\n",
              "      <td>0</td>\n",
              "      <td>0</td>\n",
              "      <td>0</td>\n",
              "      <td>0</td>\n",
              "      <td>0</td>\n",
              "      <td>0</td>\n",
              "      <td>0</td>\n",
              "      <td>0</td>\n",
              "      <td>0</td>\n",
              "      <td>0</td>\n",
              "      <td>0</td>\n",
              "      <td>0</td>\n",
              "      <td>0</td>\n",
              "      <td>0</td>\n",
              "      <td>0</td>\n",
              "      <td>0</td>\n",
              "      <td>0</td>\n",
              "      <td>0</td>\n",
              "      <td>0</td>\n",
              "      <td>0</td>\n",
              "      <td>0</td>\n",
              "      <td>0</td>\n",
              "      <td>0</td>\n",
              "      <td>0</td>\n",
              "      <td>0</td>\n",
              "    </tr>\n",
              "    <tr>\n",
              "      <th>2</th>\n",
              "      <td>1</td>\n",
              "      <td>0</td>\n",
              "      <td>0</td>\n",
              "      <td>0</td>\n",
              "      <td>0</td>\n",
              "      <td>0</td>\n",
              "      <td>0</td>\n",
              "      <td>0</td>\n",
              "      <td>0</td>\n",
              "      <td>0</td>\n",
              "      <td>0</td>\n",
              "      <td>0</td>\n",
              "      <td>0</td>\n",
              "      <td>0</td>\n",
              "      <td>0</td>\n",
              "      <td>0</td>\n",
              "      <td>0</td>\n",
              "      <td>0</td>\n",
              "      <td>0</td>\n",
              "      <td>0</td>\n",
              "      <td>0</td>\n",
              "      <td>0</td>\n",
              "      <td>0</td>\n",
              "      <td>0</td>\n",
              "      <td>0</td>\n",
              "      <td>0</td>\n",
              "      <td>0</td>\n",
              "      <td>0</td>\n",
              "      <td>0</td>\n",
              "      <td>0</td>\n",
              "      <td>0</td>\n",
              "      <td>0</td>\n",
              "      <td>0</td>\n",
              "      <td>0</td>\n",
              "      <td>0</td>\n",
              "      <td>0</td>\n",
              "      <td>0</td>\n",
              "      <td>0</td>\n",
              "      <td>0</td>\n",
              "      <td>0</td>\n",
              "      <td>...</td>\n",
              "      <td>0</td>\n",
              "      <td>0</td>\n",
              "      <td>0</td>\n",
              "      <td>0</td>\n",
              "      <td>0</td>\n",
              "      <td>0</td>\n",
              "      <td>0</td>\n",
              "      <td>0</td>\n",
              "      <td>0</td>\n",
              "      <td>0</td>\n",
              "      <td>0</td>\n",
              "      <td>0</td>\n",
              "      <td>0</td>\n",
              "      <td>0</td>\n",
              "      <td>0</td>\n",
              "      <td>0</td>\n",
              "      <td>0</td>\n",
              "      <td>0</td>\n",
              "      <td>0</td>\n",
              "      <td>0</td>\n",
              "      <td>0</td>\n",
              "      <td>0</td>\n",
              "      <td>0</td>\n",
              "      <td>0</td>\n",
              "      <td>0</td>\n",
              "      <td>0</td>\n",
              "      <td>0</td>\n",
              "      <td>0</td>\n",
              "      <td>0</td>\n",
              "      <td>0</td>\n",
              "      <td>0</td>\n",
              "      <td>0</td>\n",
              "      <td>0</td>\n",
              "      <td>0</td>\n",
              "      <td>0</td>\n",
              "      <td>0</td>\n",
              "      <td>0</td>\n",
              "      <td>0</td>\n",
              "      <td>0</td>\n",
              "      <td>0</td>\n",
              "    </tr>\n",
              "    <tr>\n",
              "      <th>3</th>\n",
              "      <td>4</td>\n",
              "      <td>0</td>\n",
              "      <td>0</td>\n",
              "      <td>0</td>\n",
              "      <td>0</td>\n",
              "      <td>0</td>\n",
              "      <td>0</td>\n",
              "      <td>0</td>\n",
              "      <td>0</td>\n",
              "      <td>0</td>\n",
              "      <td>0</td>\n",
              "      <td>0</td>\n",
              "      <td>0</td>\n",
              "      <td>0</td>\n",
              "      <td>0</td>\n",
              "      <td>0</td>\n",
              "      <td>0</td>\n",
              "      <td>0</td>\n",
              "      <td>0</td>\n",
              "      <td>0</td>\n",
              "      <td>0</td>\n",
              "      <td>0</td>\n",
              "      <td>0</td>\n",
              "      <td>0</td>\n",
              "      <td>0</td>\n",
              "      <td>0</td>\n",
              "      <td>0</td>\n",
              "      <td>0</td>\n",
              "      <td>0</td>\n",
              "      <td>0</td>\n",
              "      <td>0</td>\n",
              "      <td>0</td>\n",
              "      <td>0</td>\n",
              "      <td>0</td>\n",
              "      <td>0</td>\n",
              "      <td>0</td>\n",
              "      <td>0</td>\n",
              "      <td>0</td>\n",
              "      <td>0</td>\n",
              "      <td>0</td>\n",
              "      <td>...</td>\n",
              "      <td>0</td>\n",
              "      <td>0</td>\n",
              "      <td>0</td>\n",
              "      <td>0</td>\n",
              "      <td>0</td>\n",
              "      <td>0</td>\n",
              "      <td>0</td>\n",
              "      <td>0</td>\n",
              "      <td>0</td>\n",
              "      <td>0</td>\n",
              "      <td>0</td>\n",
              "      <td>0</td>\n",
              "      <td>0</td>\n",
              "      <td>0</td>\n",
              "      <td>0</td>\n",
              "      <td>0</td>\n",
              "      <td>0</td>\n",
              "      <td>0</td>\n",
              "      <td>0</td>\n",
              "      <td>0</td>\n",
              "      <td>0</td>\n",
              "      <td>0</td>\n",
              "      <td>0</td>\n",
              "      <td>0</td>\n",
              "      <td>0</td>\n",
              "      <td>0</td>\n",
              "      <td>0</td>\n",
              "      <td>0</td>\n",
              "      <td>0</td>\n",
              "      <td>0</td>\n",
              "      <td>0</td>\n",
              "      <td>0</td>\n",
              "      <td>0</td>\n",
              "      <td>0</td>\n",
              "      <td>0</td>\n",
              "      <td>0</td>\n",
              "      <td>0</td>\n",
              "      <td>0</td>\n",
              "      <td>0</td>\n",
              "      <td>0</td>\n",
              "    </tr>\n",
              "    <tr>\n",
              "      <th>4</th>\n",
              "      <td>0</td>\n",
              "      <td>0</td>\n",
              "      <td>0</td>\n",
              "      <td>0</td>\n",
              "      <td>0</td>\n",
              "      <td>0</td>\n",
              "      <td>0</td>\n",
              "      <td>0</td>\n",
              "      <td>0</td>\n",
              "      <td>0</td>\n",
              "      <td>0</td>\n",
              "      <td>0</td>\n",
              "      <td>0</td>\n",
              "      <td>0</td>\n",
              "      <td>0</td>\n",
              "      <td>0</td>\n",
              "      <td>0</td>\n",
              "      <td>0</td>\n",
              "      <td>0</td>\n",
              "      <td>0</td>\n",
              "      <td>0</td>\n",
              "      <td>0</td>\n",
              "      <td>0</td>\n",
              "      <td>0</td>\n",
              "      <td>0</td>\n",
              "      <td>0</td>\n",
              "      <td>0</td>\n",
              "      <td>0</td>\n",
              "      <td>0</td>\n",
              "      <td>0</td>\n",
              "      <td>0</td>\n",
              "      <td>0</td>\n",
              "      <td>0</td>\n",
              "      <td>0</td>\n",
              "      <td>0</td>\n",
              "      <td>0</td>\n",
              "      <td>0</td>\n",
              "      <td>0</td>\n",
              "      <td>0</td>\n",
              "      <td>0</td>\n",
              "      <td>...</td>\n",
              "      <td>0</td>\n",
              "      <td>0</td>\n",
              "      <td>0</td>\n",
              "      <td>0</td>\n",
              "      <td>0</td>\n",
              "      <td>0</td>\n",
              "      <td>0</td>\n",
              "      <td>0</td>\n",
              "      <td>0</td>\n",
              "      <td>0</td>\n",
              "      <td>0</td>\n",
              "      <td>0</td>\n",
              "      <td>0</td>\n",
              "      <td>0</td>\n",
              "      <td>0</td>\n",
              "      <td>0</td>\n",
              "      <td>0</td>\n",
              "      <td>0</td>\n",
              "      <td>0</td>\n",
              "      <td>0</td>\n",
              "      <td>0</td>\n",
              "      <td>0</td>\n",
              "      <td>0</td>\n",
              "      <td>0</td>\n",
              "      <td>0</td>\n",
              "      <td>0</td>\n",
              "      <td>0</td>\n",
              "      <td>0</td>\n",
              "      <td>0</td>\n",
              "      <td>0</td>\n",
              "      <td>0</td>\n",
              "      <td>0</td>\n",
              "      <td>0</td>\n",
              "      <td>0</td>\n",
              "      <td>0</td>\n",
              "      <td>0</td>\n",
              "      <td>0</td>\n",
              "      <td>0</td>\n",
              "      <td>0</td>\n",
              "      <td>0</td>\n",
              "    </tr>\n",
              "    <tr>\n",
              "      <th>...</th>\n",
              "      <td>...</td>\n",
              "      <td>...</td>\n",
              "      <td>...</td>\n",
              "      <td>...</td>\n",
              "      <td>...</td>\n",
              "      <td>...</td>\n",
              "      <td>...</td>\n",
              "      <td>...</td>\n",
              "      <td>...</td>\n",
              "      <td>...</td>\n",
              "      <td>...</td>\n",
              "      <td>...</td>\n",
              "      <td>...</td>\n",
              "      <td>...</td>\n",
              "      <td>...</td>\n",
              "      <td>...</td>\n",
              "      <td>...</td>\n",
              "      <td>...</td>\n",
              "      <td>...</td>\n",
              "      <td>...</td>\n",
              "      <td>...</td>\n",
              "      <td>...</td>\n",
              "      <td>...</td>\n",
              "      <td>...</td>\n",
              "      <td>...</td>\n",
              "      <td>...</td>\n",
              "      <td>...</td>\n",
              "      <td>...</td>\n",
              "      <td>...</td>\n",
              "      <td>...</td>\n",
              "      <td>...</td>\n",
              "      <td>...</td>\n",
              "      <td>...</td>\n",
              "      <td>...</td>\n",
              "      <td>...</td>\n",
              "      <td>...</td>\n",
              "      <td>...</td>\n",
              "      <td>...</td>\n",
              "      <td>...</td>\n",
              "      <td>...</td>\n",
              "      <td>...</td>\n",
              "      <td>...</td>\n",
              "      <td>...</td>\n",
              "      <td>...</td>\n",
              "      <td>...</td>\n",
              "      <td>...</td>\n",
              "      <td>...</td>\n",
              "      <td>...</td>\n",
              "      <td>...</td>\n",
              "      <td>...</td>\n",
              "      <td>...</td>\n",
              "      <td>...</td>\n",
              "      <td>...</td>\n",
              "      <td>...</td>\n",
              "      <td>...</td>\n",
              "      <td>...</td>\n",
              "      <td>...</td>\n",
              "      <td>...</td>\n",
              "      <td>...</td>\n",
              "      <td>...</td>\n",
              "      <td>...</td>\n",
              "      <td>...</td>\n",
              "      <td>...</td>\n",
              "      <td>...</td>\n",
              "      <td>...</td>\n",
              "      <td>...</td>\n",
              "      <td>...</td>\n",
              "      <td>...</td>\n",
              "      <td>...</td>\n",
              "      <td>...</td>\n",
              "      <td>...</td>\n",
              "      <td>...</td>\n",
              "      <td>...</td>\n",
              "      <td>...</td>\n",
              "      <td>...</td>\n",
              "      <td>...</td>\n",
              "      <td>...</td>\n",
              "      <td>...</td>\n",
              "      <td>...</td>\n",
              "      <td>...</td>\n",
              "      <td>...</td>\n",
              "    </tr>\n",
              "    <tr>\n",
              "      <th>41995</th>\n",
              "      <td>0</td>\n",
              "      <td>0</td>\n",
              "      <td>0</td>\n",
              "      <td>0</td>\n",
              "      <td>0</td>\n",
              "      <td>0</td>\n",
              "      <td>0</td>\n",
              "      <td>0</td>\n",
              "      <td>0</td>\n",
              "      <td>0</td>\n",
              "      <td>0</td>\n",
              "      <td>0</td>\n",
              "      <td>0</td>\n",
              "      <td>0</td>\n",
              "      <td>0</td>\n",
              "      <td>0</td>\n",
              "      <td>0</td>\n",
              "      <td>0</td>\n",
              "      <td>0</td>\n",
              "      <td>0</td>\n",
              "      <td>0</td>\n",
              "      <td>0</td>\n",
              "      <td>0</td>\n",
              "      <td>0</td>\n",
              "      <td>0</td>\n",
              "      <td>0</td>\n",
              "      <td>0</td>\n",
              "      <td>0</td>\n",
              "      <td>0</td>\n",
              "      <td>0</td>\n",
              "      <td>0</td>\n",
              "      <td>0</td>\n",
              "      <td>0</td>\n",
              "      <td>0</td>\n",
              "      <td>0</td>\n",
              "      <td>0</td>\n",
              "      <td>0</td>\n",
              "      <td>0</td>\n",
              "      <td>0</td>\n",
              "      <td>0</td>\n",
              "      <td>...</td>\n",
              "      <td>0</td>\n",
              "      <td>0</td>\n",
              "      <td>0</td>\n",
              "      <td>0</td>\n",
              "      <td>0</td>\n",
              "      <td>0</td>\n",
              "      <td>0</td>\n",
              "      <td>0</td>\n",
              "      <td>0</td>\n",
              "      <td>0</td>\n",
              "      <td>0</td>\n",
              "      <td>0</td>\n",
              "      <td>0</td>\n",
              "      <td>0</td>\n",
              "      <td>0</td>\n",
              "      <td>0</td>\n",
              "      <td>0</td>\n",
              "      <td>0</td>\n",
              "      <td>0</td>\n",
              "      <td>0</td>\n",
              "      <td>0</td>\n",
              "      <td>0</td>\n",
              "      <td>0</td>\n",
              "      <td>0</td>\n",
              "      <td>0</td>\n",
              "      <td>0</td>\n",
              "      <td>0</td>\n",
              "      <td>0</td>\n",
              "      <td>0</td>\n",
              "      <td>0</td>\n",
              "      <td>0</td>\n",
              "      <td>0</td>\n",
              "      <td>0</td>\n",
              "      <td>0</td>\n",
              "      <td>0</td>\n",
              "      <td>0</td>\n",
              "      <td>0</td>\n",
              "      <td>0</td>\n",
              "      <td>0</td>\n",
              "      <td>0</td>\n",
              "    </tr>\n",
              "    <tr>\n",
              "      <th>41996</th>\n",
              "      <td>1</td>\n",
              "      <td>0</td>\n",
              "      <td>0</td>\n",
              "      <td>0</td>\n",
              "      <td>0</td>\n",
              "      <td>0</td>\n",
              "      <td>0</td>\n",
              "      <td>0</td>\n",
              "      <td>0</td>\n",
              "      <td>0</td>\n",
              "      <td>0</td>\n",
              "      <td>0</td>\n",
              "      <td>0</td>\n",
              "      <td>0</td>\n",
              "      <td>0</td>\n",
              "      <td>0</td>\n",
              "      <td>0</td>\n",
              "      <td>0</td>\n",
              "      <td>0</td>\n",
              "      <td>0</td>\n",
              "      <td>0</td>\n",
              "      <td>0</td>\n",
              "      <td>0</td>\n",
              "      <td>0</td>\n",
              "      <td>0</td>\n",
              "      <td>0</td>\n",
              "      <td>0</td>\n",
              "      <td>0</td>\n",
              "      <td>0</td>\n",
              "      <td>0</td>\n",
              "      <td>0</td>\n",
              "      <td>0</td>\n",
              "      <td>0</td>\n",
              "      <td>0</td>\n",
              "      <td>0</td>\n",
              "      <td>0</td>\n",
              "      <td>0</td>\n",
              "      <td>0</td>\n",
              "      <td>0</td>\n",
              "      <td>0</td>\n",
              "      <td>...</td>\n",
              "      <td>0</td>\n",
              "      <td>0</td>\n",
              "      <td>0</td>\n",
              "      <td>0</td>\n",
              "      <td>0</td>\n",
              "      <td>0</td>\n",
              "      <td>0</td>\n",
              "      <td>0</td>\n",
              "      <td>0</td>\n",
              "      <td>0</td>\n",
              "      <td>0</td>\n",
              "      <td>0</td>\n",
              "      <td>0</td>\n",
              "      <td>0</td>\n",
              "      <td>0</td>\n",
              "      <td>0</td>\n",
              "      <td>0</td>\n",
              "      <td>0</td>\n",
              "      <td>0</td>\n",
              "      <td>0</td>\n",
              "      <td>0</td>\n",
              "      <td>0</td>\n",
              "      <td>0</td>\n",
              "      <td>0</td>\n",
              "      <td>0</td>\n",
              "      <td>0</td>\n",
              "      <td>0</td>\n",
              "      <td>0</td>\n",
              "      <td>0</td>\n",
              "      <td>0</td>\n",
              "      <td>0</td>\n",
              "      <td>0</td>\n",
              "      <td>0</td>\n",
              "      <td>0</td>\n",
              "      <td>0</td>\n",
              "      <td>0</td>\n",
              "      <td>0</td>\n",
              "      <td>0</td>\n",
              "      <td>0</td>\n",
              "      <td>0</td>\n",
              "    </tr>\n",
              "    <tr>\n",
              "      <th>41997</th>\n",
              "      <td>7</td>\n",
              "      <td>0</td>\n",
              "      <td>0</td>\n",
              "      <td>0</td>\n",
              "      <td>0</td>\n",
              "      <td>0</td>\n",
              "      <td>0</td>\n",
              "      <td>0</td>\n",
              "      <td>0</td>\n",
              "      <td>0</td>\n",
              "      <td>0</td>\n",
              "      <td>0</td>\n",
              "      <td>0</td>\n",
              "      <td>0</td>\n",
              "      <td>0</td>\n",
              "      <td>0</td>\n",
              "      <td>0</td>\n",
              "      <td>0</td>\n",
              "      <td>0</td>\n",
              "      <td>0</td>\n",
              "      <td>0</td>\n",
              "      <td>0</td>\n",
              "      <td>0</td>\n",
              "      <td>0</td>\n",
              "      <td>0</td>\n",
              "      <td>0</td>\n",
              "      <td>0</td>\n",
              "      <td>0</td>\n",
              "      <td>0</td>\n",
              "      <td>0</td>\n",
              "      <td>0</td>\n",
              "      <td>0</td>\n",
              "      <td>0</td>\n",
              "      <td>0</td>\n",
              "      <td>0</td>\n",
              "      <td>0</td>\n",
              "      <td>0</td>\n",
              "      <td>0</td>\n",
              "      <td>0</td>\n",
              "      <td>0</td>\n",
              "      <td>...</td>\n",
              "      <td>0</td>\n",
              "      <td>0</td>\n",
              "      <td>0</td>\n",
              "      <td>0</td>\n",
              "      <td>0</td>\n",
              "      <td>0</td>\n",
              "      <td>0</td>\n",
              "      <td>0</td>\n",
              "      <td>0</td>\n",
              "      <td>0</td>\n",
              "      <td>0</td>\n",
              "      <td>0</td>\n",
              "      <td>0</td>\n",
              "      <td>0</td>\n",
              "      <td>0</td>\n",
              "      <td>0</td>\n",
              "      <td>0</td>\n",
              "      <td>0</td>\n",
              "      <td>0</td>\n",
              "      <td>0</td>\n",
              "      <td>0</td>\n",
              "      <td>0</td>\n",
              "      <td>0</td>\n",
              "      <td>0</td>\n",
              "      <td>0</td>\n",
              "      <td>0</td>\n",
              "      <td>0</td>\n",
              "      <td>0</td>\n",
              "      <td>0</td>\n",
              "      <td>0</td>\n",
              "      <td>0</td>\n",
              "      <td>0</td>\n",
              "      <td>0</td>\n",
              "      <td>0</td>\n",
              "      <td>0</td>\n",
              "      <td>0</td>\n",
              "      <td>0</td>\n",
              "      <td>0</td>\n",
              "      <td>0</td>\n",
              "      <td>0</td>\n",
              "    </tr>\n",
              "    <tr>\n",
              "      <th>41998</th>\n",
              "      <td>6</td>\n",
              "      <td>0</td>\n",
              "      <td>0</td>\n",
              "      <td>0</td>\n",
              "      <td>0</td>\n",
              "      <td>0</td>\n",
              "      <td>0</td>\n",
              "      <td>0</td>\n",
              "      <td>0</td>\n",
              "      <td>0</td>\n",
              "      <td>0</td>\n",
              "      <td>0</td>\n",
              "      <td>0</td>\n",
              "      <td>0</td>\n",
              "      <td>0</td>\n",
              "      <td>0</td>\n",
              "      <td>0</td>\n",
              "      <td>0</td>\n",
              "      <td>0</td>\n",
              "      <td>0</td>\n",
              "      <td>0</td>\n",
              "      <td>0</td>\n",
              "      <td>0</td>\n",
              "      <td>0</td>\n",
              "      <td>0</td>\n",
              "      <td>0</td>\n",
              "      <td>0</td>\n",
              "      <td>0</td>\n",
              "      <td>0</td>\n",
              "      <td>0</td>\n",
              "      <td>0</td>\n",
              "      <td>0</td>\n",
              "      <td>0</td>\n",
              "      <td>0</td>\n",
              "      <td>0</td>\n",
              "      <td>0</td>\n",
              "      <td>0</td>\n",
              "      <td>0</td>\n",
              "      <td>0</td>\n",
              "      <td>0</td>\n",
              "      <td>...</td>\n",
              "      <td>0</td>\n",
              "      <td>0</td>\n",
              "      <td>0</td>\n",
              "      <td>0</td>\n",
              "      <td>0</td>\n",
              "      <td>0</td>\n",
              "      <td>0</td>\n",
              "      <td>0</td>\n",
              "      <td>0</td>\n",
              "      <td>0</td>\n",
              "      <td>0</td>\n",
              "      <td>0</td>\n",
              "      <td>0</td>\n",
              "      <td>0</td>\n",
              "      <td>0</td>\n",
              "      <td>0</td>\n",
              "      <td>0</td>\n",
              "      <td>0</td>\n",
              "      <td>0</td>\n",
              "      <td>0</td>\n",
              "      <td>0</td>\n",
              "      <td>0</td>\n",
              "      <td>0</td>\n",
              "      <td>0</td>\n",
              "      <td>0</td>\n",
              "      <td>0</td>\n",
              "      <td>0</td>\n",
              "      <td>0</td>\n",
              "      <td>0</td>\n",
              "      <td>0</td>\n",
              "      <td>0</td>\n",
              "      <td>0</td>\n",
              "      <td>0</td>\n",
              "      <td>0</td>\n",
              "      <td>0</td>\n",
              "      <td>0</td>\n",
              "      <td>0</td>\n",
              "      <td>0</td>\n",
              "      <td>0</td>\n",
              "      <td>0</td>\n",
              "    </tr>\n",
              "    <tr>\n",
              "      <th>41999</th>\n",
              "      <td>9</td>\n",
              "      <td>0</td>\n",
              "      <td>0</td>\n",
              "      <td>0</td>\n",
              "      <td>0</td>\n",
              "      <td>0</td>\n",
              "      <td>0</td>\n",
              "      <td>0</td>\n",
              "      <td>0</td>\n",
              "      <td>0</td>\n",
              "      <td>0</td>\n",
              "      <td>0</td>\n",
              "      <td>0</td>\n",
              "      <td>0</td>\n",
              "      <td>0</td>\n",
              "      <td>0</td>\n",
              "      <td>0</td>\n",
              "      <td>0</td>\n",
              "      <td>0</td>\n",
              "      <td>0</td>\n",
              "      <td>0</td>\n",
              "      <td>0</td>\n",
              "      <td>0</td>\n",
              "      <td>0</td>\n",
              "      <td>0</td>\n",
              "      <td>0</td>\n",
              "      <td>0</td>\n",
              "      <td>0</td>\n",
              "      <td>0</td>\n",
              "      <td>0</td>\n",
              "      <td>0</td>\n",
              "      <td>0</td>\n",
              "      <td>0</td>\n",
              "      <td>0</td>\n",
              "      <td>0</td>\n",
              "      <td>0</td>\n",
              "      <td>0</td>\n",
              "      <td>0</td>\n",
              "      <td>0</td>\n",
              "      <td>0</td>\n",
              "      <td>...</td>\n",
              "      <td>0</td>\n",
              "      <td>0</td>\n",
              "      <td>0</td>\n",
              "      <td>0</td>\n",
              "      <td>0</td>\n",
              "      <td>0</td>\n",
              "      <td>0</td>\n",
              "      <td>0</td>\n",
              "      <td>0</td>\n",
              "      <td>0</td>\n",
              "      <td>0</td>\n",
              "      <td>0</td>\n",
              "      <td>0</td>\n",
              "      <td>0</td>\n",
              "      <td>0</td>\n",
              "      <td>0</td>\n",
              "      <td>0</td>\n",
              "      <td>0</td>\n",
              "      <td>0</td>\n",
              "      <td>0</td>\n",
              "      <td>0</td>\n",
              "      <td>0</td>\n",
              "      <td>0</td>\n",
              "      <td>0</td>\n",
              "      <td>0</td>\n",
              "      <td>0</td>\n",
              "      <td>0</td>\n",
              "      <td>0</td>\n",
              "      <td>0</td>\n",
              "      <td>0</td>\n",
              "      <td>0</td>\n",
              "      <td>0</td>\n",
              "      <td>0</td>\n",
              "      <td>0</td>\n",
              "      <td>0</td>\n",
              "      <td>0</td>\n",
              "      <td>0</td>\n",
              "      <td>0</td>\n",
              "      <td>0</td>\n",
              "      <td>0</td>\n",
              "    </tr>\n",
              "  </tbody>\n",
              "</table>\n",
              "<p>42000 rows × 785 columns</p>\n",
              "</div>"
            ],
            "text/plain": [
              "       label  pixel0  pixel1  pixel2  ...  pixel780  pixel781  pixel782  pixel783\n",
              "0          1       0       0       0  ...         0         0         0         0\n",
              "1          0       0       0       0  ...         0         0         0         0\n",
              "2          1       0       0       0  ...         0         0         0         0\n",
              "3          4       0       0       0  ...         0         0         0         0\n",
              "4          0       0       0       0  ...         0         0         0         0\n",
              "...      ...     ...     ...     ...  ...       ...       ...       ...       ...\n",
              "41995      0       0       0       0  ...         0         0         0         0\n",
              "41996      1       0       0       0  ...         0         0         0         0\n",
              "41997      7       0       0       0  ...         0         0         0         0\n",
              "41998      6       0       0       0  ...         0         0         0         0\n",
              "41999      9       0       0       0  ...         0         0         0         0\n",
              "\n",
              "[42000 rows x 785 columns]"
            ]
          },
          "metadata": {
            "tags": []
          },
          "execution_count": 6
        }
      ]
    },
    {
      "cell_type": "code",
      "metadata": {
        "id": "Qc5xam_VNpEI",
        "colab_type": "code",
        "outputId": "1dc7c771-7c62-4cce-9afa-b1b5e86a85bf",
        "colab": {
          "base_uri": "https://localhost:8080/",
          "height": 483
        }
      },
      "source": [
        "sns.countplot(train_df[\"label\"])\n",
        "train_df.groupby(\"label\").size()"
      ],
      "execution_count": 7,
      "outputs": [
        {
          "output_type": "execute_result",
          "data": {
            "text/plain": [
              "label\n",
              "0    4132\n",
              "1    4684\n",
              "2    4177\n",
              "3    4351\n",
              "4    4072\n",
              "5    3795\n",
              "6    4137\n",
              "7    4401\n",
              "8    4063\n",
              "9    4188\n",
              "dtype: int64"
            ]
          },
          "metadata": {
            "tags": []
          },
          "execution_count": 7
        },
        {
          "output_type": "display_data",
          "data": {
            "image/png": "[encoded data removed]",
            "text/plain": [
              "<Figure size 432x288 with 1 Axes>"
            ]
          },
          "metadata": {
            "tags": [],
            "needs_background": "light"
          }
        }
      ]
    },
    {
      "cell_type": "code",
      "metadata": {
        "id": "L6F1xFyvNpEN",
        "colab_type": "code",
        "outputId": "2714d946-f30d-404a-84c9-b0419db74310",
        "colab": {
          "base_uri": "https://localhost:8080/",
          "height": 470
        }
      },
      "source": [
        "# example picture\n",
        "sample_pixels = train_df.groupby(\"label\").apply(lambda df: df.sample())\n",
        "sample_pixels = sample_pixels.set_index(\"label\")\n",
        "\n",
        "fig, ax = plt.subplots(2,5, figsize=(15,7))\n",
        "for i in range(10):\n",
        "    pixel, label = sample_pixels.iloc[i].to_list(), sample_pixels.index[i]\n",
        "    ax[i//5, i%5].imshow(np.reshape(pixel, (28, 28)), cmap=\"Greys\")\n",
        "    ax[i//5, i%5].set_title(\"sample number: %d\" % i)\n",
        "fig.tight_layout()\n",
        "plt.show()"
      ],
      "execution_count": 8,
      "outputs": [
        {
          "output_type": "display_data",
          "data": {
            "image/png": "[encoded data removed]",
            "text/plain": [
              "<Figure size 1080x504 with 10 Axes>"
            ]
          },
          "metadata": {
            "tags": [],
            "needs_background": "light"
          }
        }
      ]
    },
    {
      "cell_type": "code",
      "metadata": {
        "scrolled": true,
        "id": "2uyGgoOpNpEl",
        "colab_type": "code",
        "outputId": "09270a70-1892-4379-9ba3-8309a83586a4",
        "colab": {
          "base_uri": "https://localhost:8080/",
          "height": 51
        }
      },
      "source": [
        "# data validity check: null and types\n",
        "print(\"# of nulls: \", train_df.isnull().sum().sum())\n",
        "print(\"types: \", train_df.dtypes.unique())"
      ],
      "execution_count": 9,
      "outputs": [
        {
          "output_type": "stream",
          "text": [
            "# of nulls:  0\n",
            "types:  [dtype('int64')]\n"
          ],
          "name": "stdout"
        }
      ]
    },
    {
      "cell_type": "markdown",
      "metadata": {
        "id": "CE6dEvpQCrrK",
        "colab_type": "text"
      },
      "source": [
        "## Data Preprocessing"
      ]
    },
    {
      "cell_type": "code",
      "metadata": {
        "id": "RudhfnZfNpE2",
        "colab_type": "code",
        "outputId": "3f334f68-9092-444c-9ebe-bd68004a40c3",
        "colab": {
          "base_uri": "https://localhost:8080/",
          "height": 34
        }
      },
      "source": [
        "# extract and normalize features and labels\n",
        "train_df = pd.read_csv(train_fp)\n",
        "\n",
        "X_train = np.reshape(train_df.iloc[:, 1:].values / 255, (-1, 28, 28, 1))\n",
        "Y_train_class = train_df[\"label\"].values\n",
        "Y_train = to_categorical(Y_train_class, num_classes=10, dtype=int)   # one-hot encoding\n",
        "\n",
        "print(X_train.shape, Y_train.shape)"
      ],
      "execution_count": 10,
      "outputs": [
        {
          "output_type": "stream",
          "text": [
            "(42000, 28, 28, 1) (42000, 10)\n"
          ],
          "name": "stdout"
        }
      ]
    },
    {
      "cell_type": "code",
      "metadata": {
        "id": "ZK-0wB4oNpFF",
        "colab_type": "code",
        "outputId": "a8964f37-ccd5-479d-e24a-1202e8c12962",
        "colab": {
          "base_uri": "https://localhost:8080/",
          "height": 34
        }
      },
      "source": [
        "# split training data into training and validation data\n",
        "random_seed = 2 # Set the random seed for all remaining random_state\n",
        "X_train, X_val, Y_train, Y_val = train_test_split(X_train, Y_train, test_size=0.1, random_state=random_seed)\n",
        "\n",
        "print(X_train.shape, X_val.shape, Y_train.shape, Y_val.shape)"
      ],
      "execution_count": 11,
      "outputs": [
        {
          "output_type": "stream",
          "text": [
            "(37800, 28, 28, 1) (4200, 28, 28, 1) (37800, 10) (4200, 10)\n"
          ],
          "name": "stdout"
        }
      ]
    },
    {
      "cell_type": "code",
      "metadata": {
        "scrolled": true,
        "id": "ulfG_fUPNpFU",
        "colab_type": "code",
        "outputId": "23720cb1-9f8a-4cbd-8b8c-9aab59987bb5",
        "colab": {
          "base_uri": "https://localhost:8080/",
          "height": 522
        }
      },
      "source": [
        "# training data distribution \n",
        "fig, axes = plt.subplots(1,2, figsize=(12,5))\n",
        "sns.countplot(np.argmax(Y_train, axis=1), ax=axes[0])\n",
        "sns.countplot(np.argmax(Y_val, axis=1), ax=axes[1])\n",
        "axes[0].set_title(\"training data distribution\")\n",
        "axes[1].set_title(\"validation data distribution\")\n",
        "pd.Series(np.sum(Y_train, axis=0), name=\"train\")\n",
        "# pd.Series(np.sum(Y_val, axis=0))"
      ],
      "execution_count": 38,
      "outputs": [
        {
          "output_type": "execute_result",
          "data": {
            "text/plain": [
              "0    3721\n",
              "1    4199\n",
              "2    3774\n",
              "3    3933\n",
              "4    3611\n",
              "5    3423\n",
              "6    3724\n",
              "7    3955\n",
              "8    3681\n",
              "9    3779\n",
              "Name: train, dtype: int64"
            ]
          },
          "metadata": {
            "tags": []
          },
          "execution_count": 38
        },
        {
          "output_type": "display_data",
          "data": {
            "image/png": "[encoded data removed]",
            "text/plain": [
              "<Figure size 864x360 with 2 Axes>"
            ]
          },
          "metadata": {
            "tags": []
          }
        }
      ]
    },
    {
      "cell_type": "markdown",
      "metadata": {
        "id": "djTUvNlex6MC",
        "colab_type": "text"
      },
      "source": [
        "## Data Augmentation"
      ]
    },
    {
      "cell_type": "code",
      "metadata": {
        "id": "6Vx6hCbyyLSn",
        "colab_type": "code",
        "outputId": "36a59260-9dbf-4cdc-ca9d-9ac348201101",
        "colab": {
          "base_uri": "https://localhost:8080/",
          "height": 284
        }
      },
      "source": [
        "# take a look at a random digit to get an idea of how to augment the training dataset\n",
        "example_index = np.random.randint(0, 42000)\n",
        "plt.imshow(X_train[example_index][:,:,0], cmap=\"Greys\")"
      ],
      "execution_count": 40,
      "outputs": [
        {
          "output_type": "execute_result",
          "data": {
            "text/plain": [
              "<matplotlib.image.AxesImage at 0x7f6ed6092ba8>"
            ]
          },
          "metadata": {
            "tags": []
          },
          "execution_count": 40
        },
        {
          "output_type": "display_data",
          "data": {
            "image/png": "[encoded data removed]",
            "text/plain": [
              "<Figure size 432x288 with 1 Axes>"
            ]
          },
          "metadata": {
            "tags": []
          }
        }
      ]
    },
    {
      "cell_type": "code",
      "metadata": {
        "id": "6s1J9q8zyLq8",
        "colab_type": "code",
        "colab": {}
      },
      "source": [
        "# configure an image generator\n",
        "datagen = ImageDataGenerator(\n",
        "    width_shift_range=5,\n",
        "    height_shift_range=4,\n",
        "    rotation_range=13,\n",
        "    # shear_range=1,\n",
        "    zoom_range=0.1\n",
        ")\n",
        "# datagen.fit(X_train)"
      ],
      "execution_count": 0,
      "outputs": []
    },
    {
      "cell_type": "code",
      "metadata": {
        "id": "t5Z9WyeUyLy_",
        "colab_type": "code",
        "outputId": "285d4f27-0d22-4b4f-9c96-892db95fde48",
        "colab": {
          "base_uri": "https://localhost:8080/",
          "height": 320
        }
      },
      "source": [
        "# Demonstrate the example images from data augmentation\n",
        "example_number = 5\n",
        "fig, ax = plt.subplots(1, example_number, figsize=[15,5])\n",
        "it = datagen.flow(X_train, np.argmax(Y_train, axis=1), batch_size=1)\n",
        "for i in range(example_number):\n",
        "    example, example_label = it.next()\n",
        "    # print(example.shape, example_label.shape)\n",
        "    ax[i].imshow(example[0][:,:,0], cmap=\"Greys\")\n",
        "    ax[i].set_title(\"labels: % d\" % example_label)\n",
        "    print(it)\n",
        "fig.tight_layout()"
      ],
      "execution_count": 16,
      "outputs": [
        {
          "output_type": "stream",
          "text": [
            "<keras.preprocessing.image.NumpyArrayIterator object at 0x7f6f3ee14a20>\n",
            "<keras.preprocessing.image.NumpyArrayIterator object at 0x7f6f3ee14a20>\n",
            "<keras.preprocessing.image.NumpyArrayIterator object at 0x7f6f3ee14a20>\n",
            "<keras.preprocessing.image.NumpyArrayIterator object at 0x7f6f3ee14a20>\n",
            "<keras.preprocessing.image.NumpyArrayIterator object at 0x7f6f3ee14a20>\n"
          ],
          "name": "stdout"
        },
        {
          "output_type": "display_data",
          "data": {
            "image/png": "[encoded data removed]",
            "text/plain": [
              "<Figure size 1080x360 with 5 Axes>"
            ]
          },
          "metadata": {
            "tags": [],
            "needs_background": "light"
          }
        }
      ]
    },
    {
      "cell_type": "markdown",
      "metadata": {
        "id": "QIv5Yob3914U",
        "colab_type": "text"
      },
      "source": [
        "### Approach 1: Manually Generate a dataset with desired size and ratio"
      ]
    },
    {
      "cell_type": "code",
      "metadata": {
        "id": "JvmfFXzFyL5X",
        "colab_type": "code",
        "outputId": "6eb2e429-76c5-4680-c5a6-2d494137b18a",
        "colab": {
          "base_uri": "https://localhost:8080/",
          "height": 337
        }
      },
      "source": [
        "# manually augmenting the X_train into desired size and ratio\n",
        "def generate_image(which, train, label, batch_size=500):\n",
        "    train = train[np.argmax(label, axis=1) == which]\n",
        "    label = label[np.argmax(label, axis=1) == which]\n",
        "    it = datagen.flow(train, label, batch_size=batch_size)\n",
        "    return it.next()\n",
        "print(\"original shape: \", X_train.shape)\n",
        "\n",
        "X_train_aug = np.copy(X_train)\n",
        "Y_train_aug = np.copy(Y_train)\n",
        "for i in range(10):\n",
        "    new_train, new_label = generate_image(i, X_train, Y_train, 4000)\n",
        "    X_train_aug = np.concatenate((X_train_aug, new_train), axis=0)\n",
        "    Y_train_aug = np.concatenate((Y_train_aug, new_label), axis=0)\n",
        "print(\"1st augmented shape: \", X_train_aug.shape)\n",
        "\n",
        "important = [4, 5, 6, 8, 9] # the class with poorest accuracy based on the Analysis Result during the initial training without image data augmentation\n",
        "for i in important:\n",
        "    new_train, new_label = generate_image(i, X_train, Y_train, 2000)\n",
        "    X_train_aug = np.concatenate((X_train_aug, new_train), axis=0)\n",
        "    Y_train_aug = np.concatenate((Y_train_aug, new_label), axis=0)\n",
        "print(\"2nd augmented shape: \", X_train_aug.shape, \"label length: \", Y_train_aug.shape)\n",
        "\n",
        "sns.countplot(np.argmax(Y_train_aug, axis=1))"
      ],
      "execution_count": 17,
      "outputs": [
        {
          "output_type": "stream",
          "text": [
            "original shape:  (37800, 28, 28, 1)\n",
            "1st augmented shape:  (75401, 28, 28, 1)\n",
            "2nd augmented shape:  (85401, 28, 28, 1) label length:  (85401, 10)\n"
          ],
          "name": "stdout"
        },
        {
          "output_type": "execute_result",
          "data": {
            "text/plain": [
              "<matplotlib.axes._subplots.AxesSubplot at 0x7f6f419867f0>"
            ]
          },
          "metadata": {
            "tags": []
          },
          "execution_count": 17
        },
        {
          "output_type": "display_data",
          "data": {
            "image/png": "[encoded data removed]",
            "text/plain": [
              "<Figure size 432x288 with 1 Axes>"
            ]
          },
          "metadata": {
            "tags": [],
            "needs_background": "light"
          }
        }
      ]
    },
    {
      "cell_type": "code",
      "metadata": {
        "id": "NfUCM1PdDToJ",
        "colab_type": "code",
        "outputId": "58a05ad2-f97d-4cf5-f025-1b7745440902",
        "colab": {
          "base_uri": "https://localhost:8080/",
          "height": 136
        }
      },
      "source": [
        "# shuffle\n",
        "X_train_aug, Y_train_aug = shuffle(X_train_aug, Y_train_aug, random_state=random_seed)\n",
        "Y_train_aug"
      ],
      "execution_count": 18,
      "outputs": [
        {
          "output_type": "execute_result",
          "data": {
            "text/plain": [
              "array([[0, 0, 0, ..., 0, 0, 0],\n",
              "       [0, 0, 0, ..., 0, 1, 0],\n",
              "       [0, 0, 0, ..., 0, 1, 0],\n",
              "       ...,\n",
              "       [0, 0, 0, ..., 0, 0, 0],\n",
              "       [0, 1, 0, ..., 0, 0, 0],\n",
              "       [0, 0, 0, ..., 0, 0, 1]])"
            ]
          },
          "metadata": {
            "tags": []
          },
          "execution_count": 18
        }
      ]
    },
    {
      "cell_type": "code",
      "metadata": {
        "id": "Y6jcbAL--6As",
        "colab_type": "code",
        "outputId": "e607d25e-d1f8-4c97-9df8-ddf83b9942c6",
        "colab": {
          "base_uri": "https://localhost:8080/",
          "height": 282
        }
      },
      "source": [
        "test_index = np.random.randint(-20000, 0)\n",
        "plt.imshow(X_train_aug[test_index][:,:,0], cmap=\"Greys\")\n",
        "print(\"label: \", np.argmax(Y_train_aug[test_index]))"
      ],
      "execution_count": 19,
      "outputs": [
        {
          "output_type": "stream",
          "text": [
            "label:  2\n"
          ],
          "name": "stdout"
        },
        {
          "output_type": "display_data",
          "data": {
            "image/png": "[encoded data removed]",
            "text/plain": [
              "<Figure size 432x288 with 1 Axes>"
            ]
          },
          "metadata": {
            "tags": [],
            "needs_background": "light"
          }
        }
      ]
    },
    {
      "cell_type": "code",
      "metadata": {
        "id": "cFxOpUIs6Ojo",
        "colab_type": "code",
        "outputId": "6b24909a-b02c-4d74-c1f3-d62ec85c4dea",
        "colab": {
          "base_uri": "https://localhost:8080/",
          "height": 85
        }
      },
      "source": [
        "np.concatenate(([[1,2], [1,2], [1,2]], [[1,2]]), axis=0)"
      ],
      "execution_count": 0,
      "outputs": [
        {
          "output_type": "execute_result",
          "data": {
            "text/plain": [
              "array([[1, 2],\n",
              "       [1, 2],\n",
              "       [1, 2],\n",
              "       [1, 2]])"
            ]
          },
          "metadata": {
            "tags": []
          },
          "execution_count": 24
        }
      ]
    },
    {
      "cell_type": "code",
      "metadata": {
        "id": "Xm5qK7a88Oh0",
        "colab_type": "code",
        "outputId": "ecc4dd56-fbde-4746-973c-fa62a1c9e1de",
        "colab": {
          "base_uri": "https://localhost:8080/",
          "height": 34
        }
      },
      "source": [
        "x = [[1,2,3], [1,2,4], [1,2,5]] + [[1,2,6]] \n",
        "print(x)\n",
        "np.random.shuffle(x)\n",
        "x"
      ],
      "execution_count": 39,
      "outputs": [
        {
          "output_type": "stream",
          "text": [
            "[[1, 2, 3], [1, 2, 4], [1, 2, 5], [1, 2, 6]]\n"
          ],
          "name": "stdout"
        }
      ]
    },
    {
      "cell_type": "code",
      "metadata": {
        "id": "iFApEXMIF7lv",
        "colab_type": "code",
        "outputId": "effd12c2-ed05-406e-943d-a688f7e558bc",
        "colab": {
          "base_uri": "https://localhost:8080/",
          "height": 136
        }
      },
      "source": [
        "Y_train_aug"
      ],
      "execution_count": 20,
      "outputs": [
        {
          "output_type": "execute_result",
          "data": {
            "text/plain": [
              "array([[0, 0, 0, ..., 0, 0, 0],\n",
              "       [0, 0, 0, ..., 0, 1, 0],\n",
              "       [0, 0, 0, ..., 0, 1, 0],\n",
              "       ...,\n",
              "       [0, 0, 0, ..., 0, 0, 0],\n",
              "       [0, 1, 0, ..., 0, 0, 0],\n",
              "       [0, 0, 0, ..., 0, 0, 1]])"
            ]
          },
          "metadata": {
            "tags": []
          },
          "execution_count": 20
        }
      ]
    },
    {
      "cell_type": "markdown",
      "metadata": {
        "id": "mM7q4RnJKNna",
        "colab_type": "text"
      },
      "source": [
        "### Approach 2: Conduct Data Augmentation on Real Time"
      ]
    },
    {
      "cell_type": "code",
      "metadata": {
        "id": "ibIo0l6RKTji",
        "colab_type": "code",
        "colab": {}
      },
      "source": [
        "# prepare for using the data generator at real training time\n",
        "datagen.fit(X_train)\n",
        "batch_size = 25\n",
        "steps_per_epoch = X_train.shape[0] // batch_size  # number of batchs for each epoch"
      ],
      "execution_count": 0,
      "outputs": []
    },
    {
      "cell_type": "code",
      "metadata": {
        "id": "PF1M5oraKT_n",
        "colab_type": "code",
        "colab": {}
      },
      "source": [
        "# create a data iterater to generate image data at real time\n",
        "data_it = datagen.flow(X_train, Y_train, batch_size=batch_size)"
      ],
      "execution_count": 0,
      "outputs": []
    },
    {
      "cell_type": "markdown",
      "metadata": {
        "id": "MRJgvAmQNpFW",
        "colab_type": "text"
      },
      "source": [
        "## Model Building & Training\n",
        "architecture: \n",
        "\n",
        "Input => \n",
        "\n",
        "Conv2d (relu) => Conv2d (relu) => MaxPool => Dropout => \n",
        "\n",
        "Conv2d (relu) => Conv2d (relu) => MaxPool => Dropout =>\n",
        "\n",
        "Conv2d (relu) => MaxPool => Dropout =>\n",
        "\n",
        "Flatten => Dense => Dropout = > Dense => Output"
      ]
    },
    {
      "cell_type": "code",
      "metadata": {
        "id": "B2hECnX-NpFX",
        "colab_type": "code",
        "colab": {}
      },
      "source": [
        "# build the layers in the model\n",
        "model = Sequential()\n",
        "model.add(Conv2D(32, (5,5), padding=\"same\", activation=\"relu\", use_bias=False, input_shape=(28,28,1)))\n",
        "model.add(Conv2D(32, (5,5), padding=\"same\", activation=\"relu\", use_bias=False))\n",
        "model.add(MaxPooling2D(pool_size=(2,2)))\n",
        "model.add(Dropout(0.3, seed=random_seed))\n",
        "\n",
        "model.add(Conv2D(64, (5,5), padding=\"same\", activation=\"relu\", use_bias=False))\n",
        "model.add(Conv2D(64, (5,5), padding=\"same\", activation=\"relu\", use_bias=False))\n",
        "model.add(MaxPooling2D(pool_size=(2,2)))\n",
        "model.add(Dropout(0.25, seed=random_seed))\n",
        "\n",
        "model.add(Conv2D(128, (5,5), padding=\"same\", activation=\"relu\", use_bias=False))\n",
        "# model.add(Conv2D(128, (5,5), padding=\"same\", activation=\"relu\", use_bias=False))\n",
        "model.add(MaxPooling2D(pool_size=(2,2)))\n",
        "model.add(Dropout(0.2, seed=random_seed))\n",
        "\n",
        "model.add(Flatten())\n",
        "model.add(Dense(256,  activation=\"relu\", use_bias=False))\n",
        "model.add(Dropout(0.1, seed=random_seed))\n",
        "model.add(Dense(256,  activation=\"relu\", use_bias=False))\n",
        "model.add(Dense(10,  activation=\"softmax\", use_bias=False))"
      ],
      "execution_count": 0,
      "outputs": []
    },
    {
      "cell_type": "code",
      "metadata": {
        "id": "utUrLPnI6kQh",
        "colab_type": "code",
        "colab": {}
      },
      "source": [
        "# also add learning rate schedule\n",
        "lr_reduction = ReduceLROnPlateau(monitor=\"val_accuracy\", patience=3, verbose=1, factor=0.5, min_lr=0.000005)"
      ],
      "execution_count": 0,
      "outputs": []
    },
    {
      "cell_type": "code",
      "metadata": {
        "id": "0ZB-HqQCNpFZ",
        "colab_type": "code",
        "colab": {}
      },
      "source": [
        "# compile the model\n",
        "model.compile(optimizer=\"adam\", loss=\"categorical_crossentropy\", metrics=[\"accuracy\"])"
      ],
      "execution_count": 0,
      "outputs": []
    },
    {
      "cell_type": "code",
      "metadata": {
        "id": "5AednlSQNpFc",
        "colab_type": "code",
        "outputId": "2875294d-c1e8-40a3-9427-87513f3a738d",
        "colab": {
          "base_uri": "https://localhost:8080/",
          "height": 1000
        }
      },
      "source": [
        "# training\n",
        "epochs = 70\n",
        "batch_size = 25\n",
        "\n",
        "# approach 0: the naive way to train the model without data augmentation\n",
        "# history = model.fit(x=X_train, y=Y_train, batch_size=batch_size, epochs=epochs, validation_data=(X_val, Y_val))\n",
        "\n",
        "# approach 1: train the model with data augmentation\n",
        "# history = model.fit(x=X_train_aug, y=Y_train_aug, batch_size=batch_size, epochs=epochs, validation_data=(X_val, Y_val))  # train with the augmented data\n",
        "\n",
        "# approach 2: train the model with data augmentation and a callback function defined by the ReduceRLOnPlateau from Keras\n",
        "# history = model.fit(initial_epoch=50 ,x=X_train_aug, y=Y_train_aug, batch_size=batch_size, epochs=epochs, validation_data=(X_val, Y_val), callbacks=[lr_reduction])  # train with the augmented data + callback\n",
        "\n",
        "# approach 3: train the model with real-time data generation from data augmentation with learning rate schedules by ReduceRLOnPlateau\n",
        "history = model.fit_generator(data_it, initial_epoch=0, steps_per_epoch=steps_per_epoch, epochs=epochs, validation_data=(X_val, Y_val), callbacks=[lr_reduction])  # train with the augmented data + callback\n",
        "\n",
        "# X_train_aug.shape, Y_train_aug.shape"
      ],
      "execution_count": 111,
      "outputs": [
        {
          "output_type": "stream",
          "text": [
            "Epoch 1/70\n",
            "1512/1512 [==============================] - 18s 12ms/step - loss: 0.3340 - accuracy: 0.8906 - val_loss: 0.0612 - val_accuracy: 0.9833\n",
            "Epoch 2/70\n",
            "1512/1512 [==============================] - 18s 12ms/step - loss: 0.1039 - accuracy: 0.9722 - val_loss: 0.0476 - val_accuracy: 0.9869\n",
            "Epoch 3/70\n",
            "1512/1512 [==============================] - 18s 12ms/step - loss: 0.0863 - accuracy: 0.9766 - val_loss: 0.0581 - val_accuracy: 0.9857\n",
            "Epoch 4/70\n",
            "1512/1512 [==============================] - 18s 12ms/step - loss: 0.0724 - accuracy: 0.9805 - val_loss: 0.0379 - val_accuracy: 0.9912\n",
            "Epoch 5/70\n",
            "1512/1512 [==============================] - 18s 12ms/step - loss: 0.0720 - accuracy: 0.9817 - val_loss: 0.0292 - val_accuracy: 0.9907\n",
            "Epoch 6/70\n",
            "1512/1512 [==============================] - 18s 12ms/step - loss: 0.0658 - accuracy: 0.9825 - val_loss: 0.0262 - val_accuracy: 0.9926\n",
            "Epoch 7/70\n",
            "1512/1512 [==============================] - 18s 12ms/step - loss: 0.0653 - accuracy: 0.9829 - val_loss: 0.0274 - val_accuracy: 0.9926\n",
            "Epoch 8/70\n",
            "1512/1512 [==============================] - 18s 12ms/step - loss: 0.0590 - accuracy: 0.9851 - val_loss: 0.0425 - val_accuracy: 0.9888\n",
            "Epoch 9/70\n",
            "1512/1512 [==============================] - 18s 12ms/step - loss: 0.0582 - accuracy: 0.9838 - val_loss: 0.0309 - val_accuracy: 0.9917\n",
            "\n",
            "Epoch 00009: ReduceLROnPlateau reducing learning rate to 0.0005000000237487257.\n",
            "Epoch 10/70\n",
            "1512/1512 [==============================] - 18s 12ms/step - loss: 0.0364 - accuracy: 0.9894 - val_loss: 0.0232 - val_accuracy: 0.9936\n",
            "Epoch 11/70\n",
            "1512/1512 [==============================] - 18s 12ms/step - loss: 0.0352 - accuracy: 0.9898 - val_loss: 0.0292 - val_accuracy: 0.9919\n",
            "Epoch 12/70\n",
            "1512/1512 [==============================] - 18s 12ms/step - loss: 0.0328 - accuracy: 0.9903 - val_loss: 0.0230 - val_accuracy: 0.9940\n",
            "Epoch 13/70\n",
            "1512/1512 [==============================] - 18s 12ms/step - loss: 0.0335 - accuracy: 0.9910 - val_loss: 0.0251 - val_accuracy: 0.9921\n",
            "Epoch 14/70\n",
            "1512/1512 [==============================] - 18s 12ms/step - loss: 0.0310 - accuracy: 0.9912 - val_loss: 0.0229 - val_accuracy: 0.9952\n",
            "Epoch 15/70\n",
            "1512/1512 [==============================] - 18s 12ms/step - loss: 0.0312 - accuracy: 0.9914 - val_loss: 0.0288 - val_accuracy: 0.9936\n",
            "Epoch 16/70\n",
            "1512/1512 [==============================] - 18s 12ms/step - loss: 0.0291 - accuracy: 0.9917 - val_loss: 0.0255 - val_accuracy: 0.9933\n",
            "Epoch 17/70\n",
            "1512/1512 [==============================] - 18s 12ms/step - loss: 0.0313 - accuracy: 0.9914 - val_loss: 0.0166 - val_accuracy: 0.9955\n",
            "Epoch 18/70\n",
            "1512/1512 [==============================] - 18s 12ms/step - loss: 0.0304 - accuracy: 0.9913 - val_loss: 0.0193 - val_accuracy: 0.9929\n",
            "Epoch 19/70\n",
            "1512/1512 [==============================] - 18s 12ms/step - loss: 0.0285 - accuracy: 0.9919 - val_loss: 0.0220 - val_accuracy: 0.9950\n",
            "Epoch 20/70\n",
            "1512/1512 [==============================] - 18s 12ms/step - loss: 0.0280 - accuracy: 0.9926 - val_loss: 0.0201 - val_accuracy: 0.9952\n",
            "\n",
            "Epoch 00020: ReduceLROnPlateau reducing learning rate to 0.0002500000118743628.\n",
            "Epoch 21/70\n",
            "1512/1512 [==============================] - 18s 12ms/step - loss: 0.0179 - accuracy: 0.9950 - val_loss: 0.0248 - val_accuracy: 0.9950\n",
            "Epoch 22/70\n",
            "1512/1512 [==============================] - 18s 12ms/step - loss: 0.0201 - accuracy: 0.9944 - val_loss: 0.0149 - val_accuracy: 0.9967\n",
            "Epoch 23/70\n",
            "1512/1512 [==============================] - 18s 12ms/step - loss: 0.0206 - accuracy: 0.9940 - val_loss: 0.0198 - val_accuracy: 0.9962\n",
            "Epoch 24/70\n",
            "1512/1512 [==============================] - 18s 12ms/step - loss: 0.0185 - accuracy: 0.9949 - val_loss: 0.0195 - val_accuracy: 0.9952\n",
            "Epoch 25/70\n",
            "1512/1512 [==============================] - 18s 12ms/step - loss: 0.0181 - accuracy: 0.9949 - val_loss: 0.0185 - val_accuracy: 0.9967\n",
            "\n",
            "Epoch 00025: ReduceLROnPlateau reducing learning rate to 0.0001250000059371814.\n",
            "Epoch 26/70\n",
            "1512/1512 [==============================] - 18s 12ms/step - loss: 0.0153 - accuracy: 0.9957 - val_loss: 0.0194 - val_accuracy: 0.9964\n",
            "Epoch 27/70\n",
            "1512/1512 [==============================] - 18s 12ms/step - loss: 0.0147 - accuracy: 0.9957 - val_loss: 0.0146 - val_accuracy: 0.9960\n",
            "Epoch 28/70\n",
            "1512/1512 [==============================] - 18s 12ms/step - loss: 0.0111 - accuracy: 0.9965 - val_loss: 0.0182 - val_accuracy: 0.9962\n",
            "\n",
            "Epoch 00028: ReduceLROnPlateau reducing learning rate to 6.25000029685907e-05.\n",
            "Epoch 29/70\n",
            "1512/1512 [==============================] - 18s 12ms/step - loss: 0.0128 - accuracy: 0.9963 - val_loss: 0.0175 - val_accuracy: 0.9967\n",
            "Epoch 30/70\n",
            "1512/1512 [==============================] - 18s 12ms/step - loss: 0.0119 - accuracy: 0.9964 - val_loss: 0.0190 - val_accuracy: 0.9967\n",
            "Epoch 31/70\n",
            "1512/1512 [==============================] - 18s 12ms/step - loss: 0.0131 - accuracy: 0.9959 - val_loss: 0.0192 - val_accuracy: 0.9971\n",
            "Epoch 32/70\n",
            "1512/1512 [==============================] - 18s 12ms/step - loss: 0.0108 - accuracy: 0.9969 - val_loss: 0.0215 - val_accuracy: 0.9967\n",
            "Epoch 33/70\n",
            "1512/1512 [==============================] - 18s 12ms/step - loss: 0.0125 - accuracy: 0.9968 - val_loss: 0.0198 - val_accuracy: 0.9962\n",
            "Epoch 34/70\n",
            "1512/1512 [==============================] - 18s 12ms/step - loss: 0.0104 - accuracy: 0.9969 - val_loss: 0.0227 - val_accuracy: 0.9962\n",
            "\n",
            "Epoch 00034: ReduceLROnPlateau reducing learning rate to 3.125000148429535e-05.\n",
            "Epoch 35/70\n",
            "1512/1512 [==============================] - 18s 12ms/step - loss: 0.0108 - accuracy: 0.9966 - val_loss: 0.0220 - val_accuracy: 0.9957\n",
            "Epoch 36/70\n",
            "1512/1512 [==============================] - 18s 12ms/step - loss: 0.0081 - accuracy: 0.9976 - val_loss: 0.0221 - val_accuracy: 0.9957\n",
            "Epoch 37/70\n",
            "1512/1512 [==============================] - 18s 12ms/step - loss: 0.0110 - accuracy: 0.9967 - val_loss: 0.0202 - val_accuracy: 0.9960\n",
            "\n",
            "Epoch 00037: ReduceLROnPlateau reducing learning rate to 1.5625000742147677e-05.\n",
            "Epoch 38/70\n",
            "1512/1512 [==============================] - 18s 12ms/step - loss: 0.0104 - accuracy: 0.9971 - val_loss: 0.0205 - val_accuracy: 0.9960\n",
            "Epoch 39/70\n",
            "1512/1512 [==============================] - 18s 12ms/step - loss: 0.0102 - accuracy: 0.9968 - val_loss: 0.0204 - val_accuracy: 0.9960\n",
            "Epoch 40/70\n",
            "1512/1512 [==============================] - 18s 12ms/step - loss: 0.0117 - accuracy: 0.9968 - val_loss: 0.0199 - val_accuracy: 0.9960\n",
            "\n",
            "Epoch 00040: ReduceLROnPlateau reducing learning rate to 7.812500371073838e-06.\n",
            "Epoch 41/70\n",
            "1512/1512 [==============================] - 18s 12ms/step - loss: 0.0101 - accuracy: 0.9972 - val_loss: 0.0194 - val_accuracy: 0.9960\n",
            "Epoch 42/70\n",
            "1512/1512 [==============================] - 18s 12ms/step - loss: 0.0105 - accuracy: 0.9970 - val_loss: 0.0193 - val_accuracy: 0.9962\n",
            "Epoch 43/70\n",
            "1512/1512 [==============================] - 18s 12ms/step - loss: 0.0084 - accuracy: 0.9975 - val_loss: 0.0202 - val_accuracy: 0.9962\n",
            "\n",
            "Epoch 00043: ReduceLROnPlateau reducing learning rate to 5e-06.\n",
            "Epoch 44/70\n",
            "1512/1512 [==============================] - 18s 12ms/step - loss: 0.0090 - accuracy: 0.9971 - val_loss: 0.0204 - val_accuracy: 0.9962\n",
            "Epoch 45/70\n",
            "1512/1512 [==============================] - 18s 12ms/step - loss: 0.0105 - accuracy: 0.9970 - val_loss: 0.0204 - val_accuracy: 0.9962\n",
            "Epoch 46/70\n",
            "1512/1512 [==============================] - 18s 12ms/step - loss: 0.0085 - accuracy: 0.9973 - val_loss: 0.0208 - val_accuracy: 0.9962\n",
            "Epoch 47/70\n",
            "1512/1512 [==============================] - 18s 12ms/step - loss: 0.0095 - accuracy: 0.9970 - val_loss: 0.0207 - val_accuracy: 0.9964\n",
            "Epoch 48/70\n",
            "1512/1512 [==============================] - 18s 12ms/step - loss: 0.0103 - accuracy: 0.9967 - val_loss: 0.0206 - val_accuracy: 0.9962\n",
            "Epoch 49/70\n",
            "1512/1512 [==============================] - 18s 12ms/step - loss: 0.0091 - accuracy: 0.9974 - val_loss: 0.0205 - val_accuracy: 0.9962\n",
            "Epoch 50/70\n",
            "1512/1512 [==============================] - 18s 12ms/step - loss: 0.0096 - accuracy: 0.9974 - val_loss: 0.0203 - val_accuracy: 0.9962\n",
            "Epoch 51/70\n",
            "1512/1512 [==============================] - 18s 12ms/step - loss: 0.0089 - accuracy: 0.9974 - val_loss: 0.0201 - val_accuracy: 0.9962\n",
            "Epoch 52/70\n",
            "1512/1512 [==============================] - 18s 12ms/step - loss: 0.0094 - accuracy: 0.9975 - val_loss: 0.0203 - val_accuracy: 0.9964\n",
            "Epoch 53/70\n",
            "1512/1512 [==============================] - 18s 12ms/step - loss: 0.0090 - accuracy: 0.9974 - val_loss: 0.0202 - val_accuracy: 0.9964\n",
            "Epoch 54/70\n",
            "1512/1512 [==============================] - 18s 12ms/step - loss: 0.0097 - accuracy: 0.9969 - val_loss: 0.0201 - val_accuracy: 0.9962\n",
            "Epoch 55/70\n",
            "1512/1512 [==============================] - 18s 12ms/step - loss: 0.0082 - accuracy: 0.9973 - val_loss: 0.0203 - val_accuracy: 0.9962\n",
            "Epoch 56/70\n",
            "1512/1512 [==============================] - 18s 12ms/step - loss: 0.0096 - accuracy: 0.9969 - val_loss: 0.0206 - val_accuracy: 0.9962\n",
            "Epoch 57/70\n",
            "1512/1512 [==============================] - 18s 12ms/step - loss: 0.0087 - accuracy: 0.9969 - val_loss: 0.0207 - val_accuracy: 0.9964\n",
            "Epoch 58/70\n",
            "1512/1512 [==============================] - 18s 12ms/step - loss: 0.0089 - accuracy: 0.9974 - val_loss: 0.0208 - val_accuracy: 0.9964\n",
            "Epoch 59/70\n",
            "1512/1512 [==============================] - 18s 12ms/step - loss: 0.0079 - accuracy: 0.9974 - val_loss: 0.0208 - val_accuracy: 0.9964\n",
            "Epoch 60/70\n",
            "1512/1512 [==============================] - 18s 12ms/step - loss: 0.0093 - accuracy: 0.9975 - val_loss: 0.0208 - val_accuracy: 0.9964\n",
            "Epoch 61/70\n",
            "1512/1512 [==============================] - 18s 12ms/step - loss: 0.0089 - accuracy: 0.9976 - val_loss: 0.0206 - val_accuracy: 0.9964\n",
            "Epoch 62/70\n",
            "1512/1512 [==============================] - 18s 12ms/step - loss: 0.0094 - accuracy: 0.9970 - val_loss: 0.0206 - val_accuracy: 0.9964\n",
            "Epoch 63/70\n",
            "1512/1512 [==============================] - 18s 12ms/step - loss: 0.0091 - accuracy: 0.9973 - val_loss: 0.0205 - val_accuracy: 0.9964\n",
            "Epoch 64/70\n",
            "1512/1512 [==============================] - 18s 12ms/step - loss: 0.0087 - accuracy: 0.9974 - val_loss: 0.0209 - val_accuracy: 0.9964\n",
            "Epoch 65/70\n",
            "1512/1512 [==============================] - 18s 12ms/step - loss: 0.0087 - accuracy: 0.9973 - val_loss: 0.0209 - val_accuracy: 0.9962\n",
            "Epoch 66/70\n",
            "1512/1512 [==============================] - 18s 12ms/step - loss: 0.0090 - accuracy: 0.9975 - val_loss: 0.0211 - val_accuracy: 0.9964\n",
            "Epoch 67/70\n",
            "1512/1512 [==============================] - 18s 12ms/step - loss: 0.0102 - accuracy: 0.9970 - val_loss: 0.0207 - val_accuracy: 0.9964\n",
            "Epoch 68/70\n",
            "1512/1512 [==============================] - 18s 12ms/step - loss: 0.0084 - accuracy: 0.9977 - val_loss: 0.0209 - val_accuracy: 0.9960\n",
            "Epoch 69/70\n",
            "1512/1512 [==============================] - 19s 12ms/step - loss: 0.0089 - accuracy: 0.9976 - val_loss: 0.0211 - val_accuracy: 0.9960\n",
            "Epoch 70/70\n",
            "1512/1512 [==============================] - 18s 12ms/step - loss: 0.0091 - accuracy: 0.9971 - val_loss: 0.0207 - val_accuracy: 0.9962\n"
          ],
          "name": "stdout"
        }
      ]
    },
    {
      "cell_type": "code",
      "metadata": {
        "id": "L2aEgqryNpFf",
        "colab_type": "code",
        "outputId": "bb055317-f359-41f6-e0fb-21b8eddf4fd1",
        "colab": {
          "base_uri": "https://localhost:8080/",
          "height": 336
        }
      },
      "source": [
        "# check convergence and overfitting\n",
        "\n",
        "fig, ax = plt.subplots(1,2, figsize=(25,7))\n",
        "ax[0].plot(history.epoch, history.history[\"accuracy\"], marker=\"o\", label=\"accuracy\")\n",
        "ax[0].plot(history.epoch, history.history[\"val_accuracy\"], marker=\"o\", label=\"val_accuracy\")\n",
        "ax[0].set_xlabel(\"epochs\")\n",
        "ax[0].set_ylabel(\"accuracy\")\n",
        "ax[0].legend()\n",
        "ax[0].set_xticks(ticks=list(range(history.epoch[0], history.epoch[-1]+1)))\n",
        "ax[0].grid(axis=\"y\")\n",
        "\n",
        "ax[1].plot(history.epoch, history.history[\"loss\"], marker=\"o\", label=\"loss\")\n",
        "ax[1].set_xticks(ticks=history.epoch)\n",
        "ax[1].set_xlabel(\"epoch\")\n",
        "ax[1].set_ylabel(\"loss\")\n",
        "print(\"best accuracy: \", max(history.history[\"val_accuracy\"]))"
      ],
      "execution_count": 121,
      "outputs": [
        {
          "output_type": "stream",
          "text": [
            "best accuracy:  0.9971428513526917\n"
          ],
          "name": "stdout"
        },
        {
          "output_type": "display_data",
          "data": {
            "image/png": "[encoded data removed]",
            "text/plain": [
              "<Figure size 1800x504 with 2 Axes>"
            ]
          },
          "metadata": {
            "tags": []
          }
        }
      ]
    },
    {
      "cell_type": "markdown",
      "metadata": {
        "id": "SPzH6PVLSarp",
        "colab_type": "text"
      },
      "source": [
        "### Result History\n",
        "#### Initial\n",
        "\n",
        "1. init: 0.99\n",
        "2. conv2d bias=true: 0.987\n",
        "3. dense bias=true: 0.986\n",
        "4. v2 + drop+ conv2d: 0.989, 0.991\n",
        "5. v3 + conv2d: 0.9902\n",
        "6. v4 + maxpool2d + drop: 0.9907, 0.993\n",
        "7. v4 with rmsprop: 0.99\n",
        "8. v4 with batch=20: 0.989, 0.9933, 0.994\n",
        "9. v5 + conv2d + drop: 0.9904, 0.9935, 0.9935\n",
        "10. v5.1: 0.987, 0.993, 0.995\n",
        "---\n",
        "#### Adding another layer of conv2d, maxpool, and dropout:\n",
        "\n",
        "11. v5: 0.9912, 0.991, 0.993\n",
        "12. v6 + conv2d: 0.988, 0.9917, 0.9928\n",
        "13. v5 0.2,0.1: 0.991, 0.9928\n",
        "14. v7 - drop: 0.992, 0.9928, 0.993\n",
        "15. v8 - dense: 0.993, 0.994, 0.9928, 0.9935\n",
        "\n",
        "* **test accuracy: ~0.991**\n",
        "---\n",
        "#### Adding Data Augmentation:\n",
        "16. v8 +aug: 0.992\n",
        "17. v5 + aug.2: 0.992, 0.993\n",
        "18. v5 + augmentation with ~30 epochs: 0,995\n",
        "\n",
        "* **test accuracy: ~0.994**\n",
        "---\n",
        "#### Adding ReduceLROnPlateau: \n",
        "\n",
        "19. min_lr=0.0001: 0.9959\n",
        "20. min_lr=0.00001: 0.9961\n",
        "\n",
        "* **test accuracy: ~0.996**\n",
        "---\n",
        "#### Enable use_bias in layers\n",
        "21. min_lr=0.00001 + bias + 512 neurons in the last dense layer: 0.997\n",
        "\n",
        "* **test accuracy: 0.9951**\n",
        "---\n",
        "#### use fit_generator to train on augmented images from generator\n",
        "22. min_lr=0.00001: 0.9959\n",
        "23. min_lr=0.000005: 0.9971\n"
      ]
    },
    {
      "cell_type": "markdown",
      "metadata": {
        "id": "4D4Y_nO-5BM6",
        "colab_type": "text"
      },
      "source": [
        "## Analysis Result"
      ]
    },
    {
      "cell_type": "code",
      "metadata": {
        "id": "hYd-DmELNpFl",
        "colab_type": "code",
        "outputId": "1cccd39a-b380-4959-84c9-4a0395edca96",
        "colab": {
          "base_uri": "https://localhost:8080/",
          "height": 447
        }
      },
      "source": [
        "# print the confusion matrix for the model evaluated on the validation data\n",
        "\n",
        "Y_predict_class = np.argmax(model.predict(X_val), axis=1)\n",
        "# Y_predict_class = np.argmax(model.predict(X_train_aug), axis=1)\n",
        "\n",
        "cm = confusion_matrix(np.argmax(Y_val, axis=1), Y_predict_class)  # C(i,j) = # of labels i classified as j\n",
        "# cm = confusion_matrix(np.argmax(Y_train_aug, axis=1), Y_predict_class)\n",
        "plt.figure(figsize = (10,7))\n",
        "sns.set(font_scale=0.8) # for label size\n",
        "sns.heatmap(pd.DataFrame(cm, index=pd.RangeIndex(10), columns=pd.RangeIndex(10)) , annot=True, cmap=plt.cm.Blues)\n",
        "print(\"total missing: \", (np.argmax(Y_val, axis=1) != Y_predict_class).sum())"
      ],
      "execution_count": 113,
      "outputs": [
        {
          "output_type": "stream",
          "text": [
            "total missing:  16\n"
          ],
          "name": "stdout"
        },
        {
          "output_type": "display_data",
          "data": {
            "image/png": "[encoded data removed]",
            "text/plain": [
              "<Figure size 720x504 with 2 Axes>"
            ]
          },
          "metadata": {
            "tags": []
          }
        }
      ]
    },
    {
      "cell_type": "code",
      "metadata": {
        "id": "t1MLuWHlNpFp",
        "colab_type": "code",
        "outputId": "c0adac79-ee3f-4481-80ce-7c575fd14b7a",
        "colab": {
          "base_uri": "https://localhost:8080/",
          "height": 390
        }
      },
      "source": [
        "# print the total missing for each digit\n",
        "\n",
        "Y_val_class = np.argmax(Y_val, axis=1)\n",
        "# Y_val_class = np.argmax(Y_train_aug, axis=1)\n",
        "result = pd.DataFrame({\"true\":Y_val_class, \"predict\":Y_predict_class})\n",
        "missing_by_label = result.groupby(\"true\").apply(lambda df: (df[\"true\"] != df[\"predict\"]).sum()).to_frame().rename(columns={0:\"count\"})\n",
        "missing_by_label"
      ],
      "execution_count": 114,
      "outputs": [
        {
          "output_type": "execute_result",
          "data": {
            "text/html": [
              "<div>\n",
              "<style scoped>\n",
              "    .dataframe tbody tr th:only-of-type {\n",
              "        vertical-align: middle;\n",
              "    }\n",
              "\n",
              "    .dataframe tbody tr th {\n",
              "        vertical-align: top;\n",
              "    }\n",
              "\n",
              "    .dataframe thead th {\n",
              "        text-align: right;\n",
              "    }\n",
              "</style>\n",
              "<table border=\"1\" class=\"dataframe\">\n",
              "  <thead>\n",
              "    <tr style=\"text-align: right;\">\n",
              "      <th></th>\n",
              "      <th>count</th>\n",
              "    </tr>\n",
              "    <tr>\n",
              "      <th>true</th>\n",
              "      <th></th>\n",
              "    </tr>\n",
              "  </thead>\n",
              "  <tbody>\n",
              "    <tr>\n",
              "      <th>0</th>\n",
              "      <td>0</td>\n",
              "    </tr>\n",
              "    <tr>\n",
              "      <th>1</th>\n",
              "      <td>1</td>\n",
              "    </tr>\n",
              "    <tr>\n",
              "      <th>2</th>\n",
              "      <td>0</td>\n",
              "    </tr>\n",
              "    <tr>\n",
              "      <th>3</th>\n",
              "      <td>3</td>\n",
              "    </tr>\n",
              "    <tr>\n",
              "      <th>4</th>\n",
              "      <td>2</td>\n",
              "    </tr>\n",
              "    <tr>\n",
              "      <th>5</th>\n",
              "      <td>3</td>\n",
              "    </tr>\n",
              "    <tr>\n",
              "      <th>6</th>\n",
              "      <td>3</td>\n",
              "    </tr>\n",
              "    <tr>\n",
              "      <th>7</th>\n",
              "      <td>0</td>\n",
              "    </tr>\n",
              "    <tr>\n",
              "      <th>8</th>\n",
              "      <td>2</td>\n",
              "    </tr>\n",
              "    <tr>\n",
              "      <th>9</th>\n",
              "      <td>2</td>\n",
              "    </tr>\n",
              "  </tbody>\n",
              "</table>\n",
              "</div>"
            ],
            "text/plain": [
              "      count\n",
              "true       \n",
              "0         0\n",
              "1         1\n",
              "2         0\n",
              "3         3\n",
              "4         2\n",
              "5         3\n",
              "6         3\n",
              "7         0\n",
              "8         2\n",
              "9         2"
            ]
          },
          "metadata": {
            "tags": []
          },
          "execution_count": 114
        }
      ]
    },
    {
      "cell_type": "code",
      "metadata": {
        "id": "QCCNrnIPK88W",
        "colab_type": "code",
        "colab": {
          "base_uri": "https://localhost:8080/",
          "height": 34
        },
        "outputId": "eab82e70-81ef-4c38-e1cc-e68c27603064"
      },
      "source": [
        "X_val.shape"
      ],
      "execution_count": 115,
      "outputs": [
        {
          "output_type": "execute_result",
          "data": {
            "text/plain": [
              "(4200, 28, 28, 1)"
            ]
          },
          "metadata": {
            "tags": []
          },
          "execution_count": 115
        }
      ]
    },
    {
      "cell_type": "code",
      "metadata": {
        "id": "T1Ev_uXTBbVW",
        "colab_type": "code",
        "colab": {
          "base_uri": "https://localhost:8080/",
          "height": 889
        },
        "outputId": "3876f24b-7766-4f84-c922-868cfd50b68b"
      },
      "source": [
        "## print some confusing figures that defeat the model:\n",
        "\n",
        "Y_predict_class = np.argmax(model.predict(X_val), axis=1)\n",
        "Y_val_class = np.argmax(Y_val, axis=1)\n",
        "worst_label = missing_by_label[\"count\"].argmax()\n",
        "error_index = (Y_predict_class != Y_val_class) & (Y_val_class == worst_label)\n",
        "error_pixel = X_val[error_index, :, :, 0]\n",
        "error_label = Y_predict_class[error_index]\n",
        "\n",
        "num = error_index.sum()\n",
        "fig, axes = plt.subplots(num, 1, figsize=(3, num*3), constrained_layout=True)\n",
        "for i in range(num):\n",
        "    axes[i].imshow(error_pixel[i], cmap=\"Greys\")\n",
        "    axes[i].set_title(\"label: %d, classified as: %d\" % (worst_label, error_label[i]))\n",
        "\n",
        "# ax[i].imshow(example[0][:,:,0], cmap=\"Greys\")\n",
        "#     ax[i].set_title(\"labels: % d\" % example_label)\n",
        "# error_label"
      ],
      "execution_count": 87,
      "outputs": [
        {
          "output_type": "display_data",
          "data": {
            "image/png": "[encoded data removed]",
            "text/plain": [
              "<Figure size 216x864 with 4 Axes>"
            ]
          },
          "metadata": {
            "tags": []
          }
        }
      ]
    },
    {
      "cell_type": "markdown",
      "metadata": {
        "id": "Ss4zdPR9ChMl",
        "colab_type": "text"
      },
      "source": [
        "## Prediction on Test Data & Submission"
      ]
    },
    {
      "cell_type": "code",
      "metadata": {
        "id": "ipEAfHx_CjU7",
        "colab_type": "code",
        "outputId": "11e7c6d5-bb55-4f22-e10a-d5ff915c4410",
        "colab": {
          "base_uri": "https://localhost:8080/",
          "height": 419
        }
      },
      "source": [
        "test_df = pd.read_csv(test_fp)\n",
        "X_test = np.reshape(test_df.values / 255, (-1, 28, 28, 1))\n",
        "\n",
        "test_prediction = np.argmax(model.predict(X_test), axis=1)\n",
        "test_result_sr = pd.DataFrame({\"ImageId\": np.arange(1, len(test_prediction)+1), \"Label\": test_prediction})\n",
        "test_result_sr"
      ],
      "execution_count": 116,
      "outputs": [
        {
          "output_type": "execute_result",
          "data": {
            "text/html": [
              "<div>\n",
              "<style scoped>\n",
              "    .dataframe tbody tr th:only-of-type {\n",
              "        vertical-align: middle;\n",
              "    }\n",
              "\n",
              "    .dataframe tbody tr th {\n",
              "        vertical-align: top;\n",
              "    }\n",
              "\n",
              "    .dataframe thead th {\n",
              "        text-align: right;\n",
              "    }\n",
              "</style>\n",
              "<table border=\"1\" class=\"dataframe\">\n",
              "  <thead>\n",
              "    <tr style=\"text-align: right;\">\n",
              "      <th></th>\n",
              "      <th>ImageId</th>\n",
              "      <th>Label</th>\n",
              "    </tr>\n",
              "  </thead>\n",
              "  <tbody>\n",
              "    <tr>\n",
              "      <th>0</th>\n",
              "      <td>1</td>\n",
              "      <td>2</td>\n",
              "    </tr>\n",
              "    <tr>\n",
              "      <th>1</th>\n",
              "      <td>2</td>\n",
              "      <td>0</td>\n",
              "    </tr>\n",
              "    <tr>\n",
              "      <th>2</th>\n",
              "      <td>3</td>\n",
              "      <td>9</td>\n",
              "    </tr>\n",
              "    <tr>\n",
              "      <th>3</th>\n",
              "      <td>4</td>\n",
              "      <td>0</td>\n",
              "    </tr>\n",
              "    <tr>\n",
              "      <th>4</th>\n",
              "      <td>5</td>\n",
              "      <td>3</td>\n",
              "    </tr>\n",
              "    <tr>\n",
              "      <th>...</th>\n",
              "      <td>...</td>\n",
              "      <td>...</td>\n",
              "    </tr>\n",
              "    <tr>\n",
              "      <th>27995</th>\n",
              "      <td>27996</td>\n",
              "      <td>9</td>\n",
              "    </tr>\n",
              "    <tr>\n",
              "      <th>27996</th>\n",
              "      <td>27997</td>\n",
              "      <td>7</td>\n",
              "    </tr>\n",
              "    <tr>\n",
              "      <th>27997</th>\n",
              "      <td>27998</td>\n",
              "      <td>3</td>\n",
              "    </tr>\n",
              "    <tr>\n",
              "      <th>27998</th>\n",
              "      <td>27999</td>\n",
              "      <td>9</td>\n",
              "    </tr>\n",
              "    <tr>\n",
              "      <th>27999</th>\n",
              "      <td>28000</td>\n",
              "      <td>2</td>\n",
              "    </tr>\n",
              "  </tbody>\n",
              "</table>\n",
              "<p>28000 rows × 2 columns</p>\n",
              "</div>"
            ],
            "text/plain": [
              "       ImageId  Label\n",
              "0            1      2\n",
              "1            2      0\n",
              "2            3      9\n",
              "3            4      0\n",
              "4            5      3\n",
              "...        ...    ...\n",
              "27995    27996      9\n",
              "27996    27997      7\n",
              "27997    27998      3\n",
              "27998    27999      9\n",
              "27999    28000      2\n",
              "\n",
              "[28000 rows x 2 columns]"
            ]
          },
          "metadata": {
            "tags": []
          },
          "execution_count": 116
        }
      ]
    },
    {
      "cell_type": "code",
      "metadata": {
        "id": "TURge_5oCjaR",
        "colab_type": "code",
        "colab": {}
      },
      "source": [
        "output_fp = os.path.join(\"/content/drive/My Drive/Colab Notebooks/Digit Recognition/data/submission.csv\")\n",
        "test_result_sr.to_csv(output_fp, index=False)"
      ],
      "execution_count": 0,
      "outputs": []
    },
    {
      "cell_type": "markdown",
      "metadata": {
        "id": "d5wRMcwGXS7c",
        "colab_type": "text"
      },
      "source": [
        "# Remarks\n",
        "\n",
        "* The digit 4 and the digit 9 often confuse the model and appear in the analysis result section, but it should be reasonable as a closer look at those failing images will reveal the difficulty for classification even for humans.\n",
        "\n",
        "* On the other side, the digit 5 constantly appears in the failing list, and it is easy for the model to confuse 5 with 3, 6, 8, .... One possible explanation is that the digit 5 has the least amount of data for training and validation as shown in the analysis in the Dataset Overview sections."
      ]
    },
    {
      "cell_type": "markdown",
      "metadata": {
        "id": "Rf5JKrh_NpGN",
        "colab_type": "text"
      },
      "source": [
        "# Reference:\n",
        "https://www.kaggle.com/yassineghouzam/introduction-to-cnn-keras-0-997-top-6/notebook#2.-Data-preparation\n",
        "\n",
        "https://github.com/ctwayen/Digit-Recognizer\n",
        "\n",
        "https://machinelearningmastery.com/understand-the-dynamics-of-learning-rate-on-deep-learning-neural-networks/\n"
      ]
    },
    {
      "cell_type": "code",
      "metadata": {
        "id": "Cfl_1P1fkP0s",
        "colab_type": "code",
        "colab": {}
      },
      "source": [
        ""
      ],
      "execution_count": 0,
      "outputs": []
    }
  ]
}