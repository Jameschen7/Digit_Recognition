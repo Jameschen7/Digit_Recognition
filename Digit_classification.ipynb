{
  "nbformat": 4,
  "nbformat_minor": 0,
  "metadata": {
    "kernelspec": {
      "display_name": "Python 3",
      "language": "python",
      "name": "python3"
    },
    "language_info": {
      "codemirror_mode": {
        "name": "ipython",
        "version": 3
      },
      "file_extension": ".py",
      "mimetype": "text/x-python",
      "name": "python",
      "nbconvert_exporter": "python",
      "pygments_lexer": "ipython3",
      "version": "3.7.2"
    },
    "colab": {
      "name": "Digit classification.ipynb",
      "provenance": [],
      "collapsed_sections": [],
      "toc_visible": true,
      "include_colab_link": true
    },
    "accelerator": "GPU"
  },
  "cells": [
    {
      "cell_type": "markdown",
      "metadata": {
        "id": "view-in-github",
        "colab_type": "text"
      },
      "source": [
        "<a href=\"https://colab.research.google.com/github/Jameschen7/Digit_Recognition/blob/master/Digit_classification.ipynb\" target=\"_parent\"><img src=\"https://colab.research.google.com/assets/colab-badge.svg\" alt=\"Open In Colab\"/></a>"
      ]
    },
    {
      "cell_type": "markdown",
      "metadata": {
        "id": "KIMa-oOqNpDJ",
        "colab_type": "text"
      },
      "source": [
        "# Digit recognition competition"
      ]
    },
    {
      "cell_type": "markdown",
      "metadata": {
        "id": "SD3i4MU1x3DS",
        "colab_type": "text"
      },
      "source": [
        "## Dataset Overview"
      ]
    },
    {
      "cell_type": "code",
      "metadata": {
        "id": "dGfW1odhNw6m",
        "colab_type": "code",
        "outputId": "fcdf22a7-f251-4899-b411-341940dc444b",
        "colab": {
          "base_uri": "https://localhost:8080/",
          "height": 122
        }
      },
      "source": [
        "from google.colab import drive\n",
        "drive.mount('/content/drive')"
      ],
      "execution_count": 4,
      "outputs": [
        {
          "output_type": "stream",
          "text": [
            "Go to this URL in a browser: https://accounts.google.com/o/oauth2/auth?client_id=947318989803-6bn6qk8qdgf4n4g3pfee6491hc0brc4i.apps.googleusercontent.com&redirect_uri=urn%3aietf%3awg%3aoauth%3a2.0%3aoob&response_type=code&scope=email%20https%3a%2f%2fwww.googleapis.com%2fauth%2fdocs.test%20https%3a%2f%2fwww.googleapis.com%2fauth%2fdrive%20https%3a%2f%2fwww.googleapis.com%2fauth%2fdrive.photos.readonly%20https%3a%2f%2fwww.googleapis.com%2fauth%2fpeopleapi.readonly\n",
            "\n",
            "Enter your authorization code:\n",
            "··········\n",
            "Mounted at /content/drive\n"
          ],
          "name": "stdout"
        }
      ]
    },
    {
      "cell_type": "code",
      "metadata": {
        "id": "tRR17WJqNpDL",
        "colab_type": "code",
        "colab": {}
      },
      "source": [
        "import pandas as pd\n",
        "import numpy as np\n",
        "import os\n",
        "import matplotlib.pyplot as plt\n",
        "import seaborn as sns\n",
        "\n",
        "from sklearn.model_selection import train_test_split\n",
        "from sklearn.metrics import confusion_matrix\n",
        "from sklearn.utils import shuffle\n",
        "\n",
        "from keras.utils.np_utils import to_categorical\n",
        "from keras.models import Sequential\n",
        "from keras.layers import Dense, Flatten, Conv2D, Dropout, MaxPooling2D\n",
        "from keras.preprocessing.image import ImageDataGenerator\n",
        "from keras.callbacks import ReduceLROnPlateau"
      ],
      "execution_count": 0,
      "outputs": []
    },
    {
      "cell_type": "code",
      "metadata": {
        "id": "sR1MYDHuNpDk",
        "colab_type": "code",
        "colab": {}
      },
      "source": [
        "# data_dir = \"data\"?\n",
        "# train_fp = os.path.join(os.path.curdir, data_dir, \"train.csv\")\n",
        "# test_fp = os.path.join(data_dir, \"test.csv\")\n",
        "train_fp = \"/content/drive/My Drive/Colab Notebooks/Digit Recognition/data/train.csv\"\n",
        "test_fp = \"/content/drive/My Drive/Colab Notebooks/Digit Recognition/data/test.csv\" "
      ],
      "execution_count": 0,
      "outputs": []
    },
    {
      "cell_type": "code",
      "metadata": {
        "id": "WoMxqABaOEBM",
        "colab_type": "code",
        "outputId": "a5bd1180-3519-457a-e1f8-ebf2ede4c4f8",
        "colab": {
          "base_uri": "https://localhost:8080/",
          "height": 34
        }
      },
      "source": [
        "train_fp"
      ],
      "execution_count": 0,
      "outputs": [
        {
          "output_type": "execute_result",
          "data": {
            "text/plain": [
              "'/content/drive/My Drive/Colab Notebooks/Digit Recognition/data/train.csv'"
            ]
          },
          "metadata": {
            "tags": []
          },
          "execution_count": 7
        }
      ]
    },
    {
      "cell_type": "code",
      "metadata": {
        "scrolled": true,
        "id": "feV7MfDhNpEC",
        "colab_type": "code",
        "outputId": "c5f64b5c-6256-4df8-cf40-ce91c987fa88",
        "colab": {
          "base_uri": "https://localhost:8080/",
          "height": 439
        }
      },
      "source": [
        "train_df = pd.read_csv(train_fp)\n",
        "train_df"
      ],
      "execution_count": 0,
      "outputs": [
        {
          "output_type": "execute_result",
          "data": {
            "text/html": [
              "<div>\n",
              "<style scoped>\n",
              "    .dataframe tbody tr th:only-of-type {\n",
              "        vertical-align: middle;\n",
              "    }\n",
              "\n",
              "    .dataframe tbody tr th {\n",
              "        vertical-align: top;\n",
              "    }\n",
              "\n",
              "    .dataframe thead th {\n",
              "        text-align: right;\n",
              "    }\n",
              "</style>\n",
              "<table border=\"1\" class=\"dataframe\">\n",
              "  <thead>\n",
              "    <tr style=\"text-align: right;\">\n",
              "      <th></th>\n",
              "      <th>label</th>\n",
              "      <th>pixel0</th>\n",
              "      <th>pixel1</th>\n",
              "      <th>pixel2</th>\n",
              "      <th>pixel3</th>\n",
              "      <th>pixel4</th>\n",
              "      <th>pixel5</th>\n",
              "      <th>pixel6</th>\n",
              "      <th>pixel7</th>\n",
              "      <th>pixel8</th>\n",
              "      <th>pixel9</th>\n",
              "      <th>pixel10</th>\n",
              "      <th>pixel11</th>\n",
              "      <th>pixel12</th>\n",
              "      <th>pixel13</th>\n",
              "      <th>pixel14</th>\n",
              "      <th>pixel15</th>\n",
              "      <th>pixel16</th>\n",
              "      <th>pixel17</th>\n",
              "      <th>pixel18</th>\n",
              "      <th>pixel19</th>\n",
              "      <th>pixel20</th>\n",
              "      <th>pixel21</th>\n",
              "      <th>pixel22</th>\n",
              "      <th>pixel23</th>\n",
              "      <th>pixel24</th>\n",
              "      <th>pixel25</th>\n",
              "      <th>pixel26</th>\n",
              "      <th>pixel27</th>\n",
              "      <th>pixel28</th>\n",
              "      <th>pixel29</th>\n",
              "      <th>pixel30</th>\n",
              "      <th>pixel31</th>\n",
              "      <th>pixel32</th>\n",
              "      <th>pixel33</th>\n",
              "      <th>pixel34</th>\n",
              "      <th>pixel35</th>\n",
              "      <th>pixel36</th>\n",
              "      <th>pixel37</th>\n",
              "      <th>pixel38</th>\n",
              "      <th>...</th>\n",
              "      <th>pixel744</th>\n",
              "      <th>pixel745</th>\n",
              "      <th>pixel746</th>\n",
              "      <th>pixel747</th>\n",
              "      <th>pixel748</th>\n",
              "      <th>pixel749</th>\n",
              "      <th>pixel750</th>\n",
              "      <th>pixel751</th>\n",
              "      <th>pixel752</th>\n",
              "      <th>pixel753</th>\n",
              "      <th>pixel754</th>\n",
              "      <th>pixel755</th>\n",
              "      <th>pixel756</th>\n",
              "      <th>pixel757</th>\n",
              "      <th>pixel758</th>\n",
              "      <th>pixel759</th>\n",
              "      <th>pixel760</th>\n",
              "      <th>pixel761</th>\n",
              "      <th>pixel762</th>\n",
              "      <th>pixel763</th>\n",
              "      <th>pixel764</th>\n",
              "      <th>pixel765</th>\n",
              "      <th>pixel766</th>\n",
              "      <th>pixel767</th>\n",
              "      <th>pixel768</th>\n",
              "      <th>pixel769</th>\n",
              "      <th>pixel770</th>\n",
              "      <th>pixel771</th>\n",
              "      <th>pixel772</th>\n",
              "      <th>pixel773</th>\n",
              "      <th>pixel774</th>\n",
              "      <th>pixel775</th>\n",
              "      <th>pixel776</th>\n",
              "      <th>pixel777</th>\n",
              "      <th>pixel778</th>\n",
              "      <th>pixel779</th>\n",
              "      <th>pixel780</th>\n",
              "      <th>pixel781</th>\n",
              "      <th>pixel782</th>\n",
              "      <th>pixel783</th>\n",
              "    </tr>\n",
              "  </thead>\n",
              "  <tbody>\n",
              "    <tr>\n",
              "      <th>0</th>\n",
              "      <td>1</td>\n",
              "      <td>0</td>\n",
              "      <td>0</td>\n",
              "      <td>0</td>\n",
              "      <td>0</td>\n",
              "      <td>0</td>\n",
              "      <td>0</td>\n",
              "      <td>0</td>\n",
              "      <td>0</td>\n",
              "      <td>0</td>\n",
              "      <td>0</td>\n",
              "      <td>0</td>\n",
              "      <td>0</td>\n",
              "      <td>0</td>\n",
              "      <td>0</td>\n",
              "      <td>0</td>\n",
              "      <td>0</td>\n",
              "      <td>0</td>\n",
              "      <td>0</td>\n",
              "      <td>0</td>\n",
              "      <td>0</td>\n",
              "      <td>0</td>\n",
              "      <td>0</td>\n",
              "      <td>0</td>\n",
              "      <td>0</td>\n",
              "      <td>0</td>\n",
              "      <td>0</td>\n",
              "      <td>0</td>\n",
              "      <td>0</td>\n",
              "      <td>0</td>\n",
              "      <td>0</td>\n",
              "      <td>0</td>\n",
              "      <td>0</td>\n",
              "      <td>0</td>\n",
              "      <td>0</td>\n",
              "      <td>0</td>\n",
              "      <td>0</td>\n",
              "      <td>0</td>\n",
              "      <td>0</td>\n",
              "      <td>0</td>\n",
              "      <td>...</td>\n",
              "      <td>0</td>\n",
              "      <td>0</td>\n",
              "      <td>0</td>\n",
              "      <td>0</td>\n",
              "      <td>0</td>\n",
              "      <td>0</td>\n",
              "      <td>0</td>\n",
              "      <td>0</td>\n",
              "      <td>0</td>\n",
              "      <td>0</td>\n",
              "      <td>0</td>\n",
              "      <td>0</td>\n",
              "      <td>0</td>\n",
              "      <td>0</td>\n",
              "      <td>0</td>\n",
              "      <td>0</td>\n",
              "      <td>0</td>\n",
              "      <td>0</td>\n",
              "      <td>0</td>\n",
              "      <td>0</td>\n",
              "      <td>0</td>\n",
              "      <td>0</td>\n",
              "      <td>0</td>\n",
              "      <td>0</td>\n",
              "      <td>0</td>\n",
              "      <td>0</td>\n",
              "      <td>0</td>\n",
              "      <td>0</td>\n",
              "      <td>0</td>\n",
              "      <td>0</td>\n",
              "      <td>0</td>\n",
              "      <td>0</td>\n",
              "      <td>0</td>\n",
              "      <td>0</td>\n",
              "      <td>0</td>\n",
              "      <td>0</td>\n",
              "      <td>0</td>\n",
              "      <td>0</td>\n",
              "      <td>0</td>\n",
              "      <td>0</td>\n",
              "    </tr>\n",
              "    <tr>\n",
              "      <th>1</th>\n",
              "      <td>0</td>\n",
              "      <td>0</td>\n",
              "      <td>0</td>\n",
              "      <td>0</td>\n",
              "      <td>0</td>\n",
              "      <td>0</td>\n",
              "      <td>0</td>\n",
              "      <td>0</td>\n",
              "      <td>0</td>\n",
              "      <td>0</td>\n",
              "      <td>0</td>\n",
              "      <td>0</td>\n",
              "      <td>0</td>\n",
              "      <td>0</td>\n",
              "      <td>0</td>\n",
              "      <td>0</td>\n",
              "      <td>0</td>\n",
              "      <td>0</td>\n",
              "      <td>0</td>\n",
              "      <td>0</td>\n",
              "      <td>0</td>\n",
              "      <td>0</td>\n",
              "      <td>0</td>\n",
              "      <td>0</td>\n",
              "      <td>0</td>\n",
              "      <td>0</td>\n",
              "      <td>0</td>\n",
              "      <td>0</td>\n",
              "      <td>0</td>\n",
              "      <td>0</td>\n",
              "      <td>0</td>\n",
              "      <td>0</td>\n",
              "      <td>0</td>\n",
              "      <td>0</td>\n",
              "      <td>0</td>\n",
              "      <td>0</td>\n",
              "      <td>0</td>\n",
              "      <td>0</td>\n",
              "      <td>0</td>\n",
              "      <td>0</td>\n",
              "      <td>...</td>\n",
              "      <td>0</td>\n",
              "      <td>0</td>\n",
              "      <td>0</td>\n",
              "      <td>0</td>\n",
              "      <td>0</td>\n",
              "      <td>0</td>\n",
              "      <td>0</td>\n",
              "      <td>0</td>\n",
              "      <td>0</td>\n",
              "      <td>0</td>\n",
              "      <td>0</td>\n",
              "      <td>0</td>\n",
              "      <td>0</td>\n",
              "      <td>0</td>\n",
              "      <td>0</td>\n",
              "      <td>0</td>\n",
              "      <td>0</td>\n",
              "      <td>0</td>\n",
              "      <td>0</td>\n",
              "      <td>0</td>\n",
              "      <td>0</td>\n",
              "      <td>0</td>\n",
              "      <td>0</td>\n",
              "      <td>0</td>\n",
              "      <td>0</td>\n",
              "      <td>0</td>\n",
              "      <td>0</td>\n",
              "      <td>0</td>\n",
              "      <td>0</td>\n",
              "      <td>0</td>\n",
              "      <td>0</td>\n",
              "      <td>0</td>\n",
              "      <td>0</td>\n",
              "      <td>0</td>\n",
              "      <td>0</td>\n",
              "      <td>0</td>\n",
              "      <td>0</td>\n",
              "      <td>0</td>\n",
              "      <td>0</td>\n",
              "      <td>0</td>\n",
              "    </tr>\n",
              "    <tr>\n",
              "      <th>2</th>\n",
              "      <td>1</td>\n",
              "      <td>0</td>\n",
              "      <td>0</td>\n",
              "      <td>0</td>\n",
              "      <td>0</td>\n",
              "      <td>0</td>\n",
              "      <td>0</td>\n",
              "      <td>0</td>\n",
              "      <td>0</td>\n",
              "      <td>0</td>\n",
              "      <td>0</td>\n",
              "      <td>0</td>\n",
              "      <td>0</td>\n",
              "      <td>0</td>\n",
              "      <td>0</td>\n",
              "      <td>0</td>\n",
              "      <td>0</td>\n",
              "      <td>0</td>\n",
              "      <td>0</td>\n",
              "      <td>0</td>\n",
              "      <td>0</td>\n",
              "      <td>0</td>\n",
              "      <td>0</td>\n",
              "      <td>0</td>\n",
              "      <td>0</td>\n",
              "      <td>0</td>\n",
              "      <td>0</td>\n",
              "      <td>0</td>\n",
              "      <td>0</td>\n",
              "      <td>0</td>\n",
              "      <td>0</td>\n",
              "      <td>0</td>\n",
              "      <td>0</td>\n",
              "      <td>0</td>\n",
              "      <td>0</td>\n",
              "      <td>0</td>\n",
              "      <td>0</td>\n",
              "      <td>0</td>\n",
              "      <td>0</td>\n",
              "      <td>0</td>\n",
              "      <td>...</td>\n",
              "      <td>0</td>\n",
              "      <td>0</td>\n",
              "      <td>0</td>\n",
              "      <td>0</td>\n",
              "      <td>0</td>\n",
              "      <td>0</td>\n",
              "      <td>0</td>\n",
              "      <td>0</td>\n",
              "      <td>0</td>\n",
              "      <td>0</td>\n",
              "      <td>0</td>\n",
              "      <td>0</td>\n",
              "      <td>0</td>\n",
              "      <td>0</td>\n",
              "      <td>0</td>\n",
              "      <td>0</td>\n",
              "      <td>0</td>\n",
              "      <td>0</td>\n",
              "      <td>0</td>\n",
              "      <td>0</td>\n",
              "      <td>0</td>\n",
              "      <td>0</td>\n",
              "      <td>0</td>\n",
              "      <td>0</td>\n",
              "      <td>0</td>\n",
              "      <td>0</td>\n",
              "      <td>0</td>\n",
              "      <td>0</td>\n",
              "      <td>0</td>\n",
              "      <td>0</td>\n",
              "      <td>0</td>\n",
              "      <td>0</td>\n",
              "      <td>0</td>\n",
              "      <td>0</td>\n",
              "      <td>0</td>\n",
              "      <td>0</td>\n",
              "      <td>0</td>\n",
              "      <td>0</td>\n",
              "      <td>0</td>\n",
              "      <td>0</td>\n",
              "    </tr>\n",
              "    <tr>\n",
              "      <th>3</th>\n",
              "      <td>4</td>\n",
              "      <td>0</td>\n",
              "      <td>0</td>\n",
              "      <td>0</td>\n",
              "      <td>0</td>\n",
              "      <td>0</td>\n",
              "      <td>0</td>\n",
              "      <td>0</td>\n",
              "      <td>0</td>\n",
              "      <td>0</td>\n",
              "      <td>0</td>\n",
              "      <td>0</td>\n",
              "      <td>0</td>\n",
              "      <td>0</td>\n",
              "      <td>0</td>\n",
              "      <td>0</td>\n",
              "      <td>0</td>\n",
              "      <td>0</td>\n",
              "      <td>0</td>\n",
              "      <td>0</td>\n",
              "      <td>0</td>\n",
              "      <td>0</td>\n",
              "      <td>0</td>\n",
              "      <td>0</td>\n",
              "      <td>0</td>\n",
              "      <td>0</td>\n",
              "      <td>0</td>\n",
              "      <td>0</td>\n",
              "      <td>0</td>\n",
              "      <td>0</td>\n",
              "      <td>0</td>\n",
              "      <td>0</td>\n",
              "      <td>0</td>\n",
              "      <td>0</td>\n",
              "      <td>0</td>\n",
              "      <td>0</td>\n",
              "      <td>0</td>\n",
              "      <td>0</td>\n",
              "      <td>0</td>\n",
              "      <td>0</td>\n",
              "      <td>...</td>\n",
              "      <td>0</td>\n",
              "      <td>0</td>\n",
              "      <td>0</td>\n",
              "      <td>0</td>\n",
              "      <td>0</td>\n",
              "      <td>0</td>\n",
              "      <td>0</td>\n",
              "      <td>0</td>\n",
              "      <td>0</td>\n",
              "      <td>0</td>\n",
              "      <td>0</td>\n",
              "      <td>0</td>\n",
              "      <td>0</td>\n",
              "      <td>0</td>\n",
              "      <td>0</td>\n",
              "      <td>0</td>\n",
              "      <td>0</td>\n",
              "      <td>0</td>\n",
              "      <td>0</td>\n",
              "      <td>0</td>\n",
              "      <td>0</td>\n",
              "      <td>0</td>\n",
              "      <td>0</td>\n",
              "      <td>0</td>\n",
              "      <td>0</td>\n",
              "      <td>0</td>\n",
              "      <td>0</td>\n",
              "      <td>0</td>\n",
              "      <td>0</td>\n",
              "      <td>0</td>\n",
              "      <td>0</td>\n",
              "      <td>0</td>\n",
              "      <td>0</td>\n",
              "      <td>0</td>\n",
              "      <td>0</td>\n",
              "      <td>0</td>\n",
              "      <td>0</td>\n",
              "      <td>0</td>\n",
              "      <td>0</td>\n",
              "      <td>0</td>\n",
              "    </tr>\n",
              "    <tr>\n",
              "      <th>4</th>\n",
              "      <td>0</td>\n",
              "      <td>0</td>\n",
              "      <td>0</td>\n",
              "      <td>0</td>\n",
              "      <td>0</td>\n",
              "      <td>0</td>\n",
              "      <td>0</td>\n",
              "      <td>0</td>\n",
              "      <td>0</td>\n",
              "      <td>0</td>\n",
              "      <td>0</td>\n",
              "      <td>0</td>\n",
              "      <td>0</td>\n",
              "      <td>0</td>\n",
              "      <td>0</td>\n",
              "      <td>0</td>\n",
              "      <td>0</td>\n",
              "      <td>0</td>\n",
              "      <td>0</td>\n",
              "      <td>0</td>\n",
              "      <td>0</td>\n",
              "      <td>0</td>\n",
              "      <td>0</td>\n",
              "      <td>0</td>\n",
              "      <td>0</td>\n",
              "      <td>0</td>\n",
              "      <td>0</td>\n",
              "      <td>0</td>\n",
              "      <td>0</td>\n",
              "      <td>0</td>\n",
              "      <td>0</td>\n",
              "      <td>0</td>\n",
              "      <td>0</td>\n",
              "      <td>0</td>\n",
              "      <td>0</td>\n",
              "      <td>0</td>\n",
              "      <td>0</td>\n",
              "      <td>0</td>\n",
              "      <td>0</td>\n",
              "      <td>0</td>\n",
              "      <td>...</td>\n",
              "      <td>0</td>\n",
              "      <td>0</td>\n",
              "      <td>0</td>\n",
              "      <td>0</td>\n",
              "      <td>0</td>\n",
              "      <td>0</td>\n",
              "      <td>0</td>\n",
              "      <td>0</td>\n",
              "      <td>0</td>\n",
              "      <td>0</td>\n",
              "      <td>0</td>\n",
              "      <td>0</td>\n",
              "      <td>0</td>\n",
              "      <td>0</td>\n",
              "      <td>0</td>\n",
              "      <td>0</td>\n",
              "      <td>0</td>\n",
              "      <td>0</td>\n",
              "      <td>0</td>\n",
              "      <td>0</td>\n",
              "      <td>0</td>\n",
              "      <td>0</td>\n",
              "      <td>0</td>\n",
              "      <td>0</td>\n",
              "      <td>0</td>\n",
              "      <td>0</td>\n",
              "      <td>0</td>\n",
              "      <td>0</td>\n",
              "      <td>0</td>\n",
              "      <td>0</td>\n",
              "      <td>0</td>\n",
              "      <td>0</td>\n",
              "      <td>0</td>\n",
              "      <td>0</td>\n",
              "      <td>0</td>\n",
              "      <td>0</td>\n",
              "      <td>0</td>\n",
              "      <td>0</td>\n",
              "      <td>0</td>\n",
              "      <td>0</td>\n",
              "    </tr>\n",
              "    <tr>\n",
              "      <th>...</th>\n",
              "      <td>...</td>\n",
              "      <td>...</td>\n",
              "      <td>...</td>\n",
              "      <td>...</td>\n",
              "      <td>...</td>\n",
              "      <td>...</td>\n",
              "      <td>...</td>\n",
              "      <td>...</td>\n",
              "      <td>...</td>\n",
              "      <td>...</td>\n",
              "      <td>...</td>\n",
              "      <td>...</td>\n",
              "      <td>...</td>\n",
              "      <td>...</td>\n",
              "      <td>...</td>\n",
              "      <td>...</td>\n",
              "      <td>...</td>\n",
              "      <td>...</td>\n",
              "      <td>...</td>\n",
              "      <td>...</td>\n",
              "      <td>...</td>\n",
              "      <td>...</td>\n",
              "      <td>...</td>\n",
              "      <td>...</td>\n",
              "      <td>...</td>\n",
              "      <td>...</td>\n",
              "      <td>...</td>\n",
              "      <td>...</td>\n",
              "      <td>...</td>\n",
              "      <td>...</td>\n",
              "      <td>...</td>\n",
              "      <td>...</td>\n",
              "      <td>...</td>\n",
              "      <td>...</td>\n",
              "      <td>...</td>\n",
              "      <td>...</td>\n",
              "      <td>...</td>\n",
              "      <td>...</td>\n",
              "      <td>...</td>\n",
              "      <td>...</td>\n",
              "      <td>...</td>\n",
              "      <td>...</td>\n",
              "      <td>...</td>\n",
              "      <td>...</td>\n",
              "      <td>...</td>\n",
              "      <td>...</td>\n",
              "      <td>...</td>\n",
              "      <td>...</td>\n",
              "      <td>...</td>\n",
              "      <td>...</td>\n",
              "      <td>...</td>\n",
              "      <td>...</td>\n",
              "      <td>...</td>\n",
              "      <td>...</td>\n",
              "      <td>...</td>\n",
              "      <td>...</td>\n",
              "      <td>...</td>\n",
              "      <td>...</td>\n",
              "      <td>...</td>\n",
              "      <td>...</td>\n",
              "      <td>...</td>\n",
              "      <td>...</td>\n",
              "      <td>...</td>\n",
              "      <td>...</td>\n",
              "      <td>...</td>\n",
              "      <td>...</td>\n",
              "      <td>...</td>\n",
              "      <td>...</td>\n",
              "      <td>...</td>\n",
              "      <td>...</td>\n",
              "      <td>...</td>\n",
              "      <td>...</td>\n",
              "      <td>...</td>\n",
              "      <td>...</td>\n",
              "      <td>...</td>\n",
              "      <td>...</td>\n",
              "      <td>...</td>\n",
              "      <td>...</td>\n",
              "      <td>...</td>\n",
              "      <td>...</td>\n",
              "      <td>...</td>\n",
              "    </tr>\n",
              "    <tr>\n",
              "      <th>41995</th>\n",
              "      <td>0</td>\n",
              "      <td>0</td>\n",
              "      <td>0</td>\n",
              "      <td>0</td>\n",
              "      <td>0</td>\n",
              "      <td>0</td>\n",
              "      <td>0</td>\n",
              "      <td>0</td>\n",
              "      <td>0</td>\n",
              "      <td>0</td>\n",
              "      <td>0</td>\n",
              "      <td>0</td>\n",
              "      <td>0</td>\n",
              "      <td>0</td>\n",
              "      <td>0</td>\n",
              "      <td>0</td>\n",
              "      <td>0</td>\n",
              "      <td>0</td>\n",
              "      <td>0</td>\n",
              "      <td>0</td>\n",
              "      <td>0</td>\n",
              "      <td>0</td>\n",
              "      <td>0</td>\n",
              "      <td>0</td>\n",
              "      <td>0</td>\n",
              "      <td>0</td>\n",
              "      <td>0</td>\n",
              "      <td>0</td>\n",
              "      <td>0</td>\n",
              "      <td>0</td>\n",
              "      <td>0</td>\n",
              "      <td>0</td>\n",
              "      <td>0</td>\n",
              "      <td>0</td>\n",
              "      <td>0</td>\n",
              "      <td>0</td>\n",
              "      <td>0</td>\n",
              "      <td>0</td>\n",
              "      <td>0</td>\n",
              "      <td>0</td>\n",
              "      <td>...</td>\n",
              "      <td>0</td>\n",
              "      <td>0</td>\n",
              "      <td>0</td>\n",
              "      <td>0</td>\n",
              "      <td>0</td>\n",
              "      <td>0</td>\n",
              "      <td>0</td>\n",
              "      <td>0</td>\n",
              "      <td>0</td>\n",
              "      <td>0</td>\n",
              "      <td>0</td>\n",
              "      <td>0</td>\n",
              "      <td>0</td>\n",
              "      <td>0</td>\n",
              "      <td>0</td>\n",
              "      <td>0</td>\n",
              "      <td>0</td>\n",
              "      <td>0</td>\n",
              "      <td>0</td>\n",
              "      <td>0</td>\n",
              "      <td>0</td>\n",
              "      <td>0</td>\n",
              "      <td>0</td>\n",
              "      <td>0</td>\n",
              "      <td>0</td>\n",
              "      <td>0</td>\n",
              "      <td>0</td>\n",
              "      <td>0</td>\n",
              "      <td>0</td>\n",
              "      <td>0</td>\n",
              "      <td>0</td>\n",
              "      <td>0</td>\n",
              "      <td>0</td>\n",
              "      <td>0</td>\n",
              "      <td>0</td>\n",
              "      <td>0</td>\n",
              "      <td>0</td>\n",
              "      <td>0</td>\n",
              "      <td>0</td>\n",
              "      <td>0</td>\n",
              "    </tr>\n",
              "    <tr>\n",
              "      <th>41996</th>\n",
              "      <td>1</td>\n",
              "      <td>0</td>\n",
              "      <td>0</td>\n",
              "      <td>0</td>\n",
              "      <td>0</td>\n",
              "      <td>0</td>\n",
              "      <td>0</td>\n",
              "      <td>0</td>\n",
              "      <td>0</td>\n",
              "      <td>0</td>\n",
              "      <td>0</td>\n",
              "      <td>0</td>\n",
              "      <td>0</td>\n",
              "      <td>0</td>\n",
              "      <td>0</td>\n",
              "      <td>0</td>\n",
              "      <td>0</td>\n",
              "      <td>0</td>\n",
              "      <td>0</td>\n",
              "      <td>0</td>\n",
              "      <td>0</td>\n",
              "      <td>0</td>\n",
              "      <td>0</td>\n",
              "      <td>0</td>\n",
              "      <td>0</td>\n",
              "      <td>0</td>\n",
              "      <td>0</td>\n",
              "      <td>0</td>\n",
              "      <td>0</td>\n",
              "      <td>0</td>\n",
              "      <td>0</td>\n",
              "      <td>0</td>\n",
              "      <td>0</td>\n",
              "      <td>0</td>\n",
              "      <td>0</td>\n",
              "      <td>0</td>\n",
              "      <td>0</td>\n",
              "      <td>0</td>\n",
              "      <td>0</td>\n",
              "      <td>0</td>\n",
              "      <td>...</td>\n",
              "      <td>0</td>\n",
              "      <td>0</td>\n",
              "      <td>0</td>\n",
              "      <td>0</td>\n",
              "      <td>0</td>\n",
              "      <td>0</td>\n",
              "      <td>0</td>\n",
              "      <td>0</td>\n",
              "      <td>0</td>\n",
              "      <td>0</td>\n",
              "      <td>0</td>\n",
              "      <td>0</td>\n",
              "      <td>0</td>\n",
              "      <td>0</td>\n",
              "      <td>0</td>\n",
              "      <td>0</td>\n",
              "      <td>0</td>\n",
              "      <td>0</td>\n",
              "      <td>0</td>\n",
              "      <td>0</td>\n",
              "      <td>0</td>\n",
              "      <td>0</td>\n",
              "      <td>0</td>\n",
              "      <td>0</td>\n",
              "      <td>0</td>\n",
              "      <td>0</td>\n",
              "      <td>0</td>\n",
              "      <td>0</td>\n",
              "      <td>0</td>\n",
              "      <td>0</td>\n",
              "      <td>0</td>\n",
              "      <td>0</td>\n",
              "      <td>0</td>\n",
              "      <td>0</td>\n",
              "      <td>0</td>\n",
              "      <td>0</td>\n",
              "      <td>0</td>\n",
              "      <td>0</td>\n",
              "      <td>0</td>\n",
              "      <td>0</td>\n",
              "    </tr>\n",
              "    <tr>\n",
              "      <th>41997</th>\n",
              "      <td>7</td>\n",
              "      <td>0</td>\n",
              "      <td>0</td>\n",
              "      <td>0</td>\n",
              "      <td>0</td>\n",
              "      <td>0</td>\n",
              "      <td>0</td>\n",
              "      <td>0</td>\n",
              "      <td>0</td>\n",
              "      <td>0</td>\n",
              "      <td>0</td>\n",
              "      <td>0</td>\n",
              "      <td>0</td>\n",
              "      <td>0</td>\n",
              "      <td>0</td>\n",
              "      <td>0</td>\n",
              "      <td>0</td>\n",
              "      <td>0</td>\n",
              "      <td>0</td>\n",
              "      <td>0</td>\n",
              "      <td>0</td>\n",
              "      <td>0</td>\n",
              "      <td>0</td>\n",
              "      <td>0</td>\n",
              "      <td>0</td>\n",
              "      <td>0</td>\n",
              "      <td>0</td>\n",
              "      <td>0</td>\n",
              "      <td>0</td>\n",
              "      <td>0</td>\n",
              "      <td>0</td>\n",
              "      <td>0</td>\n",
              "      <td>0</td>\n",
              "      <td>0</td>\n",
              "      <td>0</td>\n",
              "      <td>0</td>\n",
              "      <td>0</td>\n",
              "      <td>0</td>\n",
              "      <td>0</td>\n",
              "      <td>0</td>\n",
              "      <td>...</td>\n",
              "      <td>0</td>\n",
              "      <td>0</td>\n",
              "      <td>0</td>\n",
              "      <td>0</td>\n",
              "      <td>0</td>\n",
              "      <td>0</td>\n",
              "      <td>0</td>\n",
              "      <td>0</td>\n",
              "      <td>0</td>\n",
              "      <td>0</td>\n",
              "      <td>0</td>\n",
              "      <td>0</td>\n",
              "      <td>0</td>\n",
              "      <td>0</td>\n",
              "      <td>0</td>\n",
              "      <td>0</td>\n",
              "      <td>0</td>\n",
              "      <td>0</td>\n",
              "      <td>0</td>\n",
              "      <td>0</td>\n",
              "      <td>0</td>\n",
              "      <td>0</td>\n",
              "      <td>0</td>\n",
              "      <td>0</td>\n",
              "      <td>0</td>\n",
              "      <td>0</td>\n",
              "      <td>0</td>\n",
              "      <td>0</td>\n",
              "      <td>0</td>\n",
              "      <td>0</td>\n",
              "      <td>0</td>\n",
              "      <td>0</td>\n",
              "      <td>0</td>\n",
              "      <td>0</td>\n",
              "      <td>0</td>\n",
              "      <td>0</td>\n",
              "      <td>0</td>\n",
              "      <td>0</td>\n",
              "      <td>0</td>\n",
              "      <td>0</td>\n",
              "    </tr>\n",
              "    <tr>\n",
              "      <th>41998</th>\n",
              "      <td>6</td>\n",
              "      <td>0</td>\n",
              "      <td>0</td>\n",
              "      <td>0</td>\n",
              "      <td>0</td>\n",
              "      <td>0</td>\n",
              "      <td>0</td>\n",
              "      <td>0</td>\n",
              "      <td>0</td>\n",
              "      <td>0</td>\n",
              "      <td>0</td>\n",
              "      <td>0</td>\n",
              "      <td>0</td>\n",
              "      <td>0</td>\n",
              "      <td>0</td>\n",
              "      <td>0</td>\n",
              "      <td>0</td>\n",
              "      <td>0</td>\n",
              "      <td>0</td>\n",
              "      <td>0</td>\n",
              "      <td>0</td>\n",
              "      <td>0</td>\n",
              "      <td>0</td>\n",
              "      <td>0</td>\n",
              "      <td>0</td>\n",
              "      <td>0</td>\n",
              "      <td>0</td>\n",
              "      <td>0</td>\n",
              "      <td>0</td>\n",
              "      <td>0</td>\n",
              "      <td>0</td>\n",
              "      <td>0</td>\n",
              "      <td>0</td>\n",
              "      <td>0</td>\n",
              "      <td>0</td>\n",
              "      <td>0</td>\n",
              "      <td>0</td>\n",
              "      <td>0</td>\n",
              "      <td>0</td>\n",
              "      <td>0</td>\n",
              "      <td>...</td>\n",
              "      <td>0</td>\n",
              "      <td>0</td>\n",
              "      <td>0</td>\n",
              "      <td>0</td>\n",
              "      <td>0</td>\n",
              "      <td>0</td>\n",
              "      <td>0</td>\n",
              "      <td>0</td>\n",
              "      <td>0</td>\n",
              "      <td>0</td>\n",
              "      <td>0</td>\n",
              "      <td>0</td>\n",
              "      <td>0</td>\n",
              "      <td>0</td>\n",
              "      <td>0</td>\n",
              "      <td>0</td>\n",
              "      <td>0</td>\n",
              "      <td>0</td>\n",
              "      <td>0</td>\n",
              "      <td>0</td>\n",
              "      <td>0</td>\n",
              "      <td>0</td>\n",
              "      <td>0</td>\n",
              "      <td>0</td>\n",
              "      <td>0</td>\n",
              "      <td>0</td>\n",
              "      <td>0</td>\n",
              "      <td>0</td>\n",
              "      <td>0</td>\n",
              "      <td>0</td>\n",
              "      <td>0</td>\n",
              "      <td>0</td>\n",
              "      <td>0</td>\n",
              "      <td>0</td>\n",
              "      <td>0</td>\n",
              "      <td>0</td>\n",
              "      <td>0</td>\n",
              "      <td>0</td>\n",
              "      <td>0</td>\n",
              "      <td>0</td>\n",
              "    </tr>\n",
              "    <tr>\n",
              "      <th>41999</th>\n",
              "      <td>9</td>\n",
              "      <td>0</td>\n",
              "      <td>0</td>\n",
              "      <td>0</td>\n",
              "      <td>0</td>\n",
              "      <td>0</td>\n",
              "      <td>0</td>\n",
              "      <td>0</td>\n",
              "      <td>0</td>\n",
              "      <td>0</td>\n",
              "      <td>0</td>\n",
              "      <td>0</td>\n",
              "      <td>0</td>\n",
              "      <td>0</td>\n",
              "      <td>0</td>\n",
              "      <td>0</td>\n",
              "      <td>0</td>\n",
              "      <td>0</td>\n",
              "      <td>0</td>\n",
              "      <td>0</td>\n",
              "      <td>0</td>\n",
              "      <td>0</td>\n",
              "      <td>0</td>\n",
              "      <td>0</td>\n",
              "      <td>0</td>\n",
              "      <td>0</td>\n",
              "      <td>0</td>\n",
              "      <td>0</td>\n",
              "      <td>0</td>\n",
              "      <td>0</td>\n",
              "      <td>0</td>\n",
              "      <td>0</td>\n",
              "      <td>0</td>\n",
              "      <td>0</td>\n",
              "      <td>0</td>\n",
              "      <td>0</td>\n",
              "      <td>0</td>\n",
              "      <td>0</td>\n",
              "      <td>0</td>\n",
              "      <td>0</td>\n",
              "      <td>...</td>\n",
              "      <td>0</td>\n",
              "      <td>0</td>\n",
              "      <td>0</td>\n",
              "      <td>0</td>\n",
              "      <td>0</td>\n",
              "      <td>0</td>\n",
              "      <td>0</td>\n",
              "      <td>0</td>\n",
              "      <td>0</td>\n",
              "      <td>0</td>\n",
              "      <td>0</td>\n",
              "      <td>0</td>\n",
              "      <td>0</td>\n",
              "      <td>0</td>\n",
              "      <td>0</td>\n",
              "      <td>0</td>\n",
              "      <td>0</td>\n",
              "      <td>0</td>\n",
              "      <td>0</td>\n",
              "      <td>0</td>\n",
              "      <td>0</td>\n",
              "      <td>0</td>\n",
              "      <td>0</td>\n",
              "      <td>0</td>\n",
              "      <td>0</td>\n",
              "      <td>0</td>\n",
              "      <td>0</td>\n",
              "      <td>0</td>\n",
              "      <td>0</td>\n",
              "      <td>0</td>\n",
              "      <td>0</td>\n",
              "      <td>0</td>\n",
              "      <td>0</td>\n",
              "      <td>0</td>\n",
              "      <td>0</td>\n",
              "      <td>0</td>\n",
              "      <td>0</td>\n",
              "      <td>0</td>\n",
              "      <td>0</td>\n",
              "      <td>0</td>\n",
              "    </tr>\n",
              "  </tbody>\n",
              "</table>\n",
              "<p>42000 rows × 785 columns</p>\n",
              "</div>"
            ],
            "text/plain": [
              "       label  pixel0  pixel1  pixel2  ...  pixel780  pixel781  pixel782  pixel783\n",
              "0          1       0       0       0  ...         0         0         0         0\n",
              "1          0       0       0       0  ...         0         0         0         0\n",
              "2          1       0       0       0  ...         0         0         0         0\n",
              "3          4       0       0       0  ...         0         0         0         0\n",
              "4          0       0       0       0  ...         0         0         0         0\n",
              "...      ...     ...     ...     ...  ...       ...       ...       ...       ...\n",
              "41995      0       0       0       0  ...         0         0         0         0\n",
              "41996      1       0       0       0  ...         0         0         0         0\n",
              "41997      7       0       0       0  ...         0         0         0         0\n",
              "41998      6       0       0       0  ...         0         0         0         0\n",
              "41999      9       0       0       0  ...         0         0         0         0\n",
              "\n",
              "[42000 rows x 785 columns]"
            ]
          },
          "metadata": {
            "tags": []
          },
          "execution_count": 6
        }
      ]
    },
    {
      "cell_type": "code",
      "metadata": {
        "id": "Qc5xam_VNpEI",
        "colab_type": "code",
        "outputId": "1dc7c771-7c62-4cce-9afa-b1b5e86a85bf",
        "colab": {
          "base_uri": "https://localhost:8080/",
          "height": 483
        }
      },
      "source": [
        "sns.countplot(train_df[\"label\"])\n",
        "train_df.groupby(\"label\").size()"
      ],
      "execution_count": 0,
      "outputs": [
        {
          "output_type": "execute_result",
          "data": {
            "text/plain": [
              "label\n",
              "0    4132\n",
              "1    4684\n",
              "2    4177\n",
              "3    4351\n",
              "4    4072\n",
              "5    3795\n",
              "6    4137\n",
              "7    4401\n",
              "8    4063\n",
              "9    4188\n",
              "dtype: int64"
            ]
          },
          "metadata": {
            "tags": []
          },
          "execution_count": 7
        },
        {
          "output_type": "display_data",
          "data": {
            "image/png": "[encoded data removed]",
            "text/plain": [
              "<Figure size 432x288 with 1 Axes>"
            ]
          },
          "metadata": {
            "tags": [],
            "needs_background": "light"
          }
        }
      ]
    },
    {
      "cell_type": "code",
      "metadata": {
        "id": "L6F1xFyvNpEN",
        "colab_type": "code",
        "outputId": "2714d946-f30d-404a-84c9-b0419db74310",
        "colab": {
          "base_uri": "https://localhost:8080/",
          "height": 470
        }
      },
      "source": [
        "# example picture\n",
        "sample_pixels = train_df.groupby(\"label\").apply(lambda df: df.sample())\n",
        "sample_pixels = sample_pixels.set_index(\"label\")\n",
        "\n",
        "fig, ax = plt.subplots(2,5, figsize=(15,7))\n",
        "for i in range(10):\n",
        "    pixel, label = sample_pixels.iloc[i].to_list(), sample_pixels.index[i]\n",
        "    ax[i//5, i%5].imshow(np.reshape(pixel, (28, 28)), cmap=\"Greys\")\n",
        "    ax[i//5, i%5].set_title(\"sample number: %d\" % i)\n",
        "fig.tight_layout()\n",
        "plt.show()"
      ],
      "execution_count": 0,
      "outputs": [
        {
          "output_type": "display_data",
          "data": {
            "image/png": "[encoded data removed]",
            "text/plain": [
              "<Figure size 1080x504 with 10 Axes>"
            ]
          },
          "metadata": {
            "tags": [],
            "needs_background": "light"
          }
        }
      ]
    },
    {
      "cell_type": "code",
      "metadata": {
        "scrolled": true,
        "id": "2uyGgoOpNpEl",
        "colab_type": "code",
        "outputId": "09270a70-1892-4379-9ba3-8309a83586a4",
        "colab": {
          "base_uri": "https://localhost:8080/",
          "height": 51
        }
      },
      "source": [
        "# data validity check: null and types\n",
        "print(\"# of nulls: \", train_df.isnull().sum().sum())\n",
        "print(\"types: \", train_df.dtypes.unique())"
      ],
      "execution_count": 0,
      "outputs": [
        {
          "output_type": "stream",
          "text": [
            "# of nulls:  0\n",
            "types:  [dtype('int64')]\n"
          ],
          "name": "stdout"
        }
      ]
    },
    {
      "cell_type": "markdown",
      "metadata": {
        "id": "CE6dEvpQCrrK",
        "colab_type": "text"
      },
      "source": [
        "## Data Preprocessing"
      ]
    },
    {
      "cell_type": "code",
      "metadata": {
        "id": "RudhfnZfNpE2",
        "colab_type": "code",
        "outputId": "9dc61a42-ecb3-4816-8bc2-bffd464d1618",
        "colab": {
          "base_uri": "https://localhost:8080/",
          "height": 34
        }
      },
      "source": [
        "# extract and normalize features and labels\n",
        "train_df = pd.read_csv(train_fp)\n",
        "random_seed = 2 # Set the random seed for all remaining random_state\n",
        "\n",
        "X_train = np.reshape(train_df.iloc[:, 1:].values / 255, (-1, 28, 28, 1))\n",
        "Y_train_class = train_df[\"label\"].values\n",
        "Y_train = to_categorical(Y_train_class, num_classes=10, dtype=int)   # one-hot encoding\n",
        "\n",
        "print(X_train.shape, Y_train.shape)"
      ],
      "execution_count": 7,
      "outputs": [
        {
          "output_type": "stream",
          "text": [
            "(42000, 28, 28, 1) (42000, 10)\n"
          ],
          "name": "stdout"
        }
      ]
    },
    {
      "cell_type": "code",
      "metadata": {
        "id": "ZK-0wB4oNpFF",
        "colab_type": "code",
        "outputId": "f64a066c-55f0-4df3-e919-5b3c39099a0b",
        "colab": {
          "base_uri": "https://localhost:8080/",
          "height": 34
        }
      },
      "source": [
        "# split training data into training and validation data\n",
        "\n",
        "X_train, X_val, Y_train, Y_val = train_test_split(X_train, Y_train, test_size=0.1, random_state=random_seed)\n",
        "\n",
        "print(X_train.shape, X_val.shape, Y_train.shape, Y_val.shape)"
      ],
      "execution_count": 8,
      "outputs": [
        {
          "output_type": "stream",
          "text": [
            "(37800, 28, 28, 1) (4200, 28, 28, 1) (37800, 10) (4200, 10)\n"
          ],
          "name": "stdout"
        }
      ]
    },
    {
      "cell_type": "code",
      "metadata": {
        "scrolled": true,
        "id": "ulfG_fUPNpFU",
        "colab_type": "code",
        "outputId": "4e0fd9af-9413-4473-9cec-5964de732a24",
        "colab": {
          "base_uri": "https://localhost:8080/",
          "height": 523
        }
      },
      "source": [
        "# training data distribution \n",
        "fig, axes = plt.subplots(1,2, figsize=(12,5))\n",
        "sns.countplot(np.argmax(Y_train, axis=1), ax=axes[0])\n",
        "sns.countplot(np.argmax(Y_val, axis=1), ax=axes[1])\n",
        "axes[0].set_title(\"training data distribution\")\n",
        "axes[1].set_title(\"validation data distribution\")\n",
        "pd.Series(np.sum(Y_train, axis=0), name=\"train\")\n",
        "# pd.Series(np.sum(Y_val, axis=0))"
      ],
      "execution_count": 9,
      "outputs": [
        {
          "output_type": "execute_result",
          "data": {
            "text/plain": [
              "0    3721\n",
              "1    4199\n",
              "2    3774\n",
              "3    3933\n",
              "4    3611\n",
              "5    3423\n",
              "6    3724\n",
              "7    3955\n",
              "8    3681\n",
              "9    3779\n",
              "Name: train, dtype: int64"
            ]
          },
          "metadata": {
            "tags": []
          },
          "execution_count": 9
        },
        {
          "output_type": "display_data",
          "data": {
            "image/png": "[encoded data removed]",
            "text/plain": [
              "<Figure size 864x360 with 2 Axes>"
            ]
          },
          "metadata": {
            "tags": [],
            "needs_background": "light"
          }
        }
      ]
    },
    {
      "cell_type": "markdown",
      "metadata": {
        "id": "djTUvNlex6MC",
        "colab_type": "text"
      },
      "source": [
        "## Data Augmentation"
      ]
    },
    {
      "cell_type": "code",
      "metadata": {
        "id": "6Vx6hCbyyLSn",
        "colab_type": "code",
        "outputId": "36a59260-9dbf-4cdc-ca9d-9ac348201101",
        "colab": {
          "base_uri": "https://localhost:8080/",
          "height": 284
        }
      },
      "source": [
        "# take a look at a random digit to get an idea of how to augment the training dataset\n",
        "example_index = np.random.randint(0, 42000)\n",
        "plt.imshow(X_train[example_index][:,:,0], cmap=\"Greys\")"
      ],
      "execution_count": 0,
      "outputs": [
        {
          "output_type": "execute_result",
          "data": {
            "text/plain": [
              "<matplotlib.image.AxesImage at 0x7f6ed6092ba8>"
            ]
          },
          "metadata": {
            "tags": []
          },
          "execution_count": 40
        },
        {
          "output_type": "display_data",
          "data": {
            "image/png": "[encoded data removed]",
            "text/plain": [
              "<Figure size 432x288 with 1 Axes>"
            ]
          },
          "metadata": {
            "tags": []
          }
        }
      ]
    },
    {
      "cell_type": "code",
      "metadata": {
        "id": "6s1J9q8zyLq8",
        "colab_type": "code",
        "colab": {}
      },
      "source": [
        "# configure an image generator\n",
        "datagen = ImageDataGenerator(\n",
        "    width_shift_range=5,\n",
        "    height_shift_range=4,\n",
        "    rotation_range=13,\n",
        "    # shear_range=1,\n",
        "    zoom_range=0.1\n",
        ")\n",
        "# datagen.fit(X_train)"
      ],
      "execution_count": 0,
      "outputs": []
    },
    {
      "cell_type": "code",
      "metadata": {
        "id": "t5Z9WyeUyLy_",
        "colab_type": "code",
        "outputId": "bd00c096-6d4b-4141-ae5d-aecaf88b3b48",
        "colab": {
          "base_uri": "https://localhost:8080/",
          "height": 320
        }
      },
      "source": [
        "# Demonstrate the example images from data augmentation\n",
        "example_number = 5\n",
        "fig, ax = plt.subplots(1, example_number, figsize=[15,5])\n",
        "it = datagen.flow(X_train, np.argmax(Y_train, axis=1), batch_size=1)\n",
        "for i in range(example_number):\n",
        "    example, example_label = it.next()\n",
        "    # print(example.shape, example_label.shape)\n",
        "    ax[i].imshow(example[0][:,:,0], cmap=\"Greys\")\n",
        "    ax[i].set_title(\"labels: % d\" % example_label)\n",
        "    print(it)\n",
        "fig.tight_layout()"
      ],
      "execution_count": 11,
      "outputs": [
        {
          "output_type": "stream",
          "text": [
            "<keras.preprocessing.image.NumpyArrayIterator object at 0x7f189364e908>\n",
            "<keras.preprocessing.image.NumpyArrayIterator object at 0x7f189364e908>\n",
            "<keras.preprocessing.image.NumpyArrayIterator object at 0x7f189364e908>\n",
            "<keras.preprocessing.image.NumpyArrayIterator object at 0x7f189364e908>\n",
            "<keras.preprocessing.image.NumpyArrayIterator object at 0x7f189364e908>\n"
          ],
          "name": "stdout"
        },
        {
          "output_type": "display_data",
          "data": {
            "image/png": "[encoded data removed]",
            "text/plain": [
              "<Figure size 1080x360 with 5 Axes>"
            ]
          },
          "metadata": {
            "tags": [],
            "needs_background": "light"
          }
        }
      ]
    },
    {
      "cell_type": "markdown",
      "metadata": {
        "id": "QIv5Yob3914U",
        "colab_type": "text"
      },
      "source": [
        "### Approach 1: Manually Generate a dataset with desired size and ratio"
      ]
    },
    {
      "cell_type": "code",
      "metadata": {
        "id": "JvmfFXzFyL5X",
        "colab_type": "code",
        "outputId": "6eb2e429-76c5-4680-c5a6-2d494137b18a",
        "colab": {
          "base_uri": "https://localhost:8080/",
          "height": 337
        }
      },
      "source": [
        "# manually augmenting the X_train into desired size and ratio\n",
        "def generate_image(which, train, label, batch_size=500):\n",
        "    train = train[np.argmax(label, axis=1) == which]\n",
        "    label = label[np.argmax(label, axis=1) == which]\n",
        "    it = datagen.flow(train, label, batch_size=batch_size)\n",
        "    return it.next()\n",
        "print(\"original shape: \", X_train.shape)\n",
        "\n",
        "X_train_aug = np.copy(X_train)\n",
        "Y_train_aug = np.copy(Y_train)\n",
        "for i in range(10):\n",
        "    new_train, new_label = generate_image(i, X_train, Y_train, 4000)\n",
        "    X_train_aug = np.concatenate((X_train_aug, new_train), axis=0)\n",
        "    Y_train_aug = np.concatenate((Y_train_aug, new_label), axis=0)\n",
        "print(\"1st augmented shape: \", X_train_aug.shape)\n",
        "\n",
        "important = [4, 5, 6, 8, 9] # the class with poorest accuracy based on the Analysis Result during the initial training without image data augmentation\n",
        "for i in important:\n",
        "    new_train, new_label = generate_image(i, X_train, Y_train, 2000)\n",
        "    X_train_aug = np.concatenate((X_train_aug, new_train), axis=0)\n",
        "    Y_train_aug = np.concatenate((Y_train_aug, new_label), axis=0)\n",
        "print(\"2nd augmented shape: \", X_train_aug.shape, \"label length: \", Y_train_aug.shape)\n",
        "\n",
        "sns.countplot(np.argmax(Y_train_aug, axis=1))"
      ],
      "execution_count": 0,
      "outputs": [
        {
          "output_type": "stream",
          "text": [
            "original shape:  (37800, 28, 28, 1)\n",
            "1st augmented shape:  (75401, 28, 28, 1)\n",
            "2nd augmented shape:  (85401, 28, 28, 1) label length:  (85401, 10)\n"
          ],
          "name": "stdout"
        },
        {
          "output_type": "execute_result",
          "data": {
            "text/plain": [
              "<matplotlib.axes._subplots.AxesSubplot at 0x7f6f419867f0>"
            ]
          },
          "metadata": {
            "tags": []
          },
          "execution_count": 17
        },
        {
          "output_type": "display_data",
          "data": {
            "image/png": "[encoded data removed]",
            "text/plain": [
              "<Figure size 432x288 with 1 Axes>"
            ]
          },
          "metadata": {
            "tags": [],
            "needs_background": "light"
          }
        }
      ]
    },
    {
      "cell_type": "code",
      "metadata": {
        "id": "NfUCM1PdDToJ",
        "colab_type": "code",
        "outputId": "58a05ad2-f97d-4cf5-f025-1b7745440902",
        "colab": {
          "base_uri": "https://localhost:8080/",
          "height": 136
        }
      },
      "source": [
        "# shuffle\n",
        "X_train_aug, Y_train_aug = shuffle(X_train_aug, Y_train_aug, random_state=random_seed)\n",
        "Y_train_aug"
      ],
      "execution_count": 0,
      "outputs": [
        {
          "output_type": "execute_result",
          "data": {
            "text/plain": [
              "array([[0, 0, 0, ..., 0, 0, 0],\n",
              "       [0, 0, 0, ..., 0, 1, 0],\n",
              "       [0, 0, 0, ..., 0, 1, 0],\n",
              "       ...,\n",
              "       [0, 0, 0, ..., 0, 0, 0],\n",
              "       [0, 1, 0, ..., 0, 0, 0],\n",
              "       [0, 0, 0, ..., 0, 0, 1]])"
            ]
          },
          "metadata": {
            "tags": []
          },
          "execution_count": 18
        }
      ]
    },
    {
      "cell_type": "code",
      "metadata": {
        "id": "Y6jcbAL--6As",
        "colab_type": "code",
        "outputId": "e607d25e-d1f8-4c97-9df8-ddf83b9942c6",
        "colab": {
          "base_uri": "https://localhost:8080/",
          "height": 282
        }
      },
      "source": [
        "test_index = np.random.randint(-20000, 0)\n",
        "plt.imshow(X_train_aug[test_index][:,:,0], cmap=\"Greys\")\n",
        "print(\"label: \", np.argmax(Y_train_aug[test_index]))"
      ],
      "execution_count": 0,
      "outputs": [
        {
          "output_type": "stream",
          "text": [
            "label:  2\n"
          ],
          "name": "stdout"
        },
        {
          "output_type": "display_data",
          "data": {
            "image/png": "[encoded data removed]",
            "text/plain": [
              "<Figure size 432x288 with 1 Axes>"
            ]
          },
          "metadata": {
            "tags": [],
            "needs_background": "light"
          }
        }
      ]
    },
    {
      "cell_type": "code",
      "metadata": {
        "id": "Xm5qK7a88Oh0",
        "colab_type": "code",
        "outputId": "0a451b7c-f00e-4bdc-9c60-8a6c61c6b1c6",
        "colab": {
          "base_uri": "https://localhost:8080/",
          "height": 51
        }
      },
      "source": [
        "x = [[1,2,3], [1,2,4], [1,2,5]] + [[1,2,6]] \n",
        "print(x)\n",
        "np.random.shuffle(x)\n",
        "x"
      ],
      "execution_count": 0,
      "outputs": [
        {
          "output_type": "stream",
          "text": [
            "[[1, 2, 3], [1, 2, 4], [1, 2, 5], [1, 2, 6]]\n"
          ],
          "name": "stdout"
        },
        {
          "output_type": "execute_result",
          "data": {
            "text/plain": [
              "[[1, 2, 6], [1, 2, 3], [1, 2, 4], [1, 2, 5]]"
            ]
          },
          "metadata": {
            "tags": []
          },
          "execution_count": 10
        }
      ]
    },
    {
      "cell_type": "code",
      "metadata": {
        "id": "iFApEXMIF7lv",
        "colab_type": "code",
        "outputId": "effd12c2-ed05-406e-943d-a688f7e558bc",
        "colab": {
          "base_uri": "https://localhost:8080/",
          "height": 136
        }
      },
      "source": [
        "Y_train_aug"
      ],
      "execution_count": 0,
      "outputs": [
        {
          "output_type": "execute_result",
          "data": {
            "text/plain": [
              "array([[0, 0, 0, ..., 0, 0, 0],\n",
              "       [0, 0, 0, ..., 0, 1, 0],\n",
              "       [0, 0, 0, ..., 0, 1, 0],\n",
              "       ...,\n",
              "       [0, 0, 0, ..., 0, 0, 0],\n",
              "       [0, 1, 0, ..., 0, 0, 0],\n",
              "       [0, 0, 0, ..., 0, 0, 1]])"
            ]
          },
          "metadata": {
            "tags": []
          },
          "execution_count": 20
        }
      ]
    },
    {
      "cell_type": "markdown",
      "metadata": {
        "id": "mM7q4RnJKNna",
        "colab_type": "text"
      },
      "source": [
        "### Approach 2: Conduct Data Augmentation on Real Time"
      ]
    },
    {
      "cell_type": "code",
      "metadata": {
        "id": "ibIo0l6RKTji",
        "colab_type": "code",
        "colab": {}
      },
      "source": [
        "# prepare for using the data generator at real training time\n",
        "datagen.fit(X_train)\n",
        "batch_size = 25\n",
        "steps_per_epoch = X_train.shape[0] // batch_size  # number of batchs for each epoch"
      ],
      "execution_count": 0,
      "outputs": []
    },
    {
      "cell_type": "code",
      "metadata": {
        "id": "PF1M5oraKT_n",
        "colab_type": "code",
        "colab": {}
      },
      "source": [
        "# create a data iterater to generate image data at real time\n",
        "data_it = datagen.flow(X_train, Y_train, batch_size=batch_size)"
      ],
      "execution_count": 0,
      "outputs": []
    },
    {
      "cell_type": "markdown",
      "metadata": {
        "id": "MRJgvAmQNpFW",
        "colab_type": "text"
      },
      "source": [
        "## Model Building & Training\n",
        "architecture: \n",
        "\n",
        "Input => \n",
        "\n",
        "Conv2d (relu) => Conv2d (relu) => MaxPool => Dropout => \n",
        "\n",
        "Conv2d (relu) => Conv2d (relu) => MaxPool => Dropout =>\n",
        "\n",
        "Conv2d (relu) => MaxPool => Dropout =>\n",
        "\n",
        "Flatten => Dense => Dropout = > Dense => Output"
      ]
    },
    {
      "cell_type": "code",
      "metadata": {
        "id": "B2hECnX-NpFX",
        "colab_type": "code",
        "colab": {}
      },
      "source": [
        "# build the layers in the model\n",
        "model = Sequential()\n",
        "model.add(Conv2D(32, (5,5), padding=\"same\", activation=\"relu\", use_bias=False, input_shape=(28,28,1)))\n",
        "model.add(Conv2D(32, (5,5), padding=\"same\", activation=\"relu\", use_bias=False))\n",
        "model.add(MaxPooling2D(pool_size=(2,2)))\n",
        "model.add(Dropout(0.35, seed=random_seed))\n",
        "\n",
        "model.add(Conv2D(64, (5,5), padding=\"same\", activation=\"relu\", use_bias=False))\n",
        "model.add(Conv2D(64, (5,5), padding=\"same\", activation=\"relu\", use_bias=False))\n",
        "model.add(MaxPooling2D(pool_size=(2,2)))\n",
        "model.add(Dropout(0.3, seed=random_seed))\n",
        "\n",
        "model.add(Conv2D(128, (5,5), padding=\"same\", activation=\"relu\", use_bias=False))\n",
        "# model.add(Conv2D(128, (5,5), padding=\"same\", activation=\"relu\", use_bias=False))\n",
        "model.add(MaxPooling2D(pool_size=(2,2)))\n",
        "model.add(Dropout(0.25, seed=random_seed))\n",
        "\n",
        "model.add(Flatten())\n",
        "model.add(Dense(256,  activation=\"relu\", use_bias=False))\n",
        "model.add(Dropout(0.15, seed=random_seed))\n",
        "model.add(Dense(256,  activation=\"relu\", use_bias=False))\n",
        "model.add(Dense(10,  activation=\"softmax\", use_bias=False))"
      ],
      "execution_count": 0,
      "outputs": []
    },
    {
      "cell_type": "code",
      "metadata": {
        "id": "utUrLPnI6kQh",
        "colab_type": "code",
        "colab": {}
      },
      "source": [
        "# also add learning rate schedule\n",
        "lr_reduction = ReduceLROnPlateau(monitor=\"val_accuracy\", patience=3, verbose=1, factor=0.5, min_lr=0.000001)"
      ],
      "execution_count": 0,
      "outputs": []
    },
    {
      "cell_type": "code",
      "metadata": {
        "id": "0ZB-HqQCNpFZ",
        "colab_type": "code",
        "colab": {}
      },
      "source": [
        "# compile the model\n",
        "model.compile(optimizer=\"adam\", loss=\"categorical_crossentropy\", metrics=[\"accuracy\"])"
      ],
      "execution_count": 0,
      "outputs": []
    },
    {
      "cell_type": "code",
      "metadata": {
        "id": "5AednlSQNpFc",
        "colab_type": "code",
        "colab": {
          "base_uri": "https://localhost:8080/",
          "height": 1000
        },
        "outputId": "ac917248-0769-4ede-fd94-c8e8c39e87fc"
      },
      "source": [
        "# training\n",
        "epochs = 70\n",
        "batch_size = 25\n",
        "\n",
        "# approach 0: the naive way to train the model without data augmentation\n",
        "# history = model.fit(x=X_train, y=Y_train, batch_size=batch_size, epochs=epochs, validation_data=(X_val, Y_val))\n",
        "\n",
        "# approach 1: train the model with data augmentation\n",
        "# history = model.fit(x=X_train_aug, y=Y_train_aug, batch_size=batch_size, epochs=epochs, validation_data=(X_val, Y_val))  # train with the augmented data\n",
        "\n",
        "# approach 2: train the model with data augmentation and a callback function defined by the ReduceRLOnPlateau from Keras\n",
        "# history = model.fit(initial_epoch=50 ,x=X_train_aug, y=Y_train_aug, batch_size=batch_size, epochs=epochs, validation_data=(X_val, Y_val), callbacks=[lr_reduction])  # train with the augmented data + callback\n",
        "\n",
        "# approach 3: train the model with real-time data generation from data augmentation with learning rate schedules by ReduceRLOnPlateau\n",
        "history = model.fit_generator(data_it, initial_epoch=0, steps_per_epoch=steps_per_epoch, epochs=epochs, validation_data=(X_val, Y_val), callbacks=[lr_reduction])  # train with the augmented data + callback\n",
        "\n",
        "# X_train_aug.shape, Y_train_aug.shape"
      ],
      "execution_count": 17,
      "outputs": [
        {
          "output_type": "stream",
          "text": [
            "Epoch 1/70\n",
            "1512/1512 [==============================] - 22s 15ms/step - loss: 0.3528 - accuracy: 0.8854 - val_loss: 0.0567 - val_accuracy: 0.9819\n",
            "Epoch 2/70\n",
            "1512/1512 [==============================] - 16s 11ms/step - loss: 0.1102 - accuracy: 0.9690 - val_loss: 0.0424 - val_accuracy: 0.9867\n",
            "Epoch 3/70\n",
            "1512/1512 [==============================] - 16s 11ms/step - loss: 0.0911 - accuracy: 0.9751 - val_loss: 0.0374 - val_accuracy: 0.9881\n",
            "Epoch 4/70\n",
            "1512/1512 [==============================] - 16s 10ms/step - loss: 0.0785 - accuracy: 0.9790 - val_loss: 0.0457 - val_accuracy: 0.9890\n",
            "Epoch 5/70\n",
            "1512/1512 [==============================] - 16s 10ms/step - loss: 0.0762 - accuracy: 0.9790 - val_loss: 0.0351 - val_accuracy: 0.9907\n",
            "Epoch 6/70\n",
            "1512/1512 [==============================] - 16s 10ms/step - loss: 0.0679 - accuracy: 0.9820 - val_loss: 0.0421 - val_accuracy: 0.9902\n",
            "Epoch 7/70\n",
            "1512/1512 [==============================] - 16s 10ms/step - loss: 0.0648 - accuracy: 0.9829 - val_loss: 0.0331 - val_accuracy: 0.9900\n",
            "Epoch 8/70\n",
            "1512/1512 [==============================] - 16s 10ms/step - loss: 0.0640 - accuracy: 0.9832 - val_loss: 0.0439 - val_accuracy: 0.9895\n",
            "\n",
            "Epoch 00008: ReduceLROnPlateau reducing learning rate to 0.0005000000237487257.\n",
            "Epoch 9/70\n",
            "1512/1512 [==============================] - 16s 10ms/step - loss: 0.0414 - accuracy: 0.9886 - val_loss: 0.0279 - val_accuracy: 0.9936\n",
            "Epoch 10/70\n",
            "1512/1512 [==============================] - 16s 10ms/step - loss: 0.0413 - accuracy: 0.9890 - val_loss: 0.0246 - val_accuracy: 0.9938\n",
            "Epoch 11/70\n",
            "1512/1512 [==============================] - 16s 11ms/step - loss: 0.0385 - accuracy: 0.9890 - val_loss: 0.0181 - val_accuracy: 0.9948\n",
            "Epoch 12/70\n",
            "1512/1512 [==============================] - 16s 10ms/step - loss: 0.0356 - accuracy: 0.9899 - val_loss: 0.0256 - val_accuracy: 0.9936\n",
            "Epoch 13/70\n",
            "1512/1512 [==============================] - 16s 10ms/step - loss: 0.0342 - accuracy: 0.9898 - val_loss: 0.0200 - val_accuracy: 0.9943\n",
            "Epoch 14/70\n",
            "1512/1512 [==============================] - 16s 11ms/step - loss: 0.0342 - accuracy: 0.9903 - val_loss: 0.0272 - val_accuracy: 0.9938\n",
            "\n",
            "Epoch 00014: ReduceLROnPlateau reducing learning rate to 0.0002500000118743628.\n",
            "Epoch 15/70\n",
            "1512/1512 [==============================] - 16s 10ms/step - loss: 0.0274 - accuracy: 0.9921 - val_loss: 0.0260 - val_accuracy: 0.9943\n",
            "Epoch 16/70\n",
            "1512/1512 [==============================] - 16s 10ms/step - loss: 0.0218 - accuracy: 0.9936 - val_loss: 0.0219 - val_accuracy: 0.9955\n",
            "Epoch 17/70\n",
            "1512/1512 [==============================] - 16s 10ms/step - loss: 0.0259 - accuracy: 0.9926 - val_loss: 0.0194 - val_accuracy: 0.9950\n",
            "Epoch 18/70\n",
            "1512/1512 [==============================] - 16s 10ms/step - loss: 0.0235 - accuracy: 0.9934 - val_loss: 0.0178 - val_accuracy: 0.9950\n",
            "Epoch 19/70\n",
            "1512/1512 [==============================] - 16s 11ms/step - loss: 0.0222 - accuracy: 0.9930 - val_loss: 0.0187 - val_accuracy: 0.9945\n",
            "\n",
            "Epoch 00019: ReduceLROnPlateau reducing learning rate to 0.0001250000059371814.\n",
            "Epoch 20/70\n",
            "1512/1512 [==============================] - 16s 10ms/step - loss: 0.0194 - accuracy: 0.9938 - val_loss: 0.0182 - val_accuracy: 0.9957\n",
            "Epoch 21/70\n",
            "1512/1512 [==============================] - 16s 10ms/step - loss: 0.0191 - accuracy: 0.9950 - val_loss: 0.0173 - val_accuracy: 0.9955\n",
            "Epoch 22/70\n",
            "1512/1512 [==============================] - 16s 11ms/step - loss: 0.0185 - accuracy: 0.9949 - val_loss: 0.0174 - val_accuracy: 0.9960\n",
            "Epoch 23/70\n",
            "1512/1512 [==============================] - 16s 10ms/step - loss: 0.0182 - accuracy: 0.9948 - val_loss: 0.0162 - val_accuracy: 0.9964\n",
            "Epoch 24/70\n",
            "1512/1512 [==============================] - 16s 10ms/step - loss: 0.0164 - accuracy: 0.9948 - val_loss: 0.0176 - val_accuracy: 0.9962\n",
            "Epoch 25/70\n",
            "1512/1512 [==============================] - 16s 10ms/step - loss: 0.0172 - accuracy: 0.9949 - val_loss: 0.0198 - val_accuracy: 0.9950\n",
            "Epoch 26/70\n",
            "1512/1512 [==============================] - 16s 10ms/step - loss: 0.0170 - accuracy: 0.9948 - val_loss: 0.0175 - val_accuracy: 0.9950\n",
            "\n",
            "Epoch 00026: ReduceLROnPlateau reducing learning rate to 6.25000029685907e-05.\n",
            "Epoch 27/70\n",
            "1512/1512 [==============================] - 16s 10ms/step - loss: 0.0150 - accuracy: 0.9954 - val_loss: 0.0170 - val_accuracy: 0.9957\n",
            "Epoch 28/70\n",
            "1512/1512 [==============================] - 16s 10ms/step - loss: 0.0140 - accuracy: 0.9956 - val_loss: 0.0182 - val_accuracy: 0.9962\n",
            "Epoch 29/70\n",
            "1512/1512 [==============================] - 16s 10ms/step - loss: 0.0136 - accuracy: 0.9957 - val_loss: 0.0168 - val_accuracy: 0.9960\n",
            "\n",
            "Epoch 00029: ReduceLROnPlateau reducing learning rate to 3.125000148429535e-05.\n",
            "Epoch 30/70\n",
            "1512/1512 [==============================] - 16s 10ms/step - loss: 0.0142 - accuracy: 0.9959 - val_loss: 0.0167 - val_accuracy: 0.9957\n",
            "Epoch 31/70\n",
            "1512/1512 [==============================] - 16s 10ms/step - loss: 0.0159 - accuracy: 0.9957 - val_loss: 0.0171 - val_accuracy: 0.9960\n",
            "Epoch 32/70\n",
            "1512/1512 [==============================] - 16s 11ms/step - loss: 0.0124 - accuracy: 0.9960 - val_loss: 0.0174 - val_accuracy: 0.9960\n",
            "\n",
            "Epoch 00032: ReduceLROnPlateau reducing learning rate to 1.5625000742147677e-05.\n",
            "Epoch 33/70\n",
            "1512/1512 [==============================] - 16s 10ms/step - loss: 0.0132 - accuracy: 0.9962 - val_loss: 0.0171 - val_accuracy: 0.9960\n",
            "Epoch 34/70\n",
            "1512/1512 [==============================] - 16s 10ms/step - loss: 0.0118 - accuracy: 0.9963 - val_loss: 0.0168 - val_accuracy: 0.9960\n",
            "Epoch 35/70\n",
            "1512/1512 [==============================] - 16s 10ms/step - loss: 0.0141 - accuracy: 0.9956 - val_loss: 0.0181 - val_accuracy: 0.9964\n",
            "\n",
            "Epoch 00035: ReduceLROnPlateau reducing learning rate to 7.812500371073838e-06.\n",
            "Epoch 36/70\n",
            "1512/1512 [==============================] - 16s 10ms/step - loss: 0.0113 - accuracy: 0.9962 - val_loss: 0.0179 - val_accuracy: 0.9964\n",
            "Epoch 37/70\n",
            "1512/1512 [==============================] - 16s 11ms/step - loss: 0.0133 - accuracy: 0.9961 - val_loss: 0.0180 - val_accuracy: 0.9962\n",
            "Epoch 38/70\n",
            "1512/1512 [==============================] - 16s 11ms/step - loss: 0.0116 - accuracy: 0.9967 - val_loss: 0.0179 - val_accuracy: 0.9962\n",
            "\n",
            "Epoch 00038: ReduceLROnPlateau reducing learning rate to 3.906250185536919e-06.\n",
            "Epoch 39/70\n",
            "1512/1512 [==============================] - 16s 11ms/step - loss: 0.0117 - accuracy: 0.9963 - val_loss: 0.0177 - val_accuracy: 0.9962\n",
            "Epoch 40/70\n",
            "1512/1512 [==============================] - 15s 10ms/step - loss: 0.0104 - accuracy: 0.9966 - val_loss: 0.0177 - val_accuracy: 0.9960\n",
            "Epoch 41/70\n",
            "1512/1512 [==============================] - 16s 10ms/step - loss: 0.0111 - accuracy: 0.9966 - val_loss: 0.0177 - val_accuracy: 0.9962\n",
            "\n",
            "Epoch 00041: ReduceLROnPlateau reducing learning rate to 1.9531250927684596e-06.\n",
            "Epoch 42/70\n",
            "1512/1512 [==============================] - 16s 10ms/step - loss: 0.0112 - accuracy: 0.9966 - val_loss: 0.0177 - val_accuracy: 0.9962\n",
            "Epoch 43/70\n",
            "1512/1512 [==============================] - 16s 10ms/step - loss: 0.0124 - accuracy: 0.9963 - val_loss: 0.0176 - val_accuracy: 0.9962\n",
            "Epoch 44/70\n",
            "1512/1512 [==============================] - 16s 10ms/step - loss: 0.0111 - accuracy: 0.9967 - val_loss: 0.0175 - val_accuracy: 0.9962\n",
            "\n",
            "Epoch 00044: ReduceLROnPlateau reducing learning rate to 1e-06.\n",
            "Epoch 45/70\n",
            "1512/1512 [==============================] - 16s 10ms/step - loss: 0.0107 - accuracy: 0.9965 - val_loss: 0.0175 - val_accuracy: 0.9962\n",
            "Epoch 46/70\n",
            "1512/1512 [==============================] - 16s 10ms/step - loss: 0.0123 - accuracy: 0.9965 - val_loss: 0.0175 - val_accuracy: 0.9962\n",
            "Epoch 47/70\n",
            "1512/1512 [==============================] - 16s 10ms/step - loss: 0.0123 - accuracy: 0.9960 - val_loss: 0.0175 - val_accuracy: 0.9962\n",
            "Epoch 48/70\n",
            "1512/1512 [==============================] - 16s 10ms/step - loss: 0.0131 - accuracy: 0.9960 - val_loss: 0.0175 - val_accuracy: 0.9962\n",
            "Epoch 49/70\n",
            "1512/1512 [==============================] - 16s 10ms/step - loss: 0.0115 - accuracy: 0.9964 - val_loss: 0.0174 - val_accuracy: 0.9962\n",
            "Epoch 50/70\n",
            "1512/1512 [==============================] - 16s 10ms/step - loss: 0.0125 - accuracy: 0.9961 - val_loss: 0.0174 - val_accuracy: 0.9962\n",
            "Epoch 51/70\n",
            "1512/1512 [==============================] - 16s 10ms/step - loss: 0.0110 - accuracy: 0.9968 - val_loss: 0.0174 - val_accuracy: 0.9962\n",
            "Epoch 52/70\n",
            "1512/1512 [==============================] - 16s 10ms/step - loss: 0.0112 - accuracy: 0.9965 - val_loss: 0.0174 - val_accuracy: 0.9962\n",
            "Epoch 53/70\n",
            "1512/1512 [==============================] - 16s 10ms/step - loss: 0.0117 - accuracy: 0.9966 - val_loss: 0.0174 - val_accuracy: 0.9962\n",
            "Epoch 54/70\n",
            "1512/1512 [==============================] - 16s 10ms/step - loss: 0.0118 - accuracy: 0.9962 - val_loss: 0.0174 - val_accuracy: 0.9962\n",
            "Epoch 55/70\n",
            "1512/1512 [==============================] - 16s 10ms/step - loss: 0.0123 - accuracy: 0.9963 - val_loss: 0.0174 - val_accuracy: 0.9962\n",
            "Epoch 56/70\n",
            "1512/1512 [==============================] - 16s 10ms/step - loss: 0.0125 - accuracy: 0.9963 - val_loss: 0.0174 - val_accuracy: 0.9962\n",
            "Epoch 57/70\n",
            "1512/1512 [==============================] - 16s 10ms/step - loss: 0.0120 - accuracy: 0.9964 - val_loss: 0.0173 - val_accuracy: 0.9962\n",
            "Epoch 58/70\n",
            "1512/1512 [==============================] - 16s 11ms/step - loss: 0.0115 - accuracy: 0.9967 - val_loss: 0.0172 - val_accuracy: 0.9960\n",
            "Epoch 59/70\n",
            "1512/1512 [==============================] - 16s 10ms/step - loss: 0.0115 - accuracy: 0.9966 - val_loss: 0.0172 - val_accuracy: 0.9960\n",
            "Epoch 60/70\n",
            "1512/1512 [==============================] - 16s 10ms/step - loss: 0.0105 - accuracy: 0.9966 - val_loss: 0.0173 - val_accuracy: 0.9960\n",
            "Epoch 61/70\n",
            "1512/1512 [==============================] - 15s 10ms/step - loss: 0.0137 - accuracy: 0.9960 - val_loss: 0.0172 - val_accuracy: 0.9962\n",
            "Epoch 62/70\n",
            "1512/1512 [==============================] - 16s 10ms/step - loss: 0.0131 - accuracy: 0.9960 - val_loss: 0.0172 - val_accuracy: 0.9962\n",
            "Epoch 63/70\n",
            "1512/1512 [==============================] - 16s 10ms/step - loss: 0.0119 - accuracy: 0.9961 - val_loss: 0.0172 - val_accuracy: 0.9962\n",
            "Epoch 64/70\n",
            "1512/1512 [==============================] - 16s 10ms/step - loss: 0.0123 - accuracy: 0.9962 - val_loss: 0.0172 - val_accuracy: 0.9962\n",
            "Epoch 65/70\n",
            "1512/1512 [==============================] - 16s 10ms/step - loss: 0.0115 - accuracy: 0.9964 - val_loss: 0.0172 - val_accuracy: 0.9962\n",
            "Epoch 66/70\n",
            "1512/1512 [==============================] - 16s 10ms/step - loss: 0.0112 - accuracy: 0.9966 - val_loss: 0.0172 - val_accuracy: 0.9962\n",
            "Epoch 67/70\n",
            "1512/1512 [==============================] - 16s 10ms/step - loss: 0.0135 - accuracy: 0.9960 - val_loss: 0.0172 - val_accuracy: 0.9962\n",
            "Epoch 68/70\n",
            "1512/1512 [==============================] - 16s 11ms/step - loss: 0.0127 - accuracy: 0.9964 - val_loss: 0.0172 - val_accuracy: 0.9962\n",
            "Epoch 69/70\n",
            "1512/1512 [==============================] - 16s 11ms/step - loss: 0.0134 - accuracy: 0.9962 - val_loss: 0.0173 - val_accuracy: 0.9962\n",
            "Epoch 70/70\n",
            "1512/1512 [==============================] - 16s 10ms/step - loss: 0.0123 - accuracy: 0.9963 - val_loss: 0.0173 - val_accuracy: 0.9962\n"
          ],
          "name": "stdout"
        }
      ]
    },
    {
      "cell_type": "code",
      "metadata": {
        "id": "L2aEgqryNpFf",
        "colab_type": "code",
        "outputId": "30c434a3-03fa-43df-da35-067ab9274d46",
        "colab": {
          "base_uri": "https://localhost:8080/",
          "height": 331
        }
      },
      "source": [
        "# check convergence and overfitting\n",
        "\n",
        "fig, ax = plt.subplots(1,2, figsize=(25,7))\n",
        "ax[0].plot(history.epoch, history.history[\"accuracy\"], marker=\"o\", label=\"accuracy\")\n",
        "ax[0].plot(history.epoch, history.history[\"val_accuracy\"], marker=\"o\", label=\"val_accuracy\")\n",
        "ax[0].set_xlabel(\"epochs\")\n",
        "ax[0].set_ylabel(\"accuracy\")\n",
        "ax[0].legend()\n",
        "ax[0].set_xticks(ticks=list(range(history.epoch[0], history.epoch[-1]+1)))\n",
        "ax[0].grid(axis=\"y\")\n",
        "\n",
        "ax[1].plot(history.epoch, history.history[\"loss\"], marker=\"o\", label=\"loss\")\n",
        "ax[1].set_xticks(ticks=history.epoch)\n",
        "ax[1].set_xlabel(\"epoch\")\n",
        "ax[1].set_ylabel(\"loss\")\n",
        "print(\"best accuracy: \", max(history.history[\"val_accuracy\"]))"
      ],
      "execution_count": 19,
      "outputs": [
        {
          "output_type": "stream",
          "text": [
            "best accuracy:  0.9964285492897034\n"
          ],
          "name": "stdout"
        },
        {
          "output_type": "display_data",
          "data": {
            "image/png": "[encoded data removed]",
            "text/plain": [
              "<Figure size 1800x504 with 2 Axes>"
            ]
          },
          "metadata": {
            "tags": [],
            "needs_background": "light"
          }
        }
      ]
    },
    {
      "cell_type": "markdown",
      "metadata": {
        "id": "SPzH6PVLSarp",
        "colab_type": "text"
      },
      "source": [
        "### Result History\n",
        "#### Initial\n",
        "\n",
        "1. init: 0.99\n",
        "2. conv2d bias=true: 0.987\n",
        "3. dense bias=true: 0.986\n",
        "4. v2 + drop+ conv2d: 0.989, 0.991\n",
        "5. v3 + conv2d: 0.9902\n",
        "6. v4 + maxpool2d + drop: 0.9907, 0.993\n",
        "7. v4 with rmsprop: 0.99\n",
        "8. v4 with batch=20: 0.989, 0.9933, 0.994\n",
        "9. v5 + conv2d + drop: 0.9904, 0.9935, 0.9935\n",
        "10. v5.1: 0.987, 0.993, 0.995\n",
        "---\n",
        "#### Adding another layer of conv2d, maxpool, and dropout:\n",
        "\n",
        "11. v5: 0.9912, 0.991, 0.993\n",
        "12. v6 + conv2d: 0.988, 0.9917, 0.9928\n",
        "13. v5 0.2,0.1: 0.991, 0.9928\n",
        "14. v7 - drop: 0.992, 0.9928, 0.993\n",
        "15. v8 - dense: 0.993, 0.994, 0.9928, 0.9935\n",
        "\n",
        "* **test accuracy: ~0.991**\n",
        "---\n",
        "#### Adding Data Augmentation:\n",
        "16. v8 +aug: 0.992\n",
        "17. v5 + aug.2: 0.992, 0.993\n",
        "18. v5 + augmentation with ~30 epochs: 0,995\n",
        "\n",
        "* **test accuracy: ~0.994**\n",
        "---\n",
        "#### Adding ReduceLROnPlateau: \n",
        "\n",
        "19. min_lr=0.0001: 0.9959\n",
        "20. min_lr=0.00001: 0.9961\n",
        "\n",
        "* **test accuracy: ~0.996**\n",
        "---\n",
        "#### Enable use_bias in layers\n",
        "21. min_lr=0.00001 + bias + 512 neurons in the last dense layer: 0.997\n",
        "\n",
        "* **test accuracy: 0.9951**\n",
        "---\n",
        "#### use fit_generator to train on augmented images from generator\n",
        "22. min_lr=0.00001: 0.9959\n",
        "23. min_lr=0.000005: 0.9971\n",
        "\n",
        "* **test accuracy: 0.99614**\n",
        "---\n",
        "#### use grid search to hyper tune some parameters\n",
        "24. min_lr=0.000005: 0.9967\n",
        "\n",
        "* **test accuracy: 0.996**\n",
        "\n",
        "---\n",
        "#### use the intermediate between the previous parameters and the grid search best parameters:\n",
        "25. intermediate + min_lr=0.000001: 0.9962\n",
        "\n",
        "* **test accuracy: 0.99614**\n"
      ]
    },
    {
      "cell_type": "markdown",
      "metadata": {
        "id": "KIPCNPbkOrE_",
        "colab_type": "text"
      },
      "source": [
        "## Grid Search Hyperparameters Optimization\n",
        "This section will use the gridSearchCV from scikit-learn library to tune hyperparameters in Keras CNN models."
      ]
    },
    {
      "cell_type": "code",
      "metadata": {
        "id": "Sgf5modUQBvj",
        "colab_type": "code",
        "colab": {}
      },
      "source": [
        "from sklearn.model_selection import GridSearchCV\n",
        "from keras.wrappers.scikit_learn import KerasClassifier\n",
        "from keras.optimizers import adam"
      ],
      "execution_count": 0,
      "outputs": []
    },
    {
      "cell_type": "code",
      "metadata": {
        "id": "sjmKeDHVQB8K",
        "colab_type": "code",
        "outputId": "a31235a6-1b9c-444d-e4a4-80f53fe8e866",
        "colab": {
          "base_uri": "https://localhost:8080/",
          "height": 51
        }
      },
      "source": [
        "np.random.seed(random_seed)\n",
        "print(X_train.shape, Y_train.shape)\n",
        "print(random_seed)"
      ],
      "execution_count": 0,
      "outputs": [
        {
          "output_type": "stream",
          "text": [
            "(37800, 28, 28, 1) (37800, 10)\n",
            "2\n"
          ],
          "name": "stdout"
        }
      ]
    },
    {
      "cell_type": "code",
      "metadata": {
        "id": "Zin2CQMCQB6_",
        "colab_type": "code",
        "colab": {}
      },
      "source": [
        "# create a function which builds a model for the KerasClassifier wrapper class\n",
        "def create_model(third_layer=[128], kernel_size=(5,5), dropout1=0.3, dropout2=0.25, dropout3=0.2, dropout4=0.1, lr=0.001):\n",
        "    model = Sequential()\n",
        "    model = Sequential()\n",
        "    model.add(Conv2D(32, kernel_size, padding=\"same\", activation=\"relu\", use_bias=False, input_shape=(28,28,1)))\n",
        "    model.add(Conv2D(32, kernel_size, padding=\"same\", activation=\"relu\", use_bias=False))\n",
        "    model.add(MaxPooling2D(pool_size=(2,2)))\n",
        "    model.add(Dropout(dropout1, seed=random_seed))\n",
        "\n",
        "    model.add(Conv2D(64, kernel_size, padding=\"same\", activation=\"relu\", use_bias=False))\n",
        "    model.add(Conv2D(64, kernel_size, padding=\"same\", activation=\"relu\", use_bias=False))\n",
        "    model.add(MaxPooling2D(pool_size=(2,2)))\n",
        "    model.add(Dropout(dropout2, seed=random_seed))\n",
        "\n",
        "    for single_size in third_layer:\n",
        "    # if len(third_layer) == 1:\n",
        "        model.add(Conv2D(third_layer[0], kernel_size, padding=\"same\", activation=\"relu\", use_bias=False))\n",
        "    # model.add(Conv2D(128, kernel_size, padding=\"same\", activation=\"relu\", use_bias=False))\n",
        "    # model.add(Conv2D(128, (5,5), padding=\"same\", activation=\"relu\", use_bias=False))\n",
        "    model.add(MaxPooling2D(pool_size=(2,2)))\n",
        "    model.add(Dropout(dropout3, seed=random_seed))\n",
        "\n",
        "    model.add(Flatten())\n",
        "    model.add(Dense(256,  activation=\"relu\", use_bias=False))\n",
        "    model.add(Dropout(dropout4, seed=random_seed))\n",
        "    model.add(Dense(256,  activation=\"relu\", use_bias=False))\n",
        "    model.add(Dense(10,  activation=\"softmax\", use_bias=False))\n",
        "    # Compile model\n",
        "    optimizer = adam(lr)\n",
        "    model.compile(loss=\"categorical_crossentropy\", optimizer=optimizer, metrics=['accuracy'])\n",
        "    return model"
      ],
      "execution_count": 0,
      "outputs": []
    },
    {
      "cell_type": "code",
      "metadata": {
        "id": "qWzNgpHpQB5t",
        "colab_type": "code",
        "colab": {}
      },
      "source": [
        "# model = KerasClassifier(build_fn=create_model, verbose=0)\n",
        "model = KerasClassifier(build_fn=create_model, kernel_size=(3,3), batch_size=20, epochs=5, lr=0.001)\n",
        "param_grid = dict(\n",
        "    # batch_size=[10, 20, 30],\n",
        "    # batch_size=[20],\n",
        "    # epochs=[10],\n",
        "    third_layer=[(128,), (128, 256)], # some sklearn issue with nested array: https://github.com/keras-team/keras/issues/13586#issuecomment-586634246\n",
        "    # third_layer=[(128,)],\n",
        "    # kernel_size=[(3,3), (5,5)],\n",
        "    dropout1 = [0.35],\n",
        "    dropout2 = [0.3],\n",
        "    dropout3 = [0.2, 0.3],\n",
        "    dropout4 = [0.2, 0.3],\n",
        ")\n",
        "grid = GridSearchCV(estimator=model, param_grid=param_grid, scoring=None,  n_jobs=-1, cv=3)"
      ],
      "execution_count": 0,
      "outputs": []
    },
    {
      "cell_type": "code",
      "metadata": {
        "id": "iWi0B2YwbbEu",
        "colab_type": "code",
        "outputId": "ee38d8f1-1da4-4f93-8b31-d0b3ca59c36d",
        "colab": {
          "base_uri": "https://localhost:8080/",
          "height": 258
        }
      },
      "source": [
        "grid_result = grid.fit(X_train, Y_train, verbose=1)\n",
        "print(\"Best: %f using %s\" % (grid_result.best_score_, grid_result.best_params_))"
      ],
      "execution_count": 0,
      "outputs": [
        {
          "output_type": "stream",
          "text": [
            "/usr/local/lib/python3.6/dist-packages/joblib/externals/loky/process_executor.py:706: UserWarning: A worker stopped while some jobs were given to the executor. This can be caused by a too short worker timeout or by a memory leak.\n",
            "  \"timeout or by a memory leak.\", UserWarning\n"
          ],
          "name": "stderr"
        },
        {
          "output_type": "stream",
          "text": [
            "Epoch 1/5\n",
            "37800/37800 [==============================] - 10s 266us/step - loss: 0.2493 - accuracy: 0.9175\n",
            "Epoch 2/5\n",
            "37800/37800 [==============================] - 10s 263us/step - loss: 0.0880 - accuracy: 0.9739\n",
            "Epoch 3/5\n",
            "37800/37800 [==============================] - 10s 264us/step - loss: 0.0684 - accuracy: 0.9802\n",
            "Epoch 4/5\n",
            "37800/37800 [==============================] - 10s 263us/step - loss: 0.0597 - accuracy: 0.9826\n",
            "Epoch 5/5\n",
            "37800/37800 [==============================] - 10s 264us/step - loss: 0.0509 - accuracy: 0.9860\n",
            "Best: 0.988624 using {'dropout1': 0.35, 'dropout2': 0.3, 'dropout3': 0.2, 'dropout4': 0.3, 'third_layer': (128,)}\n"
          ],
          "name": "stdout"
        }
      ]
    },
    {
      "cell_type": "code",
      "metadata": {
        "id": "yMZiU2xhXYoH",
        "colab_type": "code",
        "outputId": "32182617-74d3-4115-e1cd-18cc69605b4d",
        "colab": {
          "base_uri": "https://localhost:8080/",
          "height": 1000
        }
      },
      "source": [
        "pd.set_option('display.max_colwidth', -1)\n",
        "print(\"Best: %f using %s\" % (grid_result.best_score_, grid_result.best_params_))\n",
        "value = dict(\n",
        "    # params = grid_result.cv_results_[\"params\"],\n",
        "    params = grid_result.cv_results_[\"params\"],\n",
        "    means = grid_result.cv_results_[\"mean_test_score\"],\n",
        "    stds = grid_result.cv_results_[\"std_test_score\"]\n",
        ")\n",
        "param_comp = pd.DataFrame(data=value).sort_values(by=[\"means\", \"stds\"], ascending=[False, True], ignore_index=True)\n",
        "param_comp"
      ],
      "execution_count": 0,
      "outputs": [
        {
          "output_type": "stream",
          "text": [
            "Best: 0.988307 using {'dropout1': 0.35, 'dropout2': 0.3, 'dropout3': 0.2, 'dropout4': 0.3, 'lr': 0.001, 'third_layer': (128,)}\n"
          ],
          "name": "stdout"
        },
        {
          "output_type": "stream",
          "text": [
            "/usr/local/lib/python3.6/dist-packages/ipykernel_launcher.py:1: FutureWarning: Passing a negative integer is deprecated in version 1.0 and will not be supported in future version. Instead, use None to not limit the column width.\n",
            "  \"\"\"Entry point for launching an IPython kernel.\n"
          ],
          "name": "stderr"
        },
        {
          "output_type": "execute_result",
          "data": {
            "text/html": [
              "<div>\n",
              "<style scoped>\n",
              "    .dataframe tbody tr th:only-of-type {\n",
              "        vertical-align: middle;\n",
              "    }\n",
              "\n",
              "    .dataframe tbody tr th {\n",
              "        vertical-align: top;\n",
              "    }\n",
              "\n",
              "    .dataframe thead th {\n",
              "        text-align: right;\n",
              "    }\n",
              "</style>\n",
              "<table border=\"1\" class=\"dataframe\">\n",
              "  <thead>\n",
              "    <tr style=\"text-align: right;\">\n",
              "      <th></th>\n",
              "      <th>params</th>\n",
              "      <th>means</th>\n",
              "      <th>stds</th>\n",
              "    </tr>\n",
              "  </thead>\n",
              "  <tbody>\n",
              "    <tr>\n",
              "      <th>0</th>\n",
              "      <td>{'dropout1': 0.35, 'dropout2': 0.3, 'dropout3': 0.2, 'dropout4': 0.3, 'lr': 0.001, 'third_layer': (128,)}</td>\n",
              "      <td>0.988307</td>\n",
              "      <td>0.000714</td>\n",
              "    </tr>\n",
              "    <tr>\n",
              "      <th>1</th>\n",
              "      <td>{'dropout1': 0.35, 'dropout2': 0.3, 'dropout3': 0.3, 'dropout4': 0, 'lr': 0.001, 'third_layer': (128,)}</td>\n",
              "      <td>0.988175</td>\n",
              "      <td>0.000683</td>\n",
              "    </tr>\n",
              "    <tr>\n",
              "      <th>2</th>\n",
              "      <td>{'dropout1': 0.35, 'dropout2': 0.3, 'dropout3': 0.2, 'dropout4': 0, 'lr': 0.001, 'third_layer': (128,)}</td>\n",
              "      <td>0.987857</td>\n",
              "      <td>0.001043</td>\n",
              "    </tr>\n",
              "    <tr>\n",
              "      <th>3</th>\n",
              "      <td>{'dropout1': 0.35, 'dropout2': 0.3, 'dropout3': 0.3, 'dropout4': 0.2, 'lr': 0.001, 'third_layer': (128,)}</td>\n",
              "      <td>0.987831</td>\n",
              "      <td>0.001384</td>\n",
              "    </tr>\n",
              "    <tr>\n",
              "      <th>4</th>\n",
              "      <td>{'dropout1': 0.35, 'dropout2': 0.3, 'dropout3': 0.3, 'dropout4': 0.3, 'lr': 0.001, 'third_layer': (128,)}</td>\n",
              "      <td>0.987778</td>\n",
              "      <td>0.000747</td>\n",
              "    </tr>\n",
              "    <tr>\n",
              "      <th>5</th>\n",
              "      <td>{'dropout1': 0.35, 'dropout2': 0.3, 'dropout3': 0, 'dropout4': 1, 'lr': 0.001, 'third_layer': (128,)}</td>\n",
              "      <td>0.987169</td>\n",
              "      <td>0.001332</td>\n",
              "    </tr>\n",
              "    <tr>\n",
              "      <th>6</th>\n",
              "      <td>{'dropout1': 0.35, 'dropout2': 0.3, 'dropout3': 0, 'dropout4': 0, 'lr': 0.001, 'third_layer': (128,)}</td>\n",
              "      <td>0.987090</td>\n",
              "      <td>0.001344</td>\n",
              "    </tr>\n",
              "    <tr>\n",
              "      <th>7</th>\n",
              "      <td>{'dropout1': 0.35, 'dropout2': 0.3, 'dropout3': 1, 'dropout4': 0.2, 'lr': 0.001, 'third_layer': (128,)}</td>\n",
              "      <td>0.986931</td>\n",
              "      <td>0.001938</td>\n",
              "    </tr>\n",
              "    <tr>\n",
              "      <th>8</th>\n",
              "      <td>{'dropout1': 0.35, 'dropout2': 0.3, 'dropout3': 1, 'dropout4': 1, 'lr': 0.001, 'third_layer': (128,)}</td>\n",
              "      <td>0.986667</td>\n",
              "      <td>0.001912</td>\n",
              "    </tr>\n",
              "    <tr>\n",
              "      <th>9</th>\n",
              "      <td>{'dropout1': 0.35, 'dropout2': 0.3, 'dropout3': 0.2, 'dropout4': 1, 'lr': 0.001, 'third_layer': (128,)}</td>\n",
              "      <td>0.986534</td>\n",
              "      <td>0.002330</td>\n",
              "    </tr>\n",
              "    <tr>\n",
              "      <th>10</th>\n",
              "      <td>{'dropout1': 0.35, 'dropout2': 0.3, 'dropout3': 0, 'dropout4': 0.3, 'lr': 0.001, 'third_layer': (128,)}</td>\n",
              "      <td>0.986376</td>\n",
              "      <td>0.001561</td>\n",
              "    </tr>\n",
              "    <tr>\n",
              "      <th>11</th>\n",
              "      <td>{'dropout1': 0.35, 'dropout2': 0.3, 'dropout3': 0.3, 'dropout4': 1, 'lr': 0.001, 'third_layer': (128,)}</td>\n",
              "      <td>0.986296</td>\n",
              "      <td>0.001330</td>\n",
              "    </tr>\n",
              "    <tr>\n",
              "      <th>12</th>\n",
              "      <td>{'dropout1': 0.35, 'dropout2': 0.3, 'dropout3': 0, 'dropout4': 0.2, 'lr': 0.001, 'third_layer': (128,)}</td>\n",
              "      <td>0.986270</td>\n",
              "      <td>0.002150</td>\n",
              "    </tr>\n",
              "    <tr>\n",
              "      <th>13</th>\n",
              "      <td>{'dropout1': 0.35, 'dropout2': 0.3, 'dropout3': 1, 'dropout4': 0.3, 'lr': 0.001, 'third_layer': (128,)}</td>\n",
              "      <td>0.985952</td>\n",
              "      <td>0.002633</td>\n",
              "    </tr>\n",
              "    <tr>\n",
              "      <th>14</th>\n",
              "      <td>{'dropout1': 0.35, 'dropout2': 0.3, 'dropout3': 1, 'dropout4': 0, 'lr': 0.001, 'third_layer': (128,)}</td>\n",
              "      <td>0.985926</td>\n",
              "      <td>0.001033</td>\n",
              "    </tr>\n",
              "    <tr>\n",
              "      <th>15</th>\n",
              "      <td>{'dropout1': 0.35, 'dropout2': 0.3, 'dropout3': 0.2, 'dropout4': 0.2, 'lr': 0.001, 'third_layer': (128,)}</td>\n",
              "      <td>0.985000</td>\n",
              "      <td>0.001315</td>\n",
              "    </tr>\n",
              "    <tr>\n",
              "      <th>16</th>\n",
              "      <td>{'dropout1': 0.35, 'dropout2': 0.3, 'dropout3': 0.2, 'dropout4': 0.2, 'lr': 0.0001, 'third_layer': (128,)}</td>\n",
              "      <td>0.984048</td>\n",
              "      <td>0.000171</td>\n",
              "    </tr>\n",
              "    <tr>\n",
              "      <th>17</th>\n",
              "      <td>{'dropout1': 0.35, 'dropout2': 0.3, 'dropout3': 0, 'dropout4': 0, 'lr': 0.0001, 'third_layer': (128,)}</td>\n",
              "      <td>0.983810</td>\n",
              "      <td>0.001524</td>\n",
              "    </tr>\n",
              "    <tr>\n",
              "      <th>18</th>\n",
              "      <td>{'dropout1': 0.35, 'dropout2': 0.3, 'dropout3': 0.2, 'dropout4': 1, 'lr': 0.0001, 'third_layer': (128,)}</td>\n",
              "      <td>0.983783</td>\n",
              "      <td>0.001535</td>\n",
              "    </tr>\n",
              "    <tr>\n",
              "      <th>19</th>\n",
              "      <td>{'dropout1': 0.35, 'dropout2': 0.3, 'dropout3': 1, 'dropout4': 0, 'lr': 0.0001, 'third_layer': (128,)}</td>\n",
              "      <td>0.983519</td>\n",
              "      <td>0.000926</td>\n",
              "    </tr>\n",
              "    <tr>\n",
              "      <th>20</th>\n",
              "      <td>{'dropout1': 0.35, 'dropout2': 0.3, 'dropout3': 1, 'dropout4': 1, 'lr': 0.0001, 'third_layer': (128,)}</td>\n",
              "      <td>0.983307</td>\n",
              "      <td>0.000737</td>\n",
              "    </tr>\n",
              "    <tr>\n",
              "      <th>21</th>\n",
              "      <td>{'dropout1': 0.35, 'dropout2': 0.3, 'dropout3': 0.3, 'dropout4': 0, 'lr': 0.0001, 'third_layer': (128,)}</td>\n",
              "      <td>0.983254</td>\n",
              "      <td>0.001804</td>\n",
              "    </tr>\n",
              "    <tr>\n",
              "      <th>22</th>\n",
              "      <td>{'dropout1': 0.35, 'dropout2': 0.3, 'dropout3': 0, 'dropout4': 0.3, 'lr': 0.0001, 'third_layer': (128,)}</td>\n",
              "      <td>0.982963</td>\n",
              "      <td>0.001569</td>\n",
              "    </tr>\n",
              "    <tr>\n",
              "      <th>23</th>\n",
              "      <td>{'dropout1': 0.35, 'dropout2': 0.3, 'dropout3': 0.2, 'dropout4': 0, 'lr': 0.0001, 'third_layer': (128,)}</td>\n",
              "      <td>0.982778</td>\n",
              "      <td>0.000361</td>\n",
              "    </tr>\n",
              "    <tr>\n",
              "      <th>24</th>\n",
              "      <td>{'dropout1': 0.35, 'dropout2': 0.3, 'dropout3': 0, 'dropout4': 0.2, 'lr': 0.0001, 'third_layer': (128,)}</td>\n",
              "      <td>0.982566</td>\n",
              "      <td>0.001474</td>\n",
              "    </tr>\n",
              "    <tr>\n",
              "      <th>25</th>\n",
              "      <td>{'dropout1': 0.35, 'dropout2': 0.3, 'dropout3': 1, 'dropout4': 0.2, 'lr': 0.0001, 'third_layer': (128,)}</td>\n",
              "      <td>0.982487</td>\n",
              "      <td>0.002082</td>\n",
              "    </tr>\n",
              "    <tr>\n",
              "      <th>26</th>\n",
              "      <td>{'dropout1': 0.35, 'dropout2': 0.3, 'dropout3': 0.3, 'dropout4': 0.3, 'lr': 0.0001, 'third_layer': (128,)}</td>\n",
              "      <td>0.982355</td>\n",
              "      <td>0.000992</td>\n",
              "    </tr>\n",
              "    <tr>\n",
              "      <th>27</th>\n",
              "      <td>{'dropout1': 0.35, 'dropout2': 0.3, 'dropout3': 0, 'dropout4': 1, 'lr': 0.0001, 'third_layer': (128,)}</td>\n",
              "      <td>0.982275</td>\n",
              "      <td>0.002045</td>\n",
              "    </tr>\n",
              "    <tr>\n",
              "      <th>28</th>\n",
              "      <td>{'dropout1': 0.35, 'dropout2': 0.3, 'dropout3': 0.3, 'dropout4': 0.2, 'lr': 0.0001, 'third_layer': (128,)}</td>\n",
              "      <td>0.982116</td>\n",
              "      <td>0.000773</td>\n",
              "    </tr>\n",
              "    <tr>\n",
              "      <th>29</th>\n",
              "      <td>{'dropout1': 0.35, 'dropout2': 0.3, 'dropout3': 0.3, 'dropout4': 1, 'lr': 0.0001, 'third_layer': (128,)}</td>\n",
              "      <td>0.982090</td>\n",
              "      <td>0.000955</td>\n",
              "    </tr>\n",
              "    <tr>\n",
              "      <th>30</th>\n",
              "      <td>{'dropout1': 0.35, 'dropout2': 0.3, 'dropout3': 0.2, 'dropout4': 0.3, 'lr': 0.0001, 'third_layer': (128,)}</td>\n",
              "      <td>0.981958</td>\n",
              "      <td>0.001160</td>\n",
              "    </tr>\n",
              "    <tr>\n",
              "      <th>31</th>\n",
              "      <td>{'dropout1': 0.35, 'dropout2': 0.3, 'dropout3': 1, 'dropout4': 0.3, 'lr': 0.0001, 'third_layer': (128,)}</td>\n",
              "      <td>0.981746</td>\n",
              "      <td>0.001459</td>\n",
              "    </tr>\n",
              "    <tr>\n",
              "      <th>32</th>\n",
              "      <td>{'dropout1': 0.35, 'dropout2': 0.3, 'dropout3': 0, 'dropout4': 1, 'lr': 0.01, 'third_layer': (128,)}</td>\n",
              "      <td>0.941032</td>\n",
              "      <td>0.006464</td>\n",
              "    </tr>\n",
              "    <tr>\n",
              "      <th>33</th>\n",
              "      <td>{'dropout1': 0.35, 'dropout2': 0.3, 'dropout3': 0.3, 'dropout4': 0, 'lr': 0.01, 'third_layer': (128,)}</td>\n",
              "      <td>0.937169</td>\n",
              "      <td>0.007636</td>\n",
              "    </tr>\n",
              "    <tr>\n",
              "      <th>34</th>\n",
              "      <td>{'dropout1': 0.35, 'dropout2': 0.3, 'dropout3': 0.2, 'dropout4': 1, 'lr': 0.01, 'third_layer': (128,)}</td>\n",
              "      <td>0.935132</td>\n",
              "      <td>0.009786</td>\n",
              "    </tr>\n",
              "    <tr>\n",
              "      <th>35</th>\n",
              "      <td>{'dropout1': 0.35, 'dropout2': 0.3, 'dropout3': 1, 'dropout4': 0.2, 'lr': 0.01, 'third_layer': (128,)}</td>\n",
              "      <td>0.931190</td>\n",
              "      <td>0.007227</td>\n",
              "    </tr>\n",
              "    <tr>\n",
              "      <th>36</th>\n",
              "      <td>{'dropout1': 0.35, 'dropout2': 0.3, 'dropout3': 0.2, 'dropout4': 0.2, 'lr': 0.01, 'third_layer': (128,)}</td>\n",
              "      <td>0.923307</td>\n",
              "      <td>0.011640</td>\n",
              "    </tr>\n",
              "    <tr>\n",
              "      <th>37</th>\n",
              "      <td>{'dropout1': 0.35, 'dropout2': 0.3, 'dropout3': 0, 'dropout4': 0.2, 'lr': 0.01, 'third_layer': (128,)}</td>\n",
              "      <td>0.917778</td>\n",
              "      <td>0.036761</td>\n",
              "    </tr>\n",
              "    <tr>\n",
              "      <th>38</th>\n",
              "      <td>{'dropout1': 0.35, 'dropout2': 0.3, 'dropout3': 0, 'dropout4': 0, 'lr': 0.01, 'third_layer': (128,)}</td>\n",
              "      <td>0.917513</td>\n",
              "      <td>0.028194</td>\n",
              "    </tr>\n",
              "    <tr>\n",
              "      <th>39</th>\n",
              "      <td>{'dropout1': 0.35, 'dropout2': 0.3, 'dropout3': 0.2, 'dropout4': 0.3, 'lr': 0.01, 'third_layer': (128,)}</td>\n",
              "      <td>0.905952</td>\n",
              "      <td>0.033350</td>\n",
              "    </tr>\n",
              "    <tr>\n",
              "      <th>40</th>\n",
              "      <td>{'dropout1': 0.35, 'dropout2': 0.3, 'dropout3': 0, 'dropout4': 0.3, 'lr': 0.01, 'third_layer': (128,)}</td>\n",
              "      <td>0.896958</td>\n",
              "      <td>0.058546</td>\n",
              "    </tr>\n",
              "    <tr>\n",
              "      <th>41</th>\n",
              "      <td>{'dropout1': 0.35, 'dropout2': 0.3, 'dropout3': 1, 'dropout4': 0.3, 'lr': 0.01, 'third_layer': (128,)}</td>\n",
              "      <td>0.878942</td>\n",
              "      <td>0.078944</td>\n",
              "    </tr>\n",
              "    <tr>\n",
              "      <th>42</th>\n",
              "      <td>{'dropout1': 0.35, 'dropout2': 0.3, 'dropout3': 0.2, 'dropout4': 0, 'lr': 0.01, 'third_layer': (128,)}</td>\n",
              "      <td>0.868466</td>\n",
              "      <td>0.050496</td>\n",
              "    </tr>\n",
              "    <tr>\n",
              "      <th>43</th>\n",
              "      <td>{'dropout1': 0.35, 'dropout2': 0.3, 'dropout3': 0.3, 'dropout4': 0.3, 'lr': 0.01, 'third_layer': (128,)}</td>\n",
              "      <td>0.665926</td>\n",
              "      <td>0.352564</td>\n",
              "    </tr>\n",
              "    <tr>\n",
              "      <th>44</th>\n",
              "      <td>{'dropout1': 0.35, 'dropout2': 0.3, 'dropout3': 1, 'dropout4': 0, 'lr': 0.01, 'third_layer': (128,)}</td>\n",
              "      <td>0.661323</td>\n",
              "      <td>0.397818</td>\n",
              "    </tr>\n",
              "    <tr>\n",
              "      <th>45</th>\n",
              "      <td>{'dropout1': 0.35, 'dropout2': 0.3, 'dropout3': 0.3, 'dropout4': 0.2, 'lr': 0.01, 'third_layer': (128,)}</td>\n",
              "      <td>0.647487</td>\n",
              "      <td>0.388042</td>\n",
              "    </tr>\n",
              "    <tr>\n",
              "      <th>46</th>\n",
              "      <td>{'dropout1': 0.35, 'dropout2': 0.3, 'dropout3': 1, 'dropout4': 1, 'lr': 0.01, 'third_layer': (128,)}</td>\n",
              "      <td>0.639101</td>\n",
              "      <td>0.381819</td>\n",
              "    </tr>\n",
              "    <tr>\n",
              "      <th>47</th>\n",
              "      <td>{'dropout1': 0.35, 'dropout2': 0.3, 'dropout3': 0.3, 'dropout4': 1, 'lr': 0.01, 'third_layer': (128,)}</td>\n",
              "      <td>0.359656</td>\n",
              "      <td>0.369624</td>\n",
              "    </tr>\n",
              "  </tbody>\n",
              "</table>\n",
              "</div>"
            ],
            "text/plain": [
              "                                                                                                        params  ...      stds\n",
              "0   {'dropout1': 0.35, 'dropout2': 0.3, 'dropout3': 0.2, 'dropout4': 0.3, 'lr': 0.001, 'third_layer': (128,)}   ...  0.000714\n",
              "1   {'dropout1': 0.35, 'dropout2': 0.3, 'dropout3': 0.3, 'dropout4': 0, 'lr': 0.001, 'third_layer': (128,)}     ...  0.000683\n",
              "2   {'dropout1': 0.35, 'dropout2': 0.3, 'dropout3': 0.2, 'dropout4': 0, 'lr': 0.001, 'third_layer': (128,)}     ...  0.001043\n",
              "3   {'dropout1': 0.35, 'dropout2': 0.3, 'dropout3': 0.3, 'dropout4': 0.2, 'lr': 0.001, 'third_layer': (128,)}   ...  0.001384\n",
              "4   {'dropout1': 0.35, 'dropout2': 0.3, 'dropout3': 0.3, 'dropout4': 0.3, 'lr': 0.001, 'third_layer': (128,)}   ...  0.000747\n",
              "5   {'dropout1': 0.35, 'dropout2': 0.3, 'dropout3': 0, 'dropout4': 1, 'lr': 0.001, 'third_layer': (128,)}       ...  0.001332\n",
              "6   {'dropout1': 0.35, 'dropout2': 0.3, 'dropout3': 0, 'dropout4': 0, 'lr': 0.001, 'third_layer': (128,)}       ...  0.001344\n",
              "7   {'dropout1': 0.35, 'dropout2': 0.3, 'dropout3': 1, 'dropout4': 0.2, 'lr': 0.001, 'third_layer': (128,)}     ...  0.001938\n",
              "8   {'dropout1': 0.35, 'dropout2': 0.3, 'dropout3': 1, 'dropout4': 1, 'lr': 0.001, 'third_layer': (128,)}       ...  0.001912\n",
              "9   {'dropout1': 0.35, 'dropout2': 0.3, 'dropout3': 0.2, 'dropout4': 1, 'lr': 0.001, 'third_layer': (128,)}     ...  0.002330\n",
              "10  {'dropout1': 0.35, 'dropout2': 0.3, 'dropout3': 0, 'dropout4': 0.3, 'lr': 0.001, 'third_layer': (128,)}     ...  0.001561\n",
              "11  {'dropout1': 0.35, 'dropout2': 0.3, 'dropout3': 0.3, 'dropout4': 1, 'lr': 0.001, 'third_layer': (128,)}     ...  0.001330\n",
              "12  {'dropout1': 0.35, 'dropout2': 0.3, 'dropout3': 0, 'dropout4': 0.2, 'lr': 0.001, 'third_layer': (128,)}     ...  0.002150\n",
              "13  {'dropout1': 0.35, 'dropout2': 0.3, 'dropout3': 1, 'dropout4': 0.3, 'lr': 0.001, 'third_layer': (128,)}     ...  0.002633\n",
              "14  {'dropout1': 0.35, 'dropout2': 0.3, 'dropout3': 1, 'dropout4': 0, 'lr': 0.001, 'third_layer': (128,)}       ...  0.001033\n",
              "15  {'dropout1': 0.35, 'dropout2': 0.3, 'dropout3': 0.2, 'dropout4': 0.2, 'lr': 0.001, 'third_layer': (128,)}   ...  0.001315\n",
              "16  {'dropout1': 0.35, 'dropout2': 0.3, 'dropout3': 0.2, 'dropout4': 0.2, 'lr': 0.0001, 'third_layer': (128,)}  ...  0.000171\n",
              "17  {'dropout1': 0.35, 'dropout2': 0.3, 'dropout3': 0, 'dropout4': 0, 'lr': 0.0001, 'third_layer': (128,)}      ...  0.001524\n",
              "18  {'dropout1': 0.35, 'dropout2': 0.3, 'dropout3': 0.2, 'dropout4': 1, 'lr': 0.0001, 'third_layer': (128,)}    ...  0.001535\n",
              "19  {'dropout1': 0.35, 'dropout2': 0.3, 'dropout3': 1, 'dropout4': 0, 'lr': 0.0001, 'third_layer': (128,)}      ...  0.000926\n",
              "20  {'dropout1': 0.35, 'dropout2': 0.3, 'dropout3': 1, 'dropout4': 1, 'lr': 0.0001, 'third_layer': (128,)}      ...  0.000737\n",
              "21  {'dropout1': 0.35, 'dropout2': 0.3, 'dropout3': 0.3, 'dropout4': 0, 'lr': 0.0001, 'third_layer': (128,)}    ...  0.001804\n",
              "22  {'dropout1': 0.35, 'dropout2': 0.3, 'dropout3': 0, 'dropout4': 0.3, 'lr': 0.0001, 'third_layer': (128,)}    ...  0.001569\n",
              "23  {'dropout1': 0.35, 'dropout2': 0.3, 'dropout3': 0.2, 'dropout4': 0, 'lr': 0.0001, 'third_layer': (128,)}    ...  0.000361\n",
              "24  {'dropout1': 0.35, 'dropout2': 0.3, 'dropout3': 0, 'dropout4': 0.2, 'lr': 0.0001, 'third_layer': (128,)}    ...  0.001474\n",
              "25  {'dropout1': 0.35, 'dropout2': 0.3, 'dropout3': 1, 'dropout4': 0.2, 'lr': 0.0001, 'third_layer': (128,)}    ...  0.002082\n",
              "26  {'dropout1': 0.35, 'dropout2': 0.3, 'dropout3': 0.3, 'dropout4': 0.3, 'lr': 0.0001, 'third_layer': (128,)}  ...  0.000992\n",
              "27  {'dropout1': 0.35, 'dropout2': 0.3, 'dropout3': 0, 'dropout4': 1, 'lr': 0.0001, 'third_layer': (128,)}      ...  0.002045\n",
              "28  {'dropout1': 0.35, 'dropout2': 0.3, 'dropout3': 0.3, 'dropout4': 0.2, 'lr': 0.0001, 'third_layer': (128,)}  ...  0.000773\n",
              "29  {'dropout1': 0.35, 'dropout2': 0.3, 'dropout3': 0.3, 'dropout4': 1, 'lr': 0.0001, 'third_layer': (128,)}    ...  0.000955\n",
              "30  {'dropout1': 0.35, 'dropout2': 0.3, 'dropout3': 0.2, 'dropout4': 0.3, 'lr': 0.0001, 'third_layer': (128,)}  ...  0.001160\n",
              "31  {'dropout1': 0.35, 'dropout2': 0.3, 'dropout3': 1, 'dropout4': 0.3, 'lr': 0.0001, 'third_layer': (128,)}    ...  0.001459\n",
              "32  {'dropout1': 0.35, 'dropout2': 0.3, 'dropout3': 0, 'dropout4': 1, 'lr': 0.01, 'third_layer': (128,)}        ...  0.006464\n",
              "33  {'dropout1': 0.35, 'dropout2': 0.3, 'dropout3': 0.3, 'dropout4': 0, 'lr': 0.01, 'third_layer': (128,)}      ...  0.007636\n",
              "34  {'dropout1': 0.35, 'dropout2': 0.3, 'dropout3': 0.2, 'dropout4': 1, 'lr': 0.01, 'third_layer': (128,)}      ...  0.009786\n",
              "35  {'dropout1': 0.35, 'dropout2': 0.3, 'dropout3': 1, 'dropout4': 0.2, 'lr': 0.01, 'third_layer': (128,)}      ...  0.007227\n",
              "36  {'dropout1': 0.35, 'dropout2': 0.3, 'dropout3': 0.2, 'dropout4': 0.2, 'lr': 0.01, 'third_layer': (128,)}    ...  0.011640\n",
              "37  {'dropout1': 0.35, 'dropout2': 0.3, 'dropout3': 0, 'dropout4': 0.2, 'lr': 0.01, 'third_layer': (128,)}      ...  0.036761\n",
              "38  {'dropout1': 0.35, 'dropout2': 0.3, 'dropout3': 0, 'dropout4': 0, 'lr': 0.01, 'third_layer': (128,)}        ...  0.028194\n",
              "39  {'dropout1': 0.35, 'dropout2': 0.3, 'dropout3': 0.2, 'dropout4': 0.3, 'lr': 0.01, 'third_layer': (128,)}    ...  0.033350\n",
              "40  {'dropout1': 0.35, 'dropout2': 0.3, 'dropout3': 0, 'dropout4': 0.3, 'lr': 0.01, 'third_layer': (128,)}      ...  0.058546\n",
              "41  {'dropout1': 0.35, 'dropout2': 0.3, 'dropout3': 1, 'dropout4': 0.3, 'lr': 0.01, 'third_layer': (128,)}      ...  0.078944\n",
              "42  {'dropout1': 0.35, 'dropout2': 0.3, 'dropout3': 0.2, 'dropout4': 0, 'lr': 0.01, 'third_layer': (128,)}      ...  0.050496\n",
              "43  {'dropout1': 0.35, 'dropout2': 0.3, 'dropout3': 0.3, 'dropout4': 0.3, 'lr': 0.01, 'third_layer': (128,)}    ...  0.352564\n",
              "44  {'dropout1': 0.35, 'dropout2': 0.3, 'dropout3': 1, 'dropout4': 0, 'lr': 0.01, 'third_layer': (128,)}        ...  0.397818\n",
              "45  {'dropout1': 0.35, 'dropout2': 0.3, 'dropout3': 0.3, 'dropout4': 0.2, 'lr': 0.01, 'third_layer': (128,)}    ...  0.388042\n",
              "46  {'dropout1': 0.35, 'dropout2': 0.3, 'dropout3': 1, 'dropout4': 1, 'lr': 0.01, 'third_layer': (128,)}        ...  0.381819\n",
              "47  {'dropout1': 0.35, 'dropout2': 0.3, 'dropout3': 0.3, 'dropout4': 1, 'lr': 0.01, 'third_layer': (128,)}      ...  0.369624\n",
              "\n",
              "[48 rows x 3 columns]"
            ]
          },
          "metadata": {
            "tags": []
          },
          "execution_count": 27
        }
      ]
    },
    {
      "cell_type": "code",
      "metadata": {
        "id": "jjZDQ5t8XZHE",
        "colab_type": "code",
        "colab": {}
      },
      "source": [
        "for i in param_comp[\"params\"]:\n",
        "    print(i)\n",
        "# param_comp.loc[1,\"params\"]"
      ],
      "execution_count": 0,
      "outputs": []
    },
    {
      "cell_type": "markdown",
      "metadata": {
        "id": "4D4Y_nO-5BM6",
        "colab_type": "text"
      },
      "source": [
        "## Analysis Result"
      ]
    },
    {
      "cell_type": "code",
      "metadata": {
        "id": "hYd-DmELNpFl",
        "colab_type": "code",
        "outputId": "6f13bfe4-8d47-4724-f388-a9f6e6c6f25d",
        "colab": {
          "base_uri": "https://localhost:8080/",
          "height": 447
        }
      },
      "source": [
        "# print the confusion matrix for the model evaluated on the validation data\n",
        "\n",
        "Y_predict_class = np.argmax(model.predict(X_val), axis=1)\n",
        "# Y_predict_class = np.argmax(model.predict(X_train_aug), axis=1)\n",
        "\n",
        "cm = confusion_matrix(np.argmax(Y_val, axis=1), Y_predict_class)  # C(i,j) = # of labels i classified as j\n",
        "# cm = confusion_matrix(np.argmax(Y_train_aug, axis=1), Y_predict_class)\n",
        "plt.figure(figsize = (10,7))\n",
        "sns.set(font_scale=0.8) # for label size\n",
        "sns.heatmap(pd.DataFrame(cm, index=pd.RangeIndex(10), columns=pd.RangeIndex(10)) , annot=True, cmap=plt.cm.Blues)\n",
        "print(\"total missing: \", (np.argmax(Y_val, axis=1) != Y_predict_class).sum())"
      ],
      "execution_count": 20,
      "outputs": [
        {
          "output_type": "stream",
          "text": [
            "total missing:  16\n"
          ],
          "name": "stdout"
        },
        {
          "output_type": "display_data",
          "data": {
            "image/png": "[encoded data removed]",
            "text/plain": [
              "<Figure size 720x504 with 2 Axes>"
            ]
          },
          "metadata": {
            "tags": [],
            "needs_background": "light"
          }
        }
      ]
    },
    {
      "cell_type": "code",
      "metadata": {
        "id": "t1MLuWHlNpFp",
        "colab_type": "code",
        "outputId": "d984c3a0-25f9-4067-e7ce-66cd8a06a300",
        "colab": {
          "base_uri": "https://localhost:8080/",
          "height": 390
        }
      },
      "source": [
        "# print the total missing for each digit\n",
        "\n",
        "Y_val_class = np.argmax(Y_val, axis=1)\n",
        "# Y_val_class = np.argmax(Y_train_aug, axis=1)\n",
        "result = pd.DataFrame({\"true\":Y_val_class, \"predict\":Y_predict_class})\n",
        "missing_by_label = result.groupby(\"true\").apply(lambda df: (df[\"true\"] != df[\"predict\"]).sum()).to_frame().rename(columns={0:\"count\"})\n",
        "missing_by_label"
      ],
      "execution_count": 21,
      "outputs": [
        {
          "output_type": "execute_result",
          "data": {
            "text/html": [
              "<div>\n",
              "<style scoped>\n",
              "    .dataframe tbody tr th:only-of-type {\n",
              "        vertical-align: middle;\n",
              "    }\n",
              "\n",
              "    .dataframe tbody tr th {\n",
              "        vertical-align: top;\n",
              "    }\n",
              "\n",
              "    .dataframe thead th {\n",
              "        text-align: right;\n",
              "    }\n",
              "</style>\n",
              "<table border=\"1\" class=\"dataframe\">\n",
              "  <thead>\n",
              "    <tr style=\"text-align: right;\">\n",
              "      <th></th>\n",
              "      <th>count</th>\n",
              "    </tr>\n",
              "    <tr>\n",
              "      <th>true</th>\n",
              "      <th></th>\n",
              "    </tr>\n",
              "  </thead>\n",
              "  <tbody>\n",
              "    <tr>\n",
              "      <th>0</th>\n",
              "      <td>1</td>\n",
              "    </tr>\n",
              "    <tr>\n",
              "      <th>1</th>\n",
              "      <td>2</td>\n",
              "    </tr>\n",
              "    <tr>\n",
              "      <th>2</th>\n",
              "      <td>0</td>\n",
              "    </tr>\n",
              "    <tr>\n",
              "      <th>3</th>\n",
              "      <td>3</td>\n",
              "    </tr>\n",
              "    <tr>\n",
              "      <th>4</th>\n",
              "      <td>3</td>\n",
              "    </tr>\n",
              "    <tr>\n",
              "      <th>5</th>\n",
              "      <td>2</td>\n",
              "    </tr>\n",
              "    <tr>\n",
              "      <th>6</th>\n",
              "      <td>1</td>\n",
              "    </tr>\n",
              "    <tr>\n",
              "      <th>7</th>\n",
              "      <td>0</td>\n",
              "    </tr>\n",
              "    <tr>\n",
              "      <th>8</th>\n",
              "      <td>1</td>\n",
              "    </tr>\n",
              "    <tr>\n",
              "      <th>9</th>\n",
              "      <td>3</td>\n",
              "    </tr>\n",
              "  </tbody>\n",
              "</table>\n",
              "</div>"
            ],
            "text/plain": [
              "      count\n",
              "true       \n",
              "0         1\n",
              "1         2\n",
              "2         0\n",
              "3         3\n",
              "4         3\n",
              "5         2\n",
              "6         1\n",
              "7         0\n",
              "8         1\n",
              "9         3"
            ]
          },
          "metadata": {
            "tags": []
          },
          "execution_count": 21
        }
      ]
    },
    {
      "cell_type": "code",
      "metadata": {
        "id": "QCCNrnIPK88W",
        "colab_type": "code",
        "outputId": "9227e84e-8df1-492a-ff5b-367887c248a5",
        "colab": {
          "base_uri": "https://localhost:8080/",
          "height": 34
        }
      },
      "source": [
        "X_val.shape"
      ],
      "execution_count": 22,
      "outputs": [
        {
          "output_type": "execute_result",
          "data": {
            "text/plain": [
              "(4200, 28, 28, 1)"
            ]
          },
          "metadata": {
            "tags": []
          },
          "execution_count": 22
        }
      ]
    },
    {
      "cell_type": "code",
      "metadata": {
        "id": "T1Ev_uXTBbVW",
        "colab_type": "code",
        "outputId": "3037e611-98cc-4bd3-ef9a-8e2d7719d259",
        "colab": {
          "base_uri": "https://localhost:8080/",
          "height": 673
        }
      },
      "source": [
        "## print some confusing figures that defeat the model:\n",
        "\n",
        "Y_predict_class = np.argmax(model.predict(X_val), axis=1)\n",
        "Y_val_class = np.argmax(Y_val, axis=1)\n",
        "worst_label = missing_by_label[\"count\"].argmax()\n",
        "error_index = (Y_predict_class != Y_val_class) & (Y_val_class == worst_label)\n",
        "error_pixel = X_val[error_index, :, :, 0]\n",
        "error_label = Y_predict_class[error_index]\n",
        "\n",
        "num = error_index.sum()\n",
        "fig, axes = plt.subplots(num, 1, figsize=(3, num*3), constrained_layout=True)\n",
        "for i in range(num):\n",
        "    axes[i].imshow(error_pixel[i], cmap=\"Greys\")\n",
        "    axes[i].set_title(\"label: %d, classified as: %d\" % (worst_label, error_label[i]))\n",
        "\n",
        "# ax[i].imshow(example[0][:,:,0], cmap=\"Greys\")\n",
        "#     ax[i].set_title(\"labels: % d\" % example_label)\n",
        "# error_label"
      ],
      "execution_count": 23,
      "outputs": [
        {
          "output_type": "display_data",
          "data": {
            "image/png": "[encoded data removed]",
            "text/plain": [
              "<Figure size 216x648 with 3 Axes>"
            ]
          },
          "metadata": {
            "tags": []
          }
        }
      ]
    },
    {
      "cell_type": "markdown",
      "metadata": {
        "id": "Ss4zdPR9ChMl",
        "colab_type": "text"
      },
      "source": [
        "## Prediction on Test Data & Submission"
      ]
    },
    {
      "cell_type": "code",
      "metadata": {
        "id": "ipEAfHx_CjU7",
        "colab_type": "code",
        "outputId": "eaeaeb35-a58c-4043-b65c-06c355c99840",
        "colab": {
          "base_uri": "https://localhost:8080/",
          "height": 419
        }
      },
      "source": [
        "test_df = pd.read_csv(test_fp)\n",
        "X_test = np.reshape(test_df.values / 255, (-1, 28, 28, 1))\n",
        "\n",
        "test_prediction = np.argmax(model.predict(X_test), axis=1)\n",
        "test_result_sr = pd.DataFrame({\"ImageId\": np.arange(1, len(test_prediction)+1), \"Label\": test_prediction})\n",
        "test_result_sr"
      ],
      "execution_count": 24,
      "outputs": [
        {
          "output_type": "execute_result",
          "data": {
            "text/html": [
              "<div>\n",
              "<style scoped>\n",
              "    .dataframe tbody tr th:only-of-type {\n",
              "        vertical-align: middle;\n",
              "    }\n",
              "\n",
              "    .dataframe tbody tr th {\n",
              "        vertical-align: top;\n",
              "    }\n",
              "\n",
              "    .dataframe thead th {\n",
              "        text-align: right;\n",
              "    }\n",
              "</style>\n",
              "<table border=\"1\" class=\"dataframe\">\n",
              "  <thead>\n",
              "    <tr style=\"text-align: right;\">\n",
              "      <th></th>\n",
              "      <th>ImageId</th>\n",
              "      <th>Label</th>\n",
              "    </tr>\n",
              "  </thead>\n",
              "  <tbody>\n",
              "    <tr>\n",
              "      <th>0</th>\n",
              "      <td>1</td>\n",
              "      <td>2</td>\n",
              "    </tr>\n",
              "    <tr>\n",
              "      <th>1</th>\n",
              "      <td>2</td>\n",
              "      <td>0</td>\n",
              "    </tr>\n",
              "    <tr>\n",
              "      <th>2</th>\n",
              "      <td>3</td>\n",
              "      <td>9</td>\n",
              "    </tr>\n",
              "    <tr>\n",
              "      <th>3</th>\n",
              "      <td>4</td>\n",
              "      <td>0</td>\n",
              "    </tr>\n",
              "    <tr>\n",
              "      <th>4</th>\n",
              "      <td>5</td>\n",
              "      <td>3</td>\n",
              "    </tr>\n",
              "    <tr>\n",
              "      <th>...</th>\n",
              "      <td>...</td>\n",
              "      <td>...</td>\n",
              "    </tr>\n",
              "    <tr>\n",
              "      <th>27995</th>\n",
              "      <td>27996</td>\n",
              "      <td>9</td>\n",
              "    </tr>\n",
              "    <tr>\n",
              "      <th>27996</th>\n",
              "      <td>27997</td>\n",
              "      <td>7</td>\n",
              "    </tr>\n",
              "    <tr>\n",
              "      <th>27997</th>\n",
              "      <td>27998</td>\n",
              "      <td>3</td>\n",
              "    </tr>\n",
              "    <tr>\n",
              "      <th>27998</th>\n",
              "      <td>27999</td>\n",
              "      <td>9</td>\n",
              "    </tr>\n",
              "    <tr>\n",
              "      <th>27999</th>\n",
              "      <td>28000</td>\n",
              "      <td>2</td>\n",
              "    </tr>\n",
              "  </tbody>\n",
              "</table>\n",
              "<p>28000 rows × 2 columns</p>\n",
              "</div>"
            ],
            "text/plain": [
              "       ImageId  Label\n",
              "0            1      2\n",
              "1            2      0\n",
              "2            3      9\n",
              "3            4      0\n",
              "4            5      3\n",
              "...        ...    ...\n",
              "27995    27996      9\n",
              "27996    27997      7\n",
              "27997    27998      3\n",
              "27998    27999      9\n",
              "27999    28000      2\n",
              "\n",
              "[28000 rows x 2 columns]"
            ]
          },
          "metadata": {
            "tags": []
          },
          "execution_count": 24
        }
      ]
    },
    {
      "cell_type": "code",
      "metadata": {
        "id": "TURge_5oCjaR",
        "colab_type": "code",
        "colab": {}
      },
      "source": [
        "output_fp = os.path.join(\"/content/drive/My Drive/Colab Notebooks/Digit Recognition/data/submission.csv\")\n",
        "test_result_sr.to_csv(output_fp, index=False)"
      ],
      "execution_count": 0,
      "outputs": []
    },
    {
      "cell_type": "markdown",
      "metadata": {
        "id": "d5wRMcwGXS7c",
        "colab_type": "text"
      },
      "source": [
        "## Remarks\n",
        "\n",
        "* The digit 4 and the digit 9 often confuse the model and appear in the analysis result section, but it should be reasonable as a closer look at those failing images will reveal the difficulty for classification even for humans.\n",
        "\n",
        "* On the other side, the digit 5 constantly appears in the failing list, and it is easy for the model to confuse 5 with 3, 6, 8, .... One possible explanation is that the digit 5 has the least amount of data for training and validation as shown in the analysis in the Dataset Overview sections."
      ]
    },
    {
      "cell_type": "markdown",
      "metadata": {
        "id": "Rf5JKrh_NpGN",
        "colab_type": "text"
      },
      "source": [
        "# Reference:\n",
        "* Kaggle recommended notebook for CNN introduction on digit recognization:\n",
        "https://www.kaggle.com/yassineghouzam/introduction-to-cnn-keras-0-997-top-6/notebook#2.-Data-preparation\n",
        "\n",
        "* Image Data Preprocessing: https://github.com/ctwayen/Digit-Recognizer\n",
        "\n",
        "* Learning rate schedules by ReduceRLOnPlateau: https://machinelearningmastery.com/understand-the-dynamics-of-learning-rate-on-deep-learning-neural-networks/\n",
        "\n",
        "* Tune hyperparameter using gridSearchCV from sklearn: \n",
        "https://machinelearningmastery.com/grid-search-hyperparameters-deep-learning-models-python-keras/\n"
      ]
    },
    {
      "cell_type": "code",
      "metadata": {
        "id": "Cfl_1P1fkP0s",
        "colab_type": "code",
        "colab": {}
      },
      "source": [
        ""
      ],
      "execution_count": 0,
      "outputs": []
    }
  ]
}